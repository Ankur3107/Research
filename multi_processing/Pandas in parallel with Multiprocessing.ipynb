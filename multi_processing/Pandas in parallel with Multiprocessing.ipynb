{
 "cells": [
  {
   "cell_type": "code",
   "execution_count": 1,
   "metadata": {},
   "outputs": [],
   "source": [
    "import pandas as pd\n",
    "import numpy as np\n",
    "import multiprocessing\n",
    "from functools import partial\n",
    "\n",
    "def _df_split(tup_arg, **kwargs):\n",
    "\tsplit_ind, df_split, df_f_name = tup_arg\n",
    "\treturn (split_ind, getattr(df_split, df_f_name)(**kwargs))\n",
    "\n",
    "def df_multi_core(df, df_f_name, subset=None, njobs=-1, **kwargs):\n",
    "\tif njobs == -1:\n",
    "\t\tnjobs = multiprocessing.cpu_count()\n",
    "\tpool = multiprocessing.Pool(processes=njobs)\n",
    "\n",
    "\ttry:\n",
    "\t\tsplits = np.array_split(df[subset], njobs)\n",
    "\texcept ValueError:\n",
    "\t\tsplits = np.array_split(df, njobs)\n",
    "\n",
    "\tpool_data = [(split_ind, df_split, df_f_name) for split_ind, df_split in enumerate(splits)]\n",
    "\tresults = pool.map(partial(_df_split, **kwargs), pool_data)\n",
    "\tpool.close()\n",
    "\tpool.join()\n",
    "\tresults = sorted(results, key=lambda x:x[0])\n",
    "\tresults = pd.concat([split[1] for split in results])\n",
    "\treturn results\n",
    "\n",
    "\n",
    "# testing on \"apply\" and \"isin\" pandas functions\n",
    "# you can also use tqdm's progress_apply (a pandas plugin function), to get nice progrees bars per each core (but slower..)\n",
    "from time import time\n",
    "from tqdm import tqdm"
   ]
  },
  {
   "cell_type": "code",
   "execution_count": 2,
   "metadata": {
    "scrolled": true
   },
   "outputs": [
    {
     "name": "stdout",
     "output_type": "stream",
     "text": [
      "--------------------------------------------------\n",
      "testing pandas isin on (10000000, 2)\n",
      "--------------------------------------------------\n",
      "result\n",
      "c1    951375\n",
      "c2    951533\n",
      "dtype: int64\n",
      "time for native implementation 4.7\n",
      "--------------------------------------------------\n",
      "result\n",
      "c1    951375\n",
      "dtype: int64\n",
      "time for multi core implementation 1.15\n",
      "--------------------------------------------------\n",
      "testing pandas apply on (1000000, 2)\n",
      "--------------------------------------------------\n",
      "result random sample\n",
      "157105    157105.1\n",
      "374554    374554.1\n",
      "688694    688694.1\n",
      "dtype: float64\n",
      "time for native implementation 15.79\n",
      "--------------------------------------------------\n",
      "result random sample\n",
      "157105    157105.1\n",
      "374554    374554.1\n",
      "688694    688694.1\n",
      "dtype: float64\n",
      "time for multi core implementation 3.22\n",
      "--------------------------------------------------\n"
     ]
    }
   ],
   "source": [
    "def sample_test()\n",
    "    sep = '-' * 50\n",
    "\n",
    "    # isin test\n",
    "    N = 10000000\n",
    "    df = pd.DataFrame({'c1': np.random.randint(low=1, high=N, size=N), 'c2': np.arange(N)})\n",
    "    lookfor = np.random.randint(low=1, high=N, size=1000000)\n",
    "\n",
    "    print('{}\\ntesting pandas isin on {}\\n{}'.format(sep, df.shape, sep))\n",
    "    t1 = time()\n",
    "    print('result\\n{}'.format(df.isin(lookfor).sum()))\n",
    "    t2 = time()\n",
    "    print('time for native implementation {}\\n{}'.format(round(t2 - t1, 2), sep))\n",
    "\n",
    "    t3 = time()\n",
    "    res = df_multi_core(df=df, df_f_name='isin', subset=['c1'], njobs=-1, values=lookfor)\n",
    "    print('result\\n{}'.format(res.sum()))\n",
    "    t4 = time()\n",
    "    print('time for multi core implementation {}\\n{}'.format(round(t4 - t3, 2), sep))\n",
    "\n",
    "    def apply_f(row):\n",
    "        return row['c1'] + 0.1\n",
    "    # apply / tqdm apply test\n",
    "    N = 1000000\n",
    "    np.random.seed(0)\n",
    "    df = pd.DataFrame({'c1': np.arange(N), 'c2': np.arange(N)})\n",
    "\n",
    "    print('testing pandas apply on {}\\n{}'.format(df.shape, sep))\n",
    "    t1 = time()\n",
    "    # res = df.progress_apply(apply_f, axis=1)\n",
    "    # tqdm.pandas()\n",
    "    res = df.apply(apply_f, axis=1)\n",
    "    t2 = time()\n",
    "    print('result random sample\\n{}'.format(res.sample(n=3, random_state=0)))\n",
    "    print('time for native implementation {}\\n{}'.format(round(t2 - t1, 2), sep))\n",
    "\n",
    "    t3 = time()\n",
    "    res = df_multi_core(df=df, df_f_name='apply', subset=['c1'], njobs=-1, func=apply_f, axis=1)\n",
    "    t4 = time()\n",
    "    print('result random sample\\n{}'.format(res.sample(n=3, random_state=0)))\n",
    "    print('time for multi core implementation {}\\n{}'.format(round(t4 - t3, 2), sep))"
   ]
  },
  {
   "cell_type": "code",
   "execution_count": 2,
   "metadata": {},
   "outputs": [
    {
     "data": {
      "text/plain": [
       "(10000, 2)"
      ]
     },
     "execution_count": 2,
     "metadata": {},
     "output_type": "execute_result"
    }
   ],
   "source": [
    "import pandas as pd\n",
    "df = pd.read_csv('/Users/ankur.kumar/Desktop/Work/projects/client/pantaloon/Pantaloon-MH-processed.csv')[['UID', 'Cleaned_Verbatim']]\n",
    "df = df.drop_duplicates(['UID'])\n",
    "df = df[0:10000]\n",
    "df.shape"
   ]
  },
  {
   "cell_type": "code",
   "execution_count": 3,
   "metadata": {},
   "outputs": [],
   "source": [
    "import spacy\n",
    "nlp = spacy.load('en_core_web_sm')"
   ]
  },
  {
   "cell_type": "code",
   "execution_count": 6,
   "metadata": {},
   "outputs": [],
   "source": [
    "def tokenize(row):\n",
    "    doc = nlp(row['Cleaned_Verbatim'])\n",
    "    return [d.text for d in doc]"
   ]
  },
  {
   "cell_type": "code",
   "execution_count": 8,
   "metadata": {},
   "outputs": [
    {
     "name": "stdout",
     "output_type": "stream",
     "text": [
      "CPU times: user 122 ms, sys: 56.3 ms, total: 178 ms\n",
      "Wall time: 20.4 s\n"
     ]
    }
   ],
   "source": [
    "%%time\n",
    "res = df_multi_core(df=df, df_f_name='apply', subset=['Cleaned_Verbatim'], njobs=6, func=tokenize, axis=1)"
   ]
  },
  {
   "cell_type": "code",
   "execution_count": 10,
   "metadata": {
    "scrolled": true
   },
   "outputs": [
    {
     "data": {
      "text/plain": [
       "array([list(['1', '.', 'the', 'fit', '&', 'price', 'was', 'good', '.', '2', '.', 'i', 'was', 'not', 'looking', 'for', 'any', 'particular', 'brand', 'or', 'product', '.', '3', '.', 'this', 'is', 'was', 'just', 'a', 'casual', 'shopping', '.', '4', '.', 'the', 'staff', 'did', 'assist', 'me', 'well', '.', '5', '.', 'apart', 'form', 'pantaloons', 'i', 'also', 'shop', 'west', '-', 'side6', '.', 'recommend', 'pantaloons', 'to', 'friends', '&', 'family', '-', 'yes']),\n",
       "       list(['1', '.', 'i', 'am', 'satisfied', 'with', 'the', 'staff', 'service', '.', '2', '.', 'the', 'staff', 'was', 'very', 'helpful', 'to', 'me', '.', '3', '.', 'they', 'explained', 'me', 'about', 'the', 'products', '.', '4', '.', 'recommend', 'pantaloons', 'to', 'friends', '&', 'family', '-', 'yes']),\n",
       "       list(['1', '.', 'i', 'am', 'fine', 'with', 'the', 'range', 'and', 'variety', '.', '2', '.', 'the', 'fit', 'and', 'price', 'is', 'also', 'good', '.', '3', '.', 'i', 'got', 'all', 'the', 'products', 'whatever', 'i', 'was', 'looking', '.', '4', '.', 'it', 'was', 'a', 'casual', 'shopping', '5', '.', 'staff', 'was', 'also', 'good', 'they', 'helped', 'me', '6', '.', 'recommend', 'pantaloons', 'with', 'friends', 'and', 'family', '-', 'yes']),\n",
       "       ...,\n",
       "       list(['1', '.', 'i', 'liked', 'the', 'staff', 'service', '2', '.', 'they', 'helped', 'me', 'to', 'buy', 'products', '3', '.', 'suggestion', '-', 'to', 'increase', 'the', 'price', 'of', 'the', 'products', '4', '.', 'recommend', 'pantaloons', 'to', 'friends', 'and', 'family', '-', 'yes']),\n",
       "       list(['1', '.', 'there', 'were', 'not', 'many', 'collections', 'available', 'in', 'the', 'store', 'i', 'was', 'browsing', 'in', 'women', 'section2', '.', 'i', 'was', 'looking', 'for', 'kurti', 'in', 'more', 'designs', 'and', 'in', 'more', 'variety', 'which', 'was', 'not', 'available', '&', 'i', 'wanted', 'in', 's', 'size', '3', '.', 'i', 'am', 'not', 'looking', 'for', 'any', 'particular', 'brand', 'suggested', ':', 'rangmanch', 'akkriti4', '.', 'staff', 'did', 'not', 'assisted', 'me', '5', '.', 'this', 'shopping', 'was', 'for', 'an', 'occasion6', '.', 'i', 'am', 'not', 'looking', 'for', 'any', 'price', 'range', '7', '.', 'apart', 'from', 'pantaloons', 'i', 'shop', 'from', 'reliance', 'trend', '8', '.', 'if', 'the', 'collections', 'is', 'been', 'available', 'you', 'can', 'update', 'me', 'through', 'sms']),\n",
       "       list(['1', '.', 'i', 'was', 'not', 'satisfied', 'with', 'the', 'offers', '2', '.', 'i', 'was', 'looking', 'for', 'peter', 'england', 'brand', 'the', 'price', 'of', 'the', 'shirt', 'is', '1200', '/', '-', 'and', 'for', 'pants', 'its', '3000', '/', '-', 'and', 'you', 'give', 'the', 'discount', 'for', 'rs', '500', '/', '-', '3', '.', 'so', 'there', 'is', 'no', 'use', 'of', 'that', 'discount', 'because', 'if', 'i', 'would', 'have', 'purchased', 'in', 'single', 'items', 'it', 'would', 'have', 'been', 'the', 'same', 'price'])],\n",
       "      dtype=object)"
      ]
     },
     "execution_count": 10,
     "metadata": {},
     "output_type": "execute_result"
    }
   ],
   "source": [
    "res.values"
   ]
  },
  {
   "cell_type": "code",
   "execution_count": 12,
   "metadata": {},
   "outputs": [],
   "source": [
    "from fastprogress import *\n",
    "from concurrent.futures import ProcessPoolExecutor\n",
    "import numpy as np\n",
    "import functools, operator\n",
    "\n",
    "#function\n",
    "def parallel(func, items, chunksize=None, max_workers=1):\n",
    "    \n",
    "    if chunksize:\n",
    "        arr = [np.array(items[i: i+chunksize]) for i in (range(0, len(items), chunksize))]\n",
    "    else:\n",
    "        arr = np.array_split(items, max_workers)\n",
    "\n",
    "    if max_workers<2: results = list(progress_bar(map(func, enumerate(arr)), total=len(arr)))\n",
    "    else:\n",
    "        with ProcessPoolExecutor(max_workers=max_workers) as ex:\n",
    "            return list(progress_bar(ex.map(func, enumerate(arr)), total=len(arr)))\n",
    "    if any([o is not None for o in results]): return results\n"
   ]
  },
  {
   "cell_type": "code",
   "execution_count": 21,
   "metadata": {
    "scrolled": true
   },
   "outputs": [
    {
     "data": {
      "text/html": [
       "\n",
       "    <div>\n",
       "        <style>\n",
       "            /* Turns off some styling */\n",
       "            progress {\n",
       "                /* gets rid of default border in Firefox and Opera. */\n",
       "                border: none;\n",
       "                /* Needs to be in here for Safari polyfill so background images work as expected. */\n",
       "                background-size: auto;\n",
       "            }\n",
       "            .progress-bar-interrupted, .progress-bar-interrupted::-webkit-progress-bar {\n",
       "                background: #F44336;\n",
       "            }\n",
       "        </style>\n",
       "      <progress value='6' class='' max='6' style='width:300px; height:20px; vertical-align: middle;'></progress>\n",
       "      100.00% [6/6 00:12<00:00]\n",
       "    </div>\n",
       "    "
      ],
      "text/plain": [
       "<IPython.core.display.HTML object>"
      ]
     },
     "metadata": {},
     "output_type": "display_data"
    }
   ],
   "source": [
    "def tokenize(chunk):\n",
    "    docs = [[d.text for d in doc] for doc in nlp.pipe(chunk[1])]\n",
    "    return docs\n",
    "\n",
    "items = df['Cleaned_Verbatim'].values\n",
    "results = parallel(tokenize, items, max_workers=6)"
   ]
  },
  {
   "cell_type": "code",
   "execution_count": 25,
   "metadata": {},
   "outputs": [],
   "source": [
    "type(results)"
   ]
  },
  {
   "cell_type": "code",
   "execution_count": null,
   "metadata": {},
   "outputs": [],
   "source": []
  }
 ],
 "metadata": {
  "kernelspec": {
   "display_name": "Python 3.7.5 64-bit ('tf2_env': venv)",
   "language": "python",
   "name": "python37564bittf2envvenv9baad5f63bf544adb456767f347f0830"
  },
  "language_info": {
   "codemirror_mode": {
    "name": "ipython",
    "version": 3
   },
   "file_extension": ".py",
   "mimetype": "text/x-python",
   "name": "python",
   "nbconvert_exporter": "python",
   "pygments_lexer": "ipython3",
   "version": "3.7.5"
  }
 },
 "nbformat": 4,
 "nbformat_minor": 4
}
