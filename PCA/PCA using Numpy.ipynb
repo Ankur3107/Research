{
 "cells": [
  {
   "cell_type": "code",
   "execution_count": 6,
   "metadata": {},
   "outputs": [],
   "source": [
    "from sklearn.decomposition import PCA\n",
    "import numpy as np"
   ]
  },
  {
   "cell_type": "markdown",
   "metadata": {},
   "source": [
    "## PCA using sklean"
   ]
  },
  {
   "cell_type": "code",
   "execution_count": 7,
   "metadata": {},
   "outputs": [
    {
     "name": "stdout",
     "output_type": "stream",
     "text": [
      "Data:  [[0.5 1. ]\n",
      " [0.  0. ]]\n",
      "Reduced:  [[-0.55901699]\n",
      " [ 0.55901699]]\n"
     ]
    }
   ],
   "source": [
    "k = 1 # target dimension(s)\n",
    "pca = PCA(k)\n",
    "data = np.array([[0.5, 1], [0, 0]]) # 2x2 data matrix\n",
    "print(\"Data: \", data)\n",
    "print(\"Reduced: \", pca.fit_transform(data)) # fit and transform"
   ]
  },
  {
   "cell_type": "markdown",
   "metadata": {},
   "source": [
    "## PCA using numpy"
   ]
  },
  {
   "cell_type": "code",
   "execution_count": 9,
   "metadata": {},
   "outputs": [
    {
     "data": {
      "text/plain": [
       "array([[0.5, 1. ],\n",
       "       [0. , 0. ]])"
      ]
     },
     "execution_count": 9,
     "metadata": {},
     "output_type": "execute_result"
    }
   ],
   "source": [
    "data = np.array([[0.5, 1], [0, 0]]) # 2x2 data matrix\n",
    "data"
   ]
  },
  {
   "cell_type": "code",
   "execution_count": 10,
   "metadata": {},
   "outputs": [
    {
     "name": "stdout",
     "output_type": "stream",
     "text": [
      "Centered Matrix:  [[ 0.25  0.5 ]\n",
      " [-0.25 -0.5 ]]\n"
     ]
    }
   ],
   "source": [
    "## 1. Make origin the centroid of our data.\n",
    "data = data - data.mean(axis=0) # Center data points\n",
    "print(\"Centered Matrix: \", data)"
   ]
  },
  {
   "cell_type": "code",
   "execution_count": 11,
   "metadata": {},
   "outputs": [
    {
     "name": "stdout",
     "output_type": "stream",
     "text": [
      "Covariance matrix:  [[0.0625 0.125 ]\n",
      " [0.125  0.25  ]]\n"
     ]
    }
   ],
   "source": [
    "## 2. Get covariance matrix of our features\n",
    "cov = np.cov(data.T) / data.shape[0] # Get covariance matrix\n",
    "print(\"Covariance matrix: \", cov)"
   ]
  },
  {
   "cell_type": "code",
   "execution_count": null,
   "metadata": {},
   "outputs": [],
   "source": [
    "v, w = np.linalg.eig(cov)"
   ]
  },
  {
   "cell_type": "code",
   "execution_count": null,
   "metadata": {},
   "outputs": [],
   "source": []
  }
 ],
 "metadata": {
  "kernelspec": {
   "display_name": "Python 3.7.5 64-bit ('tf2_env': venv)",
   "language": "python",
   "name": "python37564bittf2envvenv9baad5f63bf544adb456767f347f0830"
  },
  "language_info": {
   "codemirror_mode": {
    "name": "ipython",
    "version": 3
   },
   "file_extension": ".py",
   "mimetype": "text/x-python",
   "name": "python",
   "nbconvert_exporter": "python",
   "pygments_lexer": "ipython3",
   "version": "3.7.5"
  }
 },
 "nbformat": 4,
 "nbformat_minor": 2
}
