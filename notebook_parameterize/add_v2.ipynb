{
 "cells": [
  {
   "cell_type": "code",
   "execution_count": 1,
   "metadata": {
    "execution": {
     "iopub.execute_input": "2020-07-19T05:34:58.246279Z",
     "iopub.status.busy": "2020-07-19T05:34:58.245414Z",
     "iopub.status.idle": "2020-07-19T05:34:58.247713Z",
     "shell.execute_reply": "2020-07-19T05:34:58.248272Z"
    },
    "papermill": {
     "duration": 0.012494,
     "end_time": "2020-07-19T05:34:58.248527",
     "exception": false,
     "start_time": "2020-07-19T05:34:58.236033",
     "status": "completed"
    },
    "tags": [
     "parameters"
    ]
   },
   "outputs": [],
   "source": [
    "a = 1\n",
    "twice = a * 2"
   ]
  },
  {
   "cell_type": "code",
   "execution_count": 2,
   "metadata": {
    "execution": {
     "iopub.execute_input": "2020-07-19T05:34:58.259856Z",
     "iopub.status.busy": "2020-07-19T05:34:58.259076Z",
     "iopub.status.idle": "2020-07-19T05:34:58.261405Z",
     "shell.execute_reply": "2020-07-19T05:34:58.261902Z"
    },
    "papermill": {
     "duration": 0.01001,
     "end_time": "2020-07-19T05:34:58.262210",
     "exception": false,
     "start_time": "2020-07-19T05:34:58.252200",
     "status": "completed"
    },
    "tags": [
     "injected-parameters"
    ]
   },
   "outputs": [],
   "source": [
    "# Parameters\n",
    "twice = 10\n"
   ]
  },
  {
   "cell_type": "code",
   "execution_count": 3,
   "metadata": {
    "execution": {
     "iopub.execute_input": "2020-07-19T05:34:58.273974Z",
     "iopub.status.busy": "2020-07-19T05:34:58.273093Z",
     "iopub.status.idle": "2020-07-19T05:34:58.276472Z",
     "shell.execute_reply": "2020-07-19T05:34:58.275963Z"
    },
    "papermill": {
     "duration": 0.011095,
     "end_time": "2020-07-19T05:34:58.276650",
     "exception": false,
     "start_time": "2020-07-19T05:34:58.265555",
     "status": "completed"
    },
    "tags": []
   },
   "outputs": [
    {
     "name": "stdout",
     "output_type": "stream",
     "text": [
      "a = 1 and twice = 10\n"
     ]
    }
   ],
   "source": [
    "print(\"a =\", a, \"and twice =\", twice)"
   ]
  },
  {
   "cell_type": "code",
   "execution_count": null,
   "metadata": {
    "papermill": {
     "duration": 0.003246,
     "end_time": "2020-07-19T05:34:58.283427",
     "exception": false,
     "start_time": "2020-07-19T05:34:58.280181",
     "status": "completed"
    },
    "tags": []
   },
   "outputs": [],
   "source": []
  }
 ],
 "metadata": {
  "celltoolbar": "Tags",
  "kernelspec": {
   "display_name": "Python 3.7.5 64-bit ('tf2_env': venv)",
   "language": "python",
   "name": "python37564bittf2envvenv9baad5f63bf544adb456767f347f0830"
  },
  "language_info": {
   "codemirror_mode": {
    "name": "ipython",
    "version": 3
   },
   "file_extension": ".py",
   "mimetype": "text/x-python",
   "name": "python",
   "nbconvert_exporter": "python",
   "pygments_lexer": "ipython3",
   "version": "3.7.5"
  },
  "papermill": {
   "duration": 0.996562,
   "end_time": "2020-07-19T05:34:58.497179",
   "environment_variables": {},
   "exception": null,
   "input_path": "add.ipynb",
   "output_path": "add_v2.ipynb",
   "parameters": {
    "twice": 10
   },
   "start_time": "2020-07-19T05:34:57.500617",
   "version": "2.1.2"
  }
 },
 "nbformat": 4,
 "nbformat_minor": 2
}