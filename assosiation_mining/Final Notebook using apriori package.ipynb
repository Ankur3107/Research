{
 "cells": [
  {
   "cell_type": "code",
   "execution_count": 9,
   "metadata": {},
   "outputs": [],
   "source": [
    "import pandas as pd\n",
    "import tqdm\n",
    "from apyori import apriori"
   ]
  },
  {
   "cell_type": "markdown",
   "metadata": {},
   "source": [
    "### References\n",
    "\n",
    "    1. https://www.geeksforgeeks.org/association-rule/\n",
    "    2. https://towardsdatascience.com/association-rule-mining-be4122fc1793\n",
    "    3. https://stackabuse.com/association-rule-mining-via-apriori-algorithm-in-python/\n",
    "    4. https://www.kaggle.com/datatheque/association-rules-mining-market-basket-analysis\n",
    "    5. https://www.kaggle.com/roshansharma/market-basket-analysis\n",
    "    6. https://www.kaggle.com/yugagrawal95/market-basket-analysis-apriori-in-python\n",
    "    7. https://www.kaggle.com/kalash04/assoc-rule-discovery-cookies-hot-chocolate\n",
    "    8. https://www.kaggle.com/ostrowski/market-basket-analysis-exploring-e-commerce-data\n",
    "    9. https://en.wikipedia.org/wiki/Association_rule_learning\n",
    "    10. http://rasbt.github.io/mlxtend/user_guide/frequent_patterns/association_rules/\n",
    "    11. https://towardsdatascience.com/association-rules-2-aa9a77241654\n",
    "    12. https://towardsdatascience.com/complete-guide-to-association-rules-2-2-c92072b56c84\n",
    "    13. https://paginas.fe.up.pt/~ec/files_0506/slides/04_AssociationRules.pdf"
   ]
  },
  {
   "cell_type": "code",
   "execution_count": null,
   "metadata": {},
   "outputs": [],
   "source": []
  },
  {
   "cell_type": "code",
   "execution_count": 2,
   "metadata": {},
   "outputs": [],
   "source": [
    "data_file = 'groceries.csv'"
   ]
  },
  {
   "cell_type": "code",
   "execution_count": 3,
   "metadata": {},
   "outputs": [],
   "source": [
    "def get_transactions(data_file, sep=','):\n",
    "    \n",
    "    # Delimiter\n",
    "    data_file_delimiter = sep\n",
    "    transactions = []\n",
    "    \n",
    "    with open(data_file, 'r') as temp_f:\n",
    "        \n",
    "        # Read the lines\n",
    "        lines = temp_f.readlines()\n",
    "\n",
    "        for l in lines:\n",
    "            \n",
    "            columns = l.split(data_file_delimiter)\n",
    "            columns = [col.strip('\\n') for col in columns]\n",
    "            transactions.append(columns)\n",
    "            \n",
    "    # Close file\n",
    "    temp_f.close()\n",
    "    \n",
    "    return transactions"
   ]
  },
  {
   "cell_type": "code",
   "execution_count": 5,
   "metadata": {},
   "outputs": [],
   "source": [
    "transactions = get_transactions(data_file, sep=',')"
   ]
  },
  {
   "cell_type": "code",
   "execution_count": 6,
   "metadata": {},
   "outputs": [
    {
     "data": {
      "text/plain": [
       "9835"
      ]
     },
     "execution_count": 6,
     "metadata": {},
     "output_type": "execute_result"
    }
   ],
   "source": [
    "len(transactions)"
   ]
  },
  {
   "cell_type": "code",
   "execution_count": 7,
   "metadata": {},
   "outputs": [],
   "source": [
    "unique_items = set()\n",
    "for i in range(len(transactions)):\n",
    "    unique_items = unique_items.union(set(transactions[i]))\n",
    "    if not len(set(transactions[i]))==len(transactions[i]):\n",
    "        print('duplicate')"
   ]
  },
  {
   "cell_type": "code",
   "execution_count": 8,
   "metadata": {},
   "outputs": [
    {
     "data": {
      "text/plain": [
       "{'Instant food products',\n",
       " 'UHT-milk',\n",
       " 'abrasive cleaner',\n",
       " 'artif. sweetener',\n",
       " 'baby cosmetics',\n",
       " 'baby food',\n",
       " 'bags',\n",
       " 'baking powder',\n",
       " 'bathroom cleaner',\n",
       " 'beef',\n",
       " 'berries',\n",
       " 'beverages',\n",
       " 'bottled beer',\n",
       " 'bottled water',\n",
       " 'brandy',\n",
       " 'brown bread',\n",
       " 'butter',\n",
       " 'butter milk',\n",
       " 'cake bar',\n",
       " 'candles',\n",
       " 'candy',\n",
       " 'canned beer',\n",
       " 'canned fish',\n",
       " 'canned fruit',\n",
       " 'canned vegetables',\n",
       " 'cat food',\n",
       " 'cereals',\n",
       " 'chewing gum',\n",
       " 'chicken',\n",
       " 'chocolate',\n",
       " 'chocolate marshmallow',\n",
       " 'citrus fruit',\n",
       " 'cleaner',\n",
       " 'cling film/bags',\n",
       " 'cocoa drinks',\n",
       " 'coffee',\n",
       " 'condensed milk',\n",
       " 'cooking chocolate',\n",
       " 'cookware',\n",
       " 'cream',\n",
       " 'cream cheese ',\n",
       " 'curd',\n",
       " 'curd cheese',\n",
       " 'decalcifier',\n",
       " 'dental care',\n",
       " 'dessert',\n",
       " 'detergent',\n",
       " 'dish cleaner',\n",
       " 'dishes',\n",
       " 'dog food',\n",
       " 'domestic eggs',\n",
       " 'female sanitary products',\n",
       " 'finished products',\n",
       " 'fish',\n",
       " 'flour',\n",
       " 'flower (seeds)',\n",
       " 'flower soil/fertilizer',\n",
       " 'frankfurter',\n",
       " 'frozen chicken',\n",
       " 'frozen dessert',\n",
       " 'frozen fish',\n",
       " 'frozen fruits',\n",
       " 'frozen meals',\n",
       " 'frozen potato products',\n",
       " 'frozen vegetables',\n",
       " 'fruit/vegetable juice',\n",
       " 'grapes',\n",
       " 'hair spray',\n",
       " 'ham',\n",
       " 'hamburger meat',\n",
       " 'hard cheese',\n",
       " 'herbs',\n",
       " 'honey',\n",
       " 'house keeping products',\n",
       " 'hygiene articles',\n",
       " 'ice cream',\n",
       " 'instant coffee',\n",
       " 'jam',\n",
       " 'ketchup',\n",
       " 'kitchen towels',\n",
       " 'kitchen utensil',\n",
       " 'light bulbs',\n",
       " 'liqueur',\n",
       " 'liquor',\n",
       " 'liquor (appetizer)',\n",
       " 'liver loaf',\n",
       " 'long life bakery product',\n",
       " 'make up remover',\n",
       " 'male cosmetics',\n",
       " 'margarine',\n",
       " 'mayonnaise',\n",
       " 'meat',\n",
       " 'meat spreads',\n",
       " 'misc. beverages',\n",
       " 'mustard',\n",
       " 'napkins',\n",
       " 'newspapers',\n",
       " 'nut snack',\n",
       " 'nuts/prunes',\n",
       " 'oil',\n",
       " 'onions',\n",
       " 'organic products',\n",
       " 'organic sausage',\n",
       " 'other vegetables',\n",
       " 'packaged fruit/vegetables',\n",
       " 'pasta',\n",
       " 'pastry',\n",
       " 'pet care',\n",
       " 'photo/film',\n",
       " 'pickled vegetables',\n",
       " 'pip fruit',\n",
       " 'popcorn',\n",
       " 'pork',\n",
       " 'pot plants',\n",
       " 'potato products',\n",
       " 'preservation products',\n",
       " 'processed cheese',\n",
       " 'prosecco',\n",
       " 'pudding powder',\n",
       " 'ready soups',\n",
       " 'red/blush wine',\n",
       " 'rice',\n",
       " 'roll products ',\n",
       " 'rolls/buns',\n",
       " 'root vegetables',\n",
       " 'rubbing alcohol',\n",
       " 'rum',\n",
       " 'salad dressing',\n",
       " 'salt',\n",
       " 'salty snack',\n",
       " 'sauces',\n",
       " 'sausage',\n",
       " 'seasonal products',\n",
       " 'semi-finished bread',\n",
       " 'shopping bags',\n",
       " 'skin care',\n",
       " 'sliced cheese',\n",
       " 'snack products',\n",
       " 'soap',\n",
       " 'soda',\n",
       " 'soft cheese',\n",
       " 'softener',\n",
       " 'sound storage medium',\n",
       " 'soups',\n",
       " 'sparkling wine',\n",
       " 'specialty bar',\n",
       " 'specialty cheese',\n",
       " 'specialty chocolate',\n",
       " 'specialty fat',\n",
       " 'specialty vegetables',\n",
       " 'spices',\n",
       " 'spread cheese',\n",
       " 'sugar',\n",
       " 'sweet spreads',\n",
       " 'syrup',\n",
       " 'tea',\n",
       " 'tidbits',\n",
       " 'toilet cleaner',\n",
       " 'tropical fruit',\n",
       " 'turkey',\n",
       " 'vinegar',\n",
       " 'waffles',\n",
       " 'whipped/sour cream',\n",
       " 'whisky',\n",
       " 'white bread',\n",
       " 'white wine',\n",
       " 'whole milk',\n",
       " 'yogurt',\n",
       " 'zwieback'}"
      ]
     },
     "execution_count": 8,
     "metadata": {},
     "output_type": "execute_result"
    }
   ],
   "source": [
    "unique_items"
   ]
  },
  {
   "cell_type": "code",
   "execution_count": 11,
   "metadata": {},
   "outputs": [],
   "source": [
    "THRESHOLD = 0.5\n",
    "MIN_COUNT = 10\n",
    "min_support = MIN_COUNT/len(transactions)\n",
    "min_confidance = THRESHOLD"
   ]
  },
  {
   "cell_type": "code",
   "execution_count": 23,
   "metadata": {},
   "outputs": [],
   "source": [
    "rules = apriori(transactions, min_support=min_support, min_confidance=min_confidance, min_lift=2, min_length=2)"
   ]
  },
  {
   "cell_type": "code",
   "execution_count": 24,
   "metadata": {},
   "outputs": [
    {
     "data": {
      "text/plain": [
       "<generator object apriori at 0x10f072b50>"
      ]
     },
     "execution_count": 24,
     "metadata": {},
     "output_type": "execute_result"
    }
   ],
   "source": [
    "rules"
   ]
  },
  {
   "cell_type": "code",
   "execution_count": 15,
   "metadata": {},
   "outputs": [],
   "source": [
    "association_results = list(rules)"
   ]
  },
  {
   "cell_type": "code",
   "execution_count": 47,
   "metadata": {},
   "outputs": [
    {
     "name": "stdout",
     "output_type": "stream",
     "text": [
      "RelationRecord(items=frozenset({'newspapers', 'beef', 'citrus fruit'}), support=0.0010167768174885613, ordered_statistics=[OrderedStatistic(items_base=frozenset({'beef'}), items_add=frozenset({'newspapers', 'citrus fruit'}), confidence=0.01937984496124031, lift=2.324399697485347), OrderedStatistic(items_base=frozenset({'newspapers', 'citrus fruit'}), items_add=frozenset({'beef'}), confidence=0.12195121951219513, lift=2.3243996974853474)])\n"
     ]
    }
   ],
   "source": [
    "print(association_results[1000])"
   ]
  },
  {
   "cell_type": "code",
   "execution_count": 56,
   "metadata": {},
   "outputs": [
    {
     "data": {
      "text/plain": [
       "['beef']"
      ]
     },
     "execution_count": 56,
     "metadata": {},
     "output_type": "execute_result"
    }
   ],
   "source": [
    "[x for x in association_results[1000].ordered_statistics[0].items_base]"
   ]
  },
  {
   "cell_type": "code",
   "execution_count": 57,
   "metadata": {},
   "outputs": [
    {
     "data": {
      "text/plain": [
       "['newspapers', 'citrus fruit']"
      ]
     },
     "execution_count": 57,
     "metadata": {},
     "output_type": "execute_result"
    }
   ],
   "source": [
    "[x for x in association_results[1000].ordered_statistics[0].items_add]"
   ]
  },
  {
   "cell_type": "code",
   "execution_count": 64,
   "metadata": {},
   "outputs": [
    {
     "data": {
      "text/plain": [
       "0.01937984496124031"
      ]
     },
     "execution_count": 64,
     "metadata": {},
     "output_type": "execute_result"
    }
   ],
   "source": [
    "association_results[1000].ordered_statistics[0].confidence"
   ]
  },
  {
   "cell_type": "code",
   "execution_count": null,
   "metadata": {},
   "outputs": [],
   "source": []
  },
  {
   "cell_type": "code",
   "execution_count": 60,
   "metadata": {},
   "outputs": [],
   "source": [
    "def list_to_string(ls):\n",
    "    result = ''\n",
    "    for l in ls:\n",
    "        result+=l+' ,'\n",
    "    return result.strip(',').strip()"
   ]
  },
  {
   "cell_type": "code",
   "execution_count": null,
   "metadata": {},
   "outputs": [],
   "source": []
  },
  {
   "cell_type": "code",
   "execution_count": 65,
   "metadata": {},
   "outputs": [
    {
     "name": "stderr",
     "output_type": "stream",
     "text": [
      "100%|██████████| 9897/9897 [00:19<00:00, 495.25it/s]\n"
     ]
    }
   ],
   "source": [
    "final_df = pd.DataFrame({'Rule':[],'Support':[],'Confidence':[],'Lift':[]})\n",
    "\n",
    "\n",
    "for i in tqdm.tqdm(range(len(association_results))):\n",
    "\n",
    "    # first index of the inner list\n",
    "    # Contains base item and add item\n",
    "    item = association_results[i]\n",
    "    \n",
    "    lhs1 = [x for x in item.ordered_statistics[0].items_base]\n",
    "    rhs1 = [x for x in item.ordered_statistics[0].items_add]\n",
    "    rule1 = list_to_string(lhs1) + \" -> \" + list_to_string(rhs1)\n",
    "    \n",
    "    lhs2 = [x for x in item.ordered_statistics[1].items_base]\n",
    "    rhs2 = [x for x in item.ordered_statistics[1].items_add]\n",
    "    rule2 = list_to_string(lhs2) + \" -> \" + list_to_string(rhs2)\n",
    "\n",
    "    support = item[1]\n",
    "    \n",
    "    confidence1 = item.ordered_statistics[0].confidence\n",
    "    confidence2 = item.ordered_statistics[1].confidence\n",
    "    \n",
    "    lift = item[2][0][3]\n",
    "    #print(\"=====================================\")\n",
    "    final_df = final_df.append(pd.DataFrame({'Rule':[rule1],'Support':[support],'Confidence':[confidence1],'Lift':[lift]}))\n",
    "    final_df = final_df.append(pd.DataFrame({'Rule':[rule2],'Support':[support],'Confidence':[confidence2],'Lift':[lift]}))"
   ]
  },
  {
   "cell_type": "code",
   "execution_count": 74,
   "metadata": {},
   "outputs": [
    {
     "data": {
      "text/html": [
       "<div>\n",
       "<style scoped>\n",
       "    .dataframe tbody tr th:only-of-type {\n",
       "        vertical-align: middle;\n",
       "    }\n",
       "\n",
       "    .dataframe tbody tr th {\n",
       "        vertical-align: top;\n",
       "    }\n",
       "\n",
       "    .dataframe thead th {\n",
       "        text-align: right;\n",
       "    }\n",
       "</style>\n",
       "<table border=\"1\" class=\"dataframe\">\n",
       "  <thead>\n",
       "    <tr style=\"text-align: right;\">\n",
       "      <th></th>\n",
       "      <th>Rule</th>\n",
       "      <th>Support</th>\n",
       "      <th>Confidence</th>\n",
       "      <th>Lift</th>\n",
       "    </tr>\n",
       "  </thead>\n",
       "  <tbody>\n",
       "    <tr>\n",
       "      <th>0</th>\n",
       "      <td>Instant food products -&gt; butter</td>\n",
       "      <td>0.001220</td>\n",
       "      <td>0.151899</td>\n",
       "      <td>2.741145</td>\n",
       "    </tr>\n",
       "    <tr>\n",
       "      <th>0</th>\n",
       "      <td>butter -&gt; Instant food products</td>\n",
       "      <td>0.001220</td>\n",
       "      <td>0.022018</td>\n",
       "      <td>2.741145</td>\n",
       "    </tr>\n",
       "    <tr>\n",
       "      <th>0</th>\n",
       "      <td>Instant food products -&gt; curd</td>\n",
       "      <td>0.001322</td>\n",
       "      <td>0.164557</td>\n",
       "      <td>3.088583</td>\n",
       "    </tr>\n",
       "    <tr>\n",
       "      <th>0</th>\n",
       "      <td>curd -&gt; Instant food products</td>\n",
       "      <td>0.001322</td>\n",
       "      <td>0.024809</td>\n",
       "      <td>3.088583</td>\n",
       "    </tr>\n",
       "    <tr>\n",
       "      <th>0</th>\n",
       "      <td>Instant food products -&gt; frankfurter</td>\n",
       "      <td>0.001017</td>\n",
       "      <td>0.126582</td>\n",
       "      <td>2.146443</td>\n",
       "    </tr>\n",
       "  </tbody>\n",
       "</table>\n",
       "</div>"
      ],
      "text/plain": [
       "                                   Rule   Support  Confidence      Lift\n",
       "0       Instant food products -> butter  0.001220    0.151899  2.741145\n",
       "0       butter -> Instant food products  0.001220    0.022018  2.741145\n",
       "0         Instant food products -> curd  0.001322    0.164557  3.088583\n",
       "0         curd -> Instant food products  0.001322    0.024809  3.088583\n",
       "0  Instant food products -> frankfurter  0.001017    0.126582  2.146443"
      ]
     },
     "execution_count": 74,
     "metadata": {},
     "output_type": "execute_result"
    }
   ],
   "source": [
    "final_df.head()"
   ]
  },
  {
   "cell_type": "code",
   "execution_count": 75,
   "metadata": {},
   "outputs": [
    {
     "data": {
      "text/plain": [
       "(0.0010167768174885613, 0.5)"
      ]
     },
     "execution_count": 75,
     "metadata": {},
     "output_type": "execute_result"
    }
   ],
   "source": [
    "min_support, min_confidance"
   ]
  },
  {
   "cell_type": "code",
   "execution_count": 76,
   "metadata": {},
   "outputs": [],
   "source": [
    "filtered_final_df = final_df[final_df.Support>=min_support]\n",
    "filtered_final_df = filtered_final_df[filtered_final_df.Confidence>=min_confidance]"
   ]
  },
  {
   "cell_type": "code",
   "execution_count": 77,
   "metadata": {},
   "outputs": [
    {
     "data": {
      "text/plain": [
       "(91, 4)"
      ]
     },
     "execution_count": 77,
     "metadata": {},
     "output_type": "execute_result"
    }
   ],
   "source": [
    "filtered_final_df.shape"
   ]
  },
  {
   "cell_type": "code",
   "execution_count": 78,
   "metadata": {},
   "outputs": [
    {
     "data": {
      "text/html": [
       "<div>\n",
       "<style scoped>\n",
       "    .dataframe tbody tr th:only-of-type {\n",
       "        vertical-align: middle;\n",
       "    }\n",
       "\n",
       "    .dataframe tbody tr th {\n",
       "        vertical-align: top;\n",
       "    }\n",
       "\n",
       "    .dataframe thead th {\n",
       "        text-align: right;\n",
       "    }\n",
       "</style>\n",
       "<table border=\"1\" class=\"dataframe\">\n",
       "  <thead>\n",
       "    <tr style=\"text-align: right;\">\n",
       "      <th></th>\n",
       "      <th>Rule</th>\n",
       "      <th>Support</th>\n",
       "      <th>Confidence</th>\n",
       "      <th>Lift</th>\n",
       "    </tr>\n",
       "  </thead>\n",
       "  <tbody>\n",
       "    <tr>\n",
       "      <th>0</th>\n",
       "      <td>baking powder -&gt; whole milk</td>\n",
       "      <td>0.009253</td>\n",
       "      <td>0.522989</td>\n",
       "      <td>2.046793</td>\n",
       "    </tr>\n",
       "    <tr>\n",
       "      <th>0</th>\n",
       "      <td>cereals -&gt; whole milk</td>\n",
       "      <td>0.003660</td>\n",
       "      <td>0.642857</td>\n",
       "      <td>2.515917</td>\n",
       "    </tr>\n",
       "    <tr>\n",
       "      <th>0</th>\n",
       "      <td>cocoa drinks -&gt; whole milk</td>\n",
       "      <td>0.001322</td>\n",
       "      <td>0.590909</td>\n",
       "      <td>2.312611</td>\n",
       "    </tr>\n",
       "    <tr>\n",
       "      <th>0</th>\n",
       "      <td>cooking chocolate -&gt; whole milk</td>\n",
       "      <td>0.001322</td>\n",
       "      <td>0.520000</td>\n",
       "      <td>2.035097</td>\n",
       "    </tr>\n",
       "    <tr>\n",
       "      <th>0</th>\n",
       "      <td>honey -&gt; whole milk</td>\n",
       "      <td>0.001118</td>\n",
       "      <td>0.733333</td>\n",
       "      <td>2.870009</td>\n",
       "    </tr>\n",
       "    <tr>\n",
       "      <th>...</th>\n",
       "      <td>...</td>\n",
       "      <td>...</td>\n",
       "      <td>...</td>\n",
       "      <td>...</td>\n",
       "    </tr>\n",
       "    <tr>\n",
       "      <th>0</th>\n",
       "      <td>tropical fruit ,sugar -&gt; whole milk</td>\n",
       "      <td>0.002847</td>\n",
       "      <td>0.595745</td>\n",
       "      <td>2.331536</td>\n",
       "    </tr>\n",
       "    <tr>\n",
       "      <th>0</th>\n",
       "      <td>yogurt ,sugar -&gt; whole milk</td>\n",
       "      <td>0.003660</td>\n",
       "      <td>0.529412</td>\n",
       "      <td>2.071932</td>\n",
       "    </tr>\n",
       "    <tr>\n",
       "      <th>0</th>\n",
       "      <td>brown bread ,tropical fruit ,rolls/buns -&gt; who...</td>\n",
       "      <td>0.001017</td>\n",
       "      <td>0.526316</td>\n",
       "      <td>2.059815</td>\n",
       "    </tr>\n",
       "    <tr>\n",
       "      <th>0</th>\n",
       "      <td>other vegetables ,rolls/buns ,long life bakery...</td>\n",
       "      <td>0.001118</td>\n",
       "      <td>0.523810</td>\n",
       "      <td>2.050007</td>\n",
       "    </tr>\n",
       "    <tr>\n",
       "      <th>0</th>\n",
       "      <td>root vegetables ,shopping bags ,rolls/buns -&gt; ...</td>\n",
       "      <td>0.001118</td>\n",
       "      <td>0.523810</td>\n",
       "      <td>2.050007</td>\n",
       "    </tr>\n",
       "  </tbody>\n",
       "</table>\n",
       "<p>91 rows × 4 columns</p>\n",
       "</div>"
      ],
      "text/plain": [
       "                                                 Rule   Support  Confidence  \\\n",
       "0                         baking powder -> whole milk  0.009253    0.522989   \n",
       "0                               cereals -> whole milk  0.003660    0.642857   \n",
       "0                          cocoa drinks -> whole milk  0.001322    0.590909   \n",
       "0                     cooking chocolate -> whole milk  0.001322    0.520000   \n",
       "0                                 honey -> whole milk  0.001118    0.733333   \n",
       "..                                                ...       ...         ...   \n",
       "0                 tropical fruit ,sugar -> whole milk  0.002847    0.595745   \n",
       "0                         yogurt ,sugar -> whole milk  0.003660    0.529412   \n",
       "0   brown bread ,tropical fruit ,rolls/buns -> who...  0.001017    0.526316   \n",
       "0   other vegetables ,rolls/buns ,long life bakery...  0.001118    0.523810   \n",
       "0   root vegetables ,shopping bags ,rolls/buns -> ...  0.001118    0.523810   \n",
       "\n",
       "        Lift  \n",
       "0   2.046793  \n",
       "0   2.515917  \n",
       "0   2.312611  \n",
       "0   2.035097  \n",
       "0   2.870009  \n",
       "..       ...  \n",
       "0   2.331536  \n",
       "0   2.071932  \n",
       "0   2.059815  \n",
       "0   2.050007  \n",
       "0   2.050007  \n",
       "\n",
       "[91 rows x 4 columns]"
      ]
     },
     "execution_count": 78,
     "metadata": {},
     "output_type": "execute_result"
    }
   ],
   "source": [
    "filtered_final_df"
   ]
  },
  {
   "cell_type": "code",
   "execution_count": 83,
   "metadata": {},
   "outputs": [
    {
     "data": {
      "text/plain": [
       "count    91.000000\n",
       "mean      2.267799\n",
       "std       0.290194\n",
       "min       2.002332\n",
       "25%       2.059815\n",
       "50%       2.162806\n",
       "75%       2.370320\n",
       "max       3.445437\n",
       "Name: Lift, dtype: float64"
      ]
     },
     "execution_count": 83,
     "metadata": {},
     "output_type": "execute_result"
    }
   ],
   "source": [
    "filtered_final_df.Lift.describe()"
   ]
  },
  {
   "cell_type": "code",
   "execution_count": null,
   "metadata": {},
   "outputs": [],
   "source": []
  }
 ],
 "metadata": {
  "kernelspec": {
   "display_name": "Python 3.7.5 64-bit ('tf2_env': venv)",
   "language": "python",
   "name": "python37564bittf2envvenv9baad5f63bf544adb456767f347f0830"
  },
  "language_info": {
   "codemirror_mode": {
    "name": "ipython",
    "version": 3
   },
   "file_extension": ".py",
   "mimetype": "text/x-python",
   "name": "python",
   "nbconvert_exporter": "python",
   "pygments_lexer": "ipython3",
   "version": "3.7.5"
  }
 },
 "nbformat": 4,
 "nbformat_minor": 2
}
