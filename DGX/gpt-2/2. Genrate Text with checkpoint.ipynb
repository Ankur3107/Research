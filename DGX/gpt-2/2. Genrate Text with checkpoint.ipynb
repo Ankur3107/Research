{
 "cells": [
  {
   "cell_type": "code",
   "execution_count": 1,
   "metadata": {},
   "outputs": [],
   "source": [
    "import os\n",
    "os.environ[\"CUDA_VISIBLE_DEVICES\"]=\"3\""
   ]
  },
  {
   "cell_type": "code",
   "execution_count": 3,
   "metadata": {
    "scrolled": true
   },
   "outputs": [],
   "source": [
    "from keras_gpt_2 import load_trained_model_from_checkpoint, get_bpe_from_files, generate\n",
    "\n",
    "\n",
    "model_folder = 'gpt-2/models/1558M'\n",
    "config_path = os.path.join(model_folder, 'hparams.json')\n",
    "checkpoint_path = os.path.join(model_folder, 'model.ckpt')\n",
    "encoder_path = os.path.join(model_folder, 'encoder.json')\n",
    "vocab_path = os.path.join(model_folder, 'vocab.bpe')"
   ]
  },
  {
   "cell_type": "code",
   "execution_count": 6,
   "metadata": {
    "scrolled": true
   },
   "outputs": [
    {
     "name": "stdout",
     "output_type": "stream",
     "text": [
      "Collecting keras_multi_head==0.22.0\n",
      "  Downloading https://files.pythonhosted.org/packages/40/3e/d0a64bb2ac5217928effe4507c26bbd19b86145d16a1948bc2d4f4c6338a/keras-multi-head-0.22.0.tar.gz\n",
      "Requirement already satisfied: numpy in /usr/local/lib/python3.6/dist-packages (from keras_multi_head==0.22.0) (1.17.3)\n",
      "Requirement already satisfied: Keras in /usr/local/lib/python3.6/dist-packages (from keras_multi_head==0.22.0) (2.3.1)\n",
      "Requirement already satisfied: keras-self-attention==0.41.0 in /usr/local/lib/python3.6/dist-packages (from keras_multi_head==0.22.0) (0.41.0)\n",
      "Requirement already satisfied: scipy>=0.14 in /usr/local/lib/python3.6/dist-packages (from Keras->keras_multi_head==0.22.0) (1.2.0)\n",
      "Requirement already satisfied: pyyaml in /usr/local/lib/python3.6/dist-packages (from Keras->keras_multi_head==0.22.0) (5.1.2)\n",
      "Requirement already satisfied: keras-preprocessing>=1.0.5 in /usr/local/lib/python3.6/dist-packages (from Keras->keras_multi_head==0.22.0) (1.0.9)\n",
      "Requirement already satisfied: six>=1.9.0 in /usr/local/lib/python3.6/dist-packages (from Keras->keras_multi_head==0.22.0) (1.12.0)\n",
      "Requirement already satisfied: keras-applications>=1.0.6 in /usr/local/lib/python3.6/dist-packages (from Keras->keras_multi_head==0.22.0) (1.0.6)\n",
      "Requirement already satisfied: h5py in /usr/local/lib/python3.6/dist-packages (from Keras->keras_multi_head==0.22.0) (2.9.0)\n",
      "Building wheels for collected packages: keras-multi-head\n",
      "  Building wheel for keras-multi-head (setup.py) ... \u001b[?25ldone\n",
      "\u001b[?25h  Created wheel for keras-multi-head: filename=keras_multi_head-0.22.0-cp36-none-any.whl size=15371 sha256=ad35fa7965bb99976fe9e147d9cfdb52e8b7ef8702dfca45e6c7336ab8030e57\n",
      "  Stored in directory: /root/.cache/pip/wheels/bb/df/3f/81b36f41b66e6a9cd69224c70a737de2bb6b2f7feb3272c25e\n",
      "Successfully built keras-multi-head\n",
      "Installing collected packages: keras-multi-head\n",
      "  Found existing installation: keras-multi-head 0.20.0\n",
      "    Uninstalling keras-multi-head-0.20.0:\n",
      "      Successfully uninstalled keras-multi-head-0.20.0\n",
      "Successfully installed keras-multi-head-0.22.0\n",
      "\u001b[33mWARNING: You are using pip version 19.2.2, however version 19.3.1 is available.\n",
      "You should consider upgrading via the 'pip install --upgrade pip' command.\u001b[0m\n"
     ]
    }
   ],
   "source": [
    "!pip install keras_multi_head==0.22.0"
   ]
  },
  {
   "cell_type": "code",
   "execution_count": null,
   "metadata": {},
   "outputs": [
    {
     "name": "stdout",
     "output_type": "stream",
     "text": [
      "Load model from checkpoint...\n"
     ]
    }
   ],
   "source": [
    "print('Load model from checkpoint...')\n",
    "%time model = load_trained_model_from_checkpoint(config_path, checkpoint_path)"
   ]
  },
  {
   "cell_type": "code",
   "execution_count": null,
   "metadata": {},
   "outputs": [],
   "source": [
    "print('Load BPE from files...')\n",
    "bpe = get_bpe_from_files(encoder_path, vocab_path)"
   ]
  },
  {
   "cell_type": "code",
   "execution_count": null,
   "metadata": {},
   "outputs": [],
   "source": [
    "print('Generate text...')\n",
    "%time output = generate(model, bpe, ['From the day forth, my arm'], length=100, top_k=10)\n",
    "print(output[0])"
   ]
  },
  {
   "cell_type": "code",
   "execution_count": null,
   "metadata": {},
   "outputs": [],
   "source": []
  },
  {
   "cell_type": "code",
   "execution_count": null,
   "metadata": {},
   "outputs": [],
   "source": []
  }
 ],
 "metadata": {
  "kernelspec": {
   "display_name": "Python 3",
   "language": "python",
   "name": "python3"
  },
  "language_info": {
   "codemirror_mode": {
    "name": "ipython",
    "version": 3
   },
   "file_extension": ".py",
   "mimetype": "text/x-python",
   "name": "python",
   "nbconvert_exporter": "python",
   "pygments_lexer": "ipython3",
   "version": "3.6.8"
  }
 },
 "nbformat": 4,
 "nbformat_minor": 2
}
