{
 "cells": [
  {
   "cell_type": "code",
   "execution_count": 2,
   "metadata": {},
   "outputs": [
    {
     "name": "stdout",
     "output_type": "stream",
     "text": [
      "Cloning into 'gpt-2'...\n",
      "remote: Enumerating objects: 218, done.\u001b[K\n",
      "remote: Total 218 (delta 0), reused 0 (delta 0), pack-reused 218\u001b[K\n",
      "Receiving objects: 100% (218/218), 4.37 MiB | 285.00 KiB/s, done.\n",
      "Resolving deltas: 100% (117/117), done.\n"
     ]
    }
   ],
   "source": [
    "!git clone https://github.com/openai/gpt-2.git"
   ]
  },
  {
   "cell_type": "code",
   "execution_count": 3,
   "metadata": {},
   "outputs": [
    {
     "name": "stdout",
     "output_type": "stream",
     "text": [
      "/workspace/gpt-2/gpt-2\n"
     ]
    }
   ],
   "source": [
    "cd gpt-2"
   ]
  },
  {
   "cell_type": "code",
   "execution_count": 4,
   "metadata": {},
   "outputs": [
    {
     "name": "stdout",
     "output_type": "stream",
     "text": [
      "CONTRIBUTORS.md  Dockerfile.gpu  domains.txt        requirements.txt\r\n",
      "DEVELOPERS.md    LICENSE         download_model.py  \u001b[0m\u001b[01;34msrc\u001b[0m/\r\n",
      "Dockerfile.cpu   README.md       model_card.md\r\n"
     ]
    }
   ],
   "source": [
    "ls"
   ]
  },
  {
   "cell_type": "code",
   "execution_count": 5,
   "metadata": {},
   "outputs": [
    {
     "name": "stdout",
     "output_type": "stream",
     "text": [
      "Fetching checkpoint: 1.00kit [00:00, 528kit/s]                                                      \n",
      "Fetching encoder.json: 1.04Mit [00:00, 1.08Mit/s]                                                   \n",
      "Fetching hparams.json: 1.00kit [00:00, 477kit/s]                                                    \n",
      "Fetching model.ckpt.data-00000-of-00001: 6.23Git [1:21:42, 1.27Mit/s]                               \n",
      "Fetching model.ckpt.index: 21.0kit [00:00, 620kit/s]                                                \n",
      "Fetching model.ckpt.meta: 1.84Mit [00:00, 1.86Mit/s]                                                \n",
      "Fetching vocab.bpe: 457kit [00:00, 1.07Mit/s]                                                       \n"
     ]
    }
   ],
   "source": [
    "!python download_model.py 1558M"
   ]
  },
  {
   "cell_type": "code",
   "execution_count": 7,
   "metadata": {},
   "outputs": [
    {
     "name": "stdout",
     "output_type": "stream",
     "text": [
      "\u001b[0m\u001b[01;34m1558M\u001b[0m/\r\n"
     ]
    }
   ],
   "source": [
    "ls models/"
   ]
  },
  {
   "cell_type": "code",
   "execution_count": null,
   "metadata": {},
   "outputs": [],
   "source": [
    "SAGEMAKER_TFS_MAX_BATCH_SIZE=\"16\""
   ]
  }
 ],
 "metadata": {
  "kernelspec": {
   "display_name": "Python 3",
   "language": "python",
   "name": "python3"
  },
  "language_info": {
   "codemirror_mode": {
    "name": "ipython",
    "version": 3
   },
   "file_extension": ".py",
   "mimetype": "text/x-python",
   "name": "python",
   "nbconvert_exporter": "python",
   "pygments_lexer": "ipython3",
   "version": "3.6.8"
  }
 },
 "nbformat": 4,
 "nbformat_minor": 2
}
