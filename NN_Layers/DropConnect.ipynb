{
 "cells": [
  {
   "cell_type": "markdown",
   "metadata": {},
   "source": [
    "# In numpy"
   ]
  },
  {
   "cell_type": "code",
   "execution_count": 10,
   "metadata": {},
   "outputs": [],
   "source": [
    "import operator\n",
    "import numpy as np\n",
    "from functools import reduce\n",
    " \n",
    "def mask_size_helper(args):\n",
    "    # multiply n dimensions to get array size\n",
    "    return reduce(operator.mul, args) \n",
    " \n",
    "def create_dropconnect_mask(dc_keep_prob, dimensions):\n",
    "    # get binary mask of size=*dimensions from binomial dist. with dc_keep_prob = prob of drawing a 1\n",
    "    mask_vector = np.random.binomial(1, dc_keep_prob, mask_size_helper(dimensions))\n",
    "    # reshape mask to correct dimensions (we could just broadcast, but that's messy)\n",
    "    mask_array = mask_vector.reshape(dimensions)\n",
    "    return mask_array\n",
    " \n",
    "def dropconnect(W, dc_keep_prob):\n",
    "    dimensions = W.shape\n",
    "    return W * create_dropconnect_mask(dc_keep_prob, dimensions)"
   ]
  },
  {
   "cell_type": "code",
   "execution_count": 18,
   "metadata": {},
   "outputs": [
    {
     "data": {
      "text/plain": [
       "array([[0.43142942, 0.59333534, 0.49498051, 0.04962081, 0.52335115],\n",
       "       [0.66864335, 0.2555287 , 0.65147986, 0.94848729, 0.77101737]])"
      ]
     },
     "execution_count": 18,
     "metadata": {},
     "output_type": "execute_result"
    }
   ],
   "source": [
    "W = np.random.rand(2,5)\n",
    "W"
   ]
  },
  {
   "cell_type": "code",
   "execution_count": 24,
   "metadata": {},
   "outputs": [
    {
     "data": {
      "text/plain": [
       "array([[0.43142942, 0.        , 0.49498051, 0.        , 0.52335115],\n",
       "       [0.66864335, 0.        , 0.65147986, 0.94848729, 0.        ]])"
      ]
     },
     "execution_count": 24,
     "metadata": {},
     "output_type": "execute_result"
    }
   ],
   "source": [
    "dc_keep_prob = 0.8\n",
    "dropconnect(W, dc_keep_prob)"
   ]
  },
  {
   "cell_type": "markdown",
   "metadata": {},
   "source": [
    "# In Tensorflow"
   ]
  },
  {
   "cell_type": "code",
   "execution_count": 40,
   "metadata": {},
   "outputs": [],
   "source": [
    "import tensorflow as tf\n",
    "def dropconnect(W, p):\n",
    "    return tf.nn.dropout(W, rate=p) * p"
   ]
  },
  {
   "cell_type": "code",
   "execution_count": 64,
   "metadata": {},
   "outputs": [
    {
     "data": {
      "text/plain": [
       "<tf.Tensor: shape=(2, 5), dtype=float64, numpy=\n",
       "array([[0.14998233, 0.19069256, 0.04083121, 0.        , 0.20048243],\n",
       "       [0.14011639, 0.24706913, 0.14806555, 0.24796889, 0.15302356]])>"
      ]
     },
     "execution_count": 64,
     "metadata": {},
     "output_type": "execute_result"
    }
   ],
   "source": [
    "W = np.random.rand(2,5)\n",
    "p = 0.2\n",
    "dropconnect(W, p)"
   ]
  },
  {
   "cell_type": "code",
   "execution_count": null,
   "metadata": {},
   "outputs": [],
   "source": []
  }
 ],
 "metadata": {
  "kernelspec": {
   "display_name": "Python 3.7.5 64-bit ('tf2_env': venv)",
   "language": "python",
   "name": "python37564bittf2envvenv9baad5f63bf544adb456767f347f0830"
  },
  "language_info": {
   "codemirror_mode": {
    "name": "ipython",
    "version": 3
   },
   "file_extension": ".py",
   "mimetype": "text/x-python",
   "name": "python",
   "nbconvert_exporter": "python",
   "pygments_lexer": "ipython3",
   "version": "3.7.5"
  }
 },
 "nbformat": 4,
 "nbformat_minor": 4
}
