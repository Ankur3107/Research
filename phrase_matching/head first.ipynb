{
 "cells": [
  {
   "cell_type": "code",
   "execution_count": 67,
   "metadata": {},
   "outputs": [],
   "source": [
    "import pandas as pd\n",
    "import spacy\n",
    "from spacy.matcher import Matcher\n",
    "from spacy import displacy"
   ]
  },
  {
   "cell_type": "code",
   "execution_count": 4,
   "metadata": {},
   "outputs": [],
   "source": [
    "nlp = spacy.load('en_core_web_lg')"
   ]
  },
  {
   "cell_type": "code",
   "execution_count": 2,
   "metadata": {},
   "outputs": [],
   "source": [
    "data = pd.read_excel('l1_12_sentiment_modified.xlsx',sheet_name=\"FundPerformance\")"
   ]
  },
  {
   "cell_type": "code",
   "execution_count": 3,
   "metadata": {},
   "outputs": [
    {
     "data": {
      "text/html": [
       "<div>\n",
       "<style scoped>\n",
       "    .dataframe tbody tr th:only-of-type {\n",
       "        vertical-align: middle;\n",
       "    }\n",
       "\n",
       "    .dataframe tbody tr th {\n",
       "        vertical-align: top;\n",
       "    }\n",
       "\n",
       "    .dataframe thead th {\n",
       "        text-align: right;\n",
       "    }\n",
       "</style>\n",
       "<table border=\"1\" class=\"dataframe\">\n",
       "  <thead>\n",
       "    <tr style=\"text-align: right;\">\n",
       "      <th></th>\n",
       "      <th>Unnamed: 0</th>\n",
       "      <th>Verbatim</th>\n",
       "      <th>L1_Verbatim</th>\n",
       "      <th>L2</th>\n",
       "      <th>Sentiment</th>\n",
       "    </tr>\n",
       "  </thead>\n",
       "  <tbody>\n",
       "    <tr>\n",
       "      <td>0</td>\n",
       "      <td>0</td>\n",
       "      <td>i do recommend bsl frontline fund , bsl midcap...</td>\n",
       "      <td>i do recommend bsl frontline fund , bsl midcap...</td>\n",
       "      <td>Rate of returns</td>\n",
       "      <td>Positive</td>\n",
       "    </tr>\n",
       "    <tr>\n",
       "      <td>1</td>\n",
       "      <td>1</td>\n",
       "      <td>1 ) as an ifa the experience is very good . mo...</td>\n",
       "      <td>most of the funds like bsl frontline equity fu...</td>\n",
       "      <td>Consistency of returns</td>\n",
       "      <td>Positive</td>\n",
       "    </tr>\n",
       "    <tr>\n",
       "      <td>2</td>\n",
       "      <td>2</td>\n",
       "      <td>( 1 ) both equity and debt schemes of birla ar...</td>\n",
       "      <td>( 1 ) both equity and debt schemes of birla ar...</td>\n",
       "      <td>Consistency of returns</td>\n",
       "      <td>Positive</td>\n",
       "    </tr>\n",
       "    <tr>\n",
       "      <td>3</td>\n",
       "      <td>3</td>\n",
       "      <td>1 ) i am very happy with the services of bslmf...</td>\n",
       "      <td>but when i compare it with other amc for fund ...</td>\n",
       "      <td>Unspecified / Others</td>\n",
       "      <td>Netural / Negative</td>\n",
       "    </tr>\n",
       "    <tr>\n",
       "      <td>4</td>\n",
       "      <td>4</td>\n",
       "      <td>1 ) i am happy with the fund performance of bs...</td>\n",
       "      <td>1 ) i am happy with the fund performance of bs...</td>\n",
       "      <td>Unspecified / Others</td>\n",
       "      <td>Positive</td>\n",
       "    </tr>\n",
       "  </tbody>\n",
       "</table>\n",
       "</div>"
      ],
      "text/plain": [
       "   Unnamed: 0                                           Verbatim  \\\n",
       "0           0  i do recommend bsl frontline fund , bsl midcap...   \n",
       "1           1  1 ) as an ifa the experience is very good . mo...   \n",
       "2           2  ( 1 ) both equity and debt schemes of birla ar...   \n",
       "3           3  1 ) i am very happy with the services of bslmf...   \n",
       "4           4  1 ) i am happy with the fund performance of bs...   \n",
       "\n",
       "                                         L1_Verbatim                      L2  \\\n",
       "0  i do recommend bsl frontline fund , bsl midcap...         Rate of returns   \n",
       "1  most of the funds like bsl frontline equity fu...  Consistency of returns   \n",
       "2  ( 1 ) both equity and debt schemes of birla ar...  Consistency of returns   \n",
       "3  but when i compare it with other amc for fund ...    Unspecified / Others   \n",
       "4  1 ) i am happy with the fund performance of bs...    Unspecified / Others   \n",
       "\n",
       "            Sentiment  \n",
       "0            Positive  \n",
       "1            Positive  \n",
       "2            Positive  \n",
       "3  Netural / Negative  \n",
       "4            Positive  "
      ]
     },
     "execution_count": 3,
     "metadata": {},
     "output_type": "execute_result"
    }
   ],
   "source": [
    "data.head()"
   ]
  },
  {
   "cell_type": "code",
   "execution_count": 6,
   "metadata": {},
   "outputs": [],
   "source": [
    "doc = nlp(data.L1_Verbatim.values[0])"
   ]
  },
  {
   "cell_type": "code",
   "execution_count": 10,
   "metadata": {},
   "outputs": [
    {
     "data": {
      "text/plain": [
       "[i,\n",
       " bsl frontline fund,\n",
       " bsl midcap fund,\n",
       " bsl dynamic bond fund,\n",
       " bsl,\n",
       " 95 fund,\n",
       " good returns]"
      ]
     },
     "execution_count": 10,
     "metadata": {},
     "output_type": "execute_result"
    }
   ],
   "source": [
    "list(doc.noun_chunks)"
   ]
  },
  {
   "cell_type": "code",
   "execution_count": 25,
   "metadata": {},
   "outputs": [
    {
     "data": {
      "text/plain": [
       "{'text': 'i do recommend bsl frontline fund , bsl midcap fund , bsl dynamic bond fund , bsl balanced 95 fund which are providing good returns .',\n",
       " 'ents': [{'start': 91, 'end': 93, 'label': 'CARDINAL'}],\n",
       " 'sents': [{'start': 0, 'end': 133}],\n",
       " 'tokens': [{'id': 0,\n",
       "   'start': 0,\n",
       "   'end': 1,\n",
       "   'pos': 'PRON',\n",
       "   'tag': 'PRP',\n",
       "   'dep': 'nsubj',\n",
       "   'head': 2},\n",
       "  {'id': 1,\n",
       "   'start': 2,\n",
       "   'end': 4,\n",
       "   'pos': 'VERB',\n",
       "   'tag': 'VBP',\n",
       "   'dep': 'aux',\n",
       "   'head': 2},\n",
       "  {'id': 2,\n",
       "   'start': 5,\n",
       "   'end': 14,\n",
       "   'pos': 'VERB',\n",
       "   'tag': 'VB',\n",
       "   'dep': 'ccomp',\n",
       "   'head': 17},\n",
       "  {'id': 3,\n",
       "   'start': 15,\n",
       "   'end': 18,\n",
       "   'pos': 'ADJ',\n",
       "   'tag': 'JJ',\n",
       "   'dep': 'nmod',\n",
       "   'head': 5},\n",
       "  {'id': 4,\n",
       "   'start': 19,\n",
       "   'end': 28,\n",
       "   'pos': 'ADJ',\n",
       "   'tag': 'JJ',\n",
       "   'dep': 'compound',\n",
       "   'head': 5},\n",
       "  {'id': 5,\n",
       "   'start': 29,\n",
       "   'end': 33,\n",
       "   'pos': 'NOUN',\n",
       "   'tag': 'NN',\n",
       "   'dep': 'dobj',\n",
       "   'head': 2},\n",
       "  {'id': 6,\n",
       "   'start': 34,\n",
       "   'end': 35,\n",
       "   'pos': 'PUNCT',\n",
       "   'tag': ',',\n",
       "   'dep': 'punct',\n",
       "   'head': 5},\n",
       "  {'id': 7,\n",
       "   'start': 36,\n",
       "   'end': 39,\n",
       "   'pos': 'NOUN',\n",
       "   'tag': 'NN',\n",
       "   'dep': 'compound',\n",
       "   'head': 9},\n",
       "  {'id': 8,\n",
       "   'start': 40,\n",
       "   'end': 46,\n",
       "   'pos': 'NOUN',\n",
       "   'tag': 'NN',\n",
       "   'dep': 'compound',\n",
       "   'head': 9},\n",
       "  {'id': 9,\n",
       "   'start': 47,\n",
       "   'end': 51,\n",
       "   'pos': 'NOUN',\n",
       "   'tag': 'NN',\n",
       "   'dep': 'conj',\n",
       "   'head': 5},\n",
       "  {'id': 10,\n",
       "   'start': 52,\n",
       "   'end': 53,\n",
       "   'pos': 'PUNCT',\n",
       "   'tag': ',',\n",
       "   'dep': 'punct',\n",
       "   'head': 9},\n",
       "  {'id': 11,\n",
       "   'start': 54,\n",
       "   'end': 57,\n",
       "   'pos': 'PROPN',\n",
       "   'tag': 'NNP',\n",
       "   'dep': 'nmod',\n",
       "   'head': 14},\n",
       "  {'id': 12,\n",
       "   'start': 58,\n",
       "   'end': 65,\n",
       "   'pos': 'ADJ',\n",
       "   'tag': 'JJ',\n",
       "   'dep': 'amod',\n",
       "   'head': 13},\n",
       "  {'id': 13,\n",
       "   'start': 66,\n",
       "   'end': 70,\n",
       "   'pos': 'NOUN',\n",
       "   'tag': 'NN',\n",
       "   'dep': 'compound',\n",
       "   'head': 14},\n",
       "  {'id': 14,\n",
       "   'start': 71,\n",
       "   'end': 75,\n",
       "   'pos': 'NOUN',\n",
       "   'tag': 'NN',\n",
       "   'dep': 'conj',\n",
       "   'head': 9},\n",
       "  {'id': 15,\n",
       "   'start': 76,\n",
       "   'end': 77,\n",
       "   'pos': 'PUNCT',\n",
       "   'tag': ',',\n",
       "   'dep': 'punct',\n",
       "   'head': 17},\n",
       "  {'id': 16,\n",
       "   'start': 78,\n",
       "   'end': 81,\n",
       "   'pos': 'PROPN',\n",
       "   'tag': 'NNP',\n",
       "   'dep': 'nsubj',\n",
       "   'head': 17},\n",
       "  {'id': 17,\n",
       "   'start': 82,\n",
       "   'end': 90,\n",
       "   'pos': 'VERB',\n",
       "   'tag': 'VBD',\n",
       "   'dep': 'ROOT',\n",
       "   'head': 17},\n",
       "  {'id': 18,\n",
       "   'start': 91,\n",
       "   'end': 93,\n",
       "   'pos': 'NUM',\n",
       "   'tag': 'CD',\n",
       "   'dep': 'nummod',\n",
       "   'head': 19},\n",
       "  {'id': 19,\n",
       "   'start': 94,\n",
       "   'end': 98,\n",
       "   'pos': 'NOUN',\n",
       "   'tag': 'NN',\n",
       "   'dep': 'dobj',\n",
       "   'head': 17},\n",
       "  {'id': 20,\n",
       "   'start': 99,\n",
       "   'end': 104,\n",
       "   'pos': 'DET',\n",
       "   'tag': 'WDT',\n",
       "   'dep': 'nsubj',\n",
       "   'head': 22},\n",
       "  {'id': 21,\n",
       "   'start': 105,\n",
       "   'end': 108,\n",
       "   'pos': 'VERB',\n",
       "   'tag': 'VBP',\n",
       "   'dep': 'aux',\n",
       "   'head': 22},\n",
       "  {'id': 22,\n",
       "   'start': 109,\n",
       "   'end': 118,\n",
       "   'pos': 'VERB',\n",
       "   'tag': 'VBG',\n",
       "   'dep': 'relcl',\n",
       "   'head': 19},\n",
       "  {'id': 23,\n",
       "   'start': 119,\n",
       "   'end': 123,\n",
       "   'pos': 'ADJ',\n",
       "   'tag': 'JJ',\n",
       "   'dep': 'amod',\n",
       "   'head': 24},\n",
       "  {'id': 24,\n",
       "   'start': 124,\n",
       "   'end': 131,\n",
       "   'pos': 'NOUN',\n",
       "   'tag': 'NNS',\n",
       "   'dep': 'dobj',\n",
       "   'head': 22},\n",
       "  {'id': 25,\n",
       "   'start': 132,\n",
       "   'end': 133,\n",
       "   'pos': 'PUNCT',\n",
       "   'tag': '.',\n",
       "   'dep': 'punct',\n",
       "   'head': 17}]}"
      ]
     },
     "execution_count": 25,
     "metadata": {},
     "output_type": "execute_result"
    }
   ],
   "source": [
    "doc.to_json()"
   ]
  },
  {
   "cell_type": "markdown",
   "metadata": {},
   "source": [
    "#https://spacy.io/usage/rule-based-matching\n",
    "\n",
    "{'OP': '!'}\tNegation: match 0 times\n",
    "\n",
    "{'OP': '?'}\tOptional: match 0 or 1 times\n",
    "\n",
    "{'OP': '+'}\tMatch 1 or more times\n",
    "\n",
    "{'OP': '*'}\tMatch 0 or more times"
   ]
  },
  {
   "cell_type": "markdown",
   "metadata": {},
   "source": [
    "## Method 1"
   ]
  },
  {
   "cell_type": "code",
   "execution_count": 172,
   "metadata": {},
   "outputs": [],
   "source": [
    "def get_all_matched_pharses(text, pattern):\n",
    "    matcher = Matcher(nlp.vocab)\n",
    "\n",
    "    matcher.add('IPHONE_PATTERN', None, pattern)\n",
    "\n",
    "    doc = nlp(text)\n",
    "\n",
    "    matches = matcher(doc)\n",
    "    \n",
    "    for match_id, start, end in matches: \n",
    "        span = doc[start:end]\n",
    "        print(span.text)"
   ]
  },
  {
   "cell_type": "code",
   "execution_count": 173,
   "metadata": {
    "scrolled": true
   },
   "outputs": [
    {
     "name": "stdout",
     "output_type": "stream",
     "text": [
      "fund\n",
      "bsl\n",
      "bsl midcap\n",
      "midcap\n",
      "bsl midcap fund\n",
      "midcap fund\n",
      "fund\n",
      "bond\n",
      "bond fund\n",
      "fund\n",
      "fund\n",
      "returns\n"
     ]
    }
   ],
   "source": [
    "pattern = [\n",
    "    {'POS':'NOUN','OP':'+'}\n",
    "]\n",
    "#text = \"2018 FIFA World Cup: France won!\"\n",
    "\n",
    "get_all_matched_pharses(data.L1_Verbatim.values[0],pattern)"
   ]
  },
  {
   "cell_type": "markdown",
   "metadata": {},
   "source": [
    "## Method 2"
   ]
  },
  {
   "cell_type": "code",
   "execution_count": 103,
   "metadata": {},
   "outputs": [],
   "source": [
    "def collect_sents(matcher, doc, i, matches):\n",
    "    match_id, start, end = matches[i]\n",
    "    span = doc[start:end]  # Matched span\n",
    "    sent = span.sent  # Sentence containing matched span\n",
    "    # Append mock entity for match in displaCy style to matched_sents\n",
    "    # get the match span by ofsetting the start and end of the span with the\n",
    "    # start and end of the sentence in the doc\n",
    "    match_ents = [{\n",
    "        \"start\": span.start_char - sent.start_char,\n",
    "        \"end\": span.end_char - sent.start_char,\n",
    "        \"label\": \"MATCH\",\n",
    "    }]\n",
    "    matched_sents.append({\"text\": sent.text, \"ents\": match_ents})\n",
    "    return matched_sents\n",
    "\n",
    "def display_matched_pharses(text, pattern):\n",
    "    matcher = Matcher(nlp.vocab)\n",
    "    matcher.add(\"FacebookIs\", collect_sents, pattern)  # add pattern\n",
    "    doc = nlp(text)\n",
    "    matches = matcher(doc)\n",
    "    displacy.render(matched_sents, style=\"ent\", manual=True)\n",
    "    "
   ]
  },
  {
   "cell_type": "code",
   "execution_count": 104,
   "metadata": {
    "scrolled": true
   },
   "outputs": [
    {
     "data": {
      "text/plain": [
       "[{'text': 'i do recommend bsl frontline fund , bsl midcap fund , bsl dynamic bond fund , bsl balanced 95 fund which are providing good returns .',\n",
       "  'ents': [{'start': 0, 'end': 0, 'label': 'MATCH'}]},\n",
       " {'text': 'i do recommend bsl frontline fund , bsl midcap fund , bsl dynamic bond fund , bsl balanced 95 fund which are providing good returns .',\n",
       "  'ents': [{'start': 2, 'end': 1, 'label': 'MATCH'}]},\n",
       " {'text': 'i do recommend bsl frontline fund , bsl midcap fund , bsl dynamic bond fund , bsl balanced 95 fund which are providing good returns .',\n",
       "  'ents': [{'start': 5, 'end': 4, 'label': 'MATCH'}]},\n",
       " {'text': 'i do recommend bsl frontline fund , bsl midcap fund , bsl dynamic bond fund , bsl balanced 95 fund which are providing good returns .',\n",
       "  'ents': [{'start': 15, 'end': 14, 'label': 'MATCH'}]},\n",
       " {'text': 'i do recommend bsl frontline fund , bsl midcap fund , bsl dynamic bond fund , bsl balanced 95 fund which are providing good returns .',\n",
       "  'ents': [{'start': 15, 'end': 18, 'label': 'MATCH'}]},\n",
       " {'text': 'i do recommend bsl frontline fund , bsl midcap fund , bsl dynamic bond fund , bsl balanced 95 fund which are providing good returns .',\n",
       "  'ents': [{'start': 19, 'end': 18, 'label': 'MATCH'}]},\n",
       " {'text': 'i do recommend bsl frontline fund , bsl midcap fund , bsl dynamic bond fund , bsl balanced 95 fund which are providing good returns .',\n",
       "  'ents': [{'start': 15, 'end': 28, 'label': 'MATCH'}]},\n",
       " {'text': 'i do recommend bsl frontline fund , bsl midcap fund , bsl dynamic bond fund , bsl balanced 95 fund which are providing good returns .',\n",
       "  'ents': [{'start': 19, 'end': 28, 'label': 'MATCH'}]},\n",
       " {'text': 'i do recommend bsl frontline fund , bsl midcap fund , bsl dynamic bond fund , bsl balanced 95 fund which are providing good returns .',\n",
       "  'ents': [{'start': 29, 'end': 28, 'label': 'MATCH'}]},\n",
       " {'text': 'i do recommend bsl frontline fund , bsl midcap fund , bsl dynamic bond fund , bsl balanced 95 fund which are providing good returns .',\n",
       "  'ents': [{'start': 34, 'end': 33, 'label': 'MATCH'}]},\n",
       " {'text': 'i do recommend bsl frontline fund , bsl midcap fund , bsl dynamic bond fund , bsl balanced 95 fund which are providing good returns .',\n",
       "  'ents': [{'start': 36, 'end': 35, 'label': 'MATCH'}]},\n",
       " {'text': 'i do recommend bsl frontline fund , bsl midcap fund , bsl dynamic bond fund , bsl balanced 95 fund which are providing good returns .',\n",
       "  'ents': [{'start': 40, 'end': 39, 'label': 'MATCH'}]},\n",
       " {'text': 'i do recommend bsl frontline fund , bsl midcap fund , bsl dynamic bond fund , bsl balanced 95 fund which are providing good returns .',\n",
       "  'ents': [{'start': 47, 'end': 46, 'label': 'MATCH'}]},\n",
       " {'text': 'i do recommend bsl frontline fund , bsl midcap fund , bsl dynamic bond fund , bsl balanced 95 fund which are providing good returns .',\n",
       "  'ents': [{'start': 52, 'end': 51, 'label': 'MATCH'}]},\n",
       " {'text': 'i do recommend bsl frontline fund , bsl midcap fund , bsl dynamic bond fund , bsl balanced 95 fund which are providing good returns .',\n",
       "  'ents': [{'start': 54, 'end': 53, 'label': 'MATCH'}]},\n",
       " {'text': 'i do recommend bsl frontline fund , bsl midcap fund , bsl dynamic bond fund , bsl balanced 95 fund which are providing good returns .',\n",
       "  'ents': [{'start': 58, 'end': 57, 'label': 'MATCH'}]},\n",
       " {'text': 'i do recommend bsl frontline fund , bsl midcap fund , bsl dynamic bond fund , bsl balanced 95 fund which are providing good returns .',\n",
       "  'ents': [{'start': 58, 'end': 65, 'label': 'MATCH'}]},\n",
       " {'text': 'i do recommend bsl frontline fund , bsl midcap fund , bsl dynamic bond fund , bsl balanced 95 fund which are providing good returns .',\n",
       "  'ents': [{'start': 66, 'end': 65, 'label': 'MATCH'}]},\n",
       " {'text': 'i do recommend bsl frontline fund , bsl midcap fund , bsl dynamic bond fund , bsl balanced 95 fund which are providing good returns .',\n",
       "  'ents': [{'start': 71, 'end': 70, 'label': 'MATCH'}]},\n",
       " {'text': 'i do recommend bsl frontline fund , bsl midcap fund , bsl dynamic bond fund , bsl balanced 95 fund which are providing good returns .',\n",
       "  'ents': [{'start': 76, 'end': 75, 'label': 'MATCH'}]},\n",
       " {'text': 'i do recommend bsl frontline fund , bsl midcap fund , bsl dynamic bond fund , bsl balanced 95 fund which are providing good returns .',\n",
       "  'ents': [{'start': 78, 'end': 77, 'label': 'MATCH'}]},\n",
       " {'text': 'i do recommend bsl frontline fund , bsl midcap fund , bsl dynamic bond fund , bsl balanced 95 fund which are providing good returns .',\n",
       "  'ents': [{'start': 82, 'end': 81, 'label': 'MATCH'}]},\n",
       " {'text': 'i do recommend bsl frontline fund , bsl midcap fund , bsl dynamic bond fund , bsl balanced 95 fund which are providing good returns .',\n",
       "  'ents': [{'start': 91, 'end': 90, 'label': 'MATCH'}]},\n",
       " {'text': 'i do recommend bsl frontline fund , bsl midcap fund , bsl dynamic bond fund , bsl balanced 95 fund which are providing good returns .',\n",
       "  'ents': [{'start': 94, 'end': 93, 'label': 'MATCH'}]},\n",
       " {'text': 'i do recommend bsl frontline fund , bsl midcap fund , bsl dynamic bond fund , bsl balanced 95 fund which are providing good returns .',\n",
       "  'ents': [{'start': 99, 'end': 98, 'label': 'MATCH'}]},\n",
       " {'text': 'i do recommend bsl frontline fund , bsl midcap fund , bsl dynamic bond fund , bsl balanced 95 fund which are providing good returns .',\n",
       "  'ents': [{'start': 105, 'end': 104, 'label': 'MATCH'}]},\n",
       " {'text': 'i do recommend bsl frontline fund , bsl midcap fund , bsl dynamic bond fund , bsl balanced 95 fund which are providing good returns .',\n",
       "  'ents': [{'start': 109, 'end': 108, 'label': 'MATCH'}]},\n",
       " {'text': 'i do recommend bsl frontline fund , bsl midcap fund , bsl dynamic bond fund , bsl balanced 95 fund which are providing good returns .',\n",
       "  'ents': [{'start': 119, 'end': 118, 'label': 'MATCH'}]},\n",
       " {'text': 'i do recommend bsl frontline fund , bsl midcap fund , bsl dynamic bond fund , bsl balanced 95 fund which are providing good returns .',\n",
       "  'ents': [{'start': 119, 'end': 123, 'label': 'MATCH'}]},\n",
       " {'text': 'i do recommend bsl frontline fund , bsl midcap fund , bsl dynamic bond fund , bsl balanced 95 fund which are providing good returns .',\n",
       "  'ents': [{'start': 124, 'end': 123, 'label': 'MATCH'}]},\n",
       " {'text': 'i do recommend bsl frontline fund , bsl midcap fund , bsl dynamic bond fund , bsl balanced 95 fund which are providing good returns .',\n",
       "  'ents': [{'start': 132, 'end': 131, 'label': 'MATCH'}]}]"
      ]
     },
     "execution_count": 104,
     "metadata": {},
     "output_type": "execute_result"
    }
   ],
   "source": [
    "matched_sents"
   ]
  },
  {
   "cell_type": "code",
   "execution_count": 114,
   "metadata": {},
   "outputs": [
    {
     "data": {
      "text/html": [
       "<div class=\"entities\" style=\"line-height: 2.5; direction: ltr\">i do recommend \n",
       "<mark class=\"entity\" style=\"background: #ddd; padding: 0.45em 0.6em; margin: 0 0.25em; line-height: 1; border-radius: 0.35em; box-decoration-break: clone; -webkit-box-decoration-break: clone\">\n",
       "    bsl frontline fund\n",
       "    <span style=\"font-size: 0.8em; font-weight: bold; line-height: 1; border-radius: 0.35em; text-transform: uppercase; vertical-align: middle; margin-left: 0.5rem\">MATCH</span>\n",
       "</mark>\n",
       " , bsl midcap fund , bsl dynamic bond fund , bsl balanced 95 fund which are providing good returns .</div>\n",
       "\n",
       "<div class=\"entities\" style=\"line-height: 2.5; direction: ltr\">i do recommend bsl \n",
       "<mark class=\"entity\" style=\"background: #ddd; padding: 0.45em 0.6em; margin: 0 0.25em; line-height: 1; border-radius: 0.35em; box-decoration-break: clone; -webkit-box-decoration-break: clone\">\n",
       "    frontline fund\n",
       "    <span style=\"font-size: 0.8em; font-weight: bold; line-height: 1; border-radius: 0.35em; text-transform: uppercase; vertical-align: middle; margin-left: 0.5rem\">MATCH</span>\n",
       "</mark>\n",
       " , bsl midcap fund , bsl dynamic bond fund , bsl balanced 95 fund which are providing good returns .</div>\n",
       "\n",
       "<div class=\"entities\" style=\"line-height: 2.5; direction: ltr\">i do recommend bsl frontline \n",
       "<mark class=\"entity\" style=\"background: #ddd; padding: 0.45em 0.6em; margin: 0 0.25em; line-height: 1; border-radius: 0.35em; box-decoration-break: clone; -webkit-box-decoration-break: clone\">\n",
       "    fund\n",
       "    <span style=\"font-size: 0.8em; font-weight: bold; line-height: 1; border-radius: 0.35em; text-transform: uppercase; vertical-align: middle; margin-left: 0.5rem\">MATCH</span>\n",
       "</mark>\n",
       " , bsl midcap fund , bsl dynamic bond fund , bsl balanced 95 fund which are providing good returns .</div>\n",
       "\n",
       "<div class=\"entities\" style=\"line-height: 2.5; direction: ltr\">i do recommend bsl frontline fund , \n",
       "<mark class=\"entity\" style=\"background: #ddd; padding: 0.45em 0.6em; margin: 0 0.25em; line-height: 1; border-radius: 0.35em; box-decoration-break: clone; -webkit-box-decoration-break: clone\">\n",
       "    bsl\n",
       "    <span style=\"font-size: 0.8em; font-weight: bold; line-height: 1; border-radius: 0.35em; text-transform: uppercase; vertical-align: middle; margin-left: 0.5rem\">MATCH</span>\n",
       "</mark>\n",
       " midcap fund , bsl dynamic bond fund , bsl balanced 95 fund which are providing good returns .</div>\n",
       "\n",
       "<div class=\"entities\" style=\"line-height: 2.5; direction: ltr\">i do recommend bsl frontline fund , \n",
       "<mark class=\"entity\" style=\"background: #ddd; padding: 0.45em 0.6em; margin: 0 0.25em; line-height: 1; border-radius: 0.35em; box-decoration-break: clone; -webkit-box-decoration-break: clone\">\n",
       "    bsl midcap\n",
       "    <span style=\"font-size: 0.8em; font-weight: bold; line-height: 1; border-radius: 0.35em; text-transform: uppercase; vertical-align: middle; margin-left: 0.5rem\">MATCH</span>\n",
       "</mark>\n",
       " fund , bsl dynamic bond fund , bsl balanced 95 fund which are providing good returns .</div>\n",
       "\n",
       "<div class=\"entities\" style=\"line-height: 2.5; direction: ltr\">i do recommend bsl frontline fund , bsl \n",
       "<mark class=\"entity\" style=\"background: #ddd; padding: 0.45em 0.6em; margin: 0 0.25em; line-height: 1; border-radius: 0.35em; box-decoration-break: clone; -webkit-box-decoration-break: clone\">\n",
       "    midcap\n",
       "    <span style=\"font-size: 0.8em; font-weight: bold; line-height: 1; border-radius: 0.35em; text-transform: uppercase; vertical-align: middle; margin-left: 0.5rem\">MATCH</span>\n",
       "</mark>\n",
       " fund , bsl dynamic bond fund , bsl balanced 95 fund which are providing good returns .</div>\n",
       "\n",
       "<div class=\"entities\" style=\"line-height: 2.5; direction: ltr\">i do recommend bsl frontline fund , \n",
       "<mark class=\"entity\" style=\"background: #ddd; padding: 0.45em 0.6em; margin: 0 0.25em; line-height: 1; border-radius: 0.35em; box-decoration-break: clone; -webkit-box-decoration-break: clone\">\n",
       "    bsl midcap fund\n",
       "    <span style=\"font-size: 0.8em; font-weight: bold; line-height: 1; border-radius: 0.35em; text-transform: uppercase; vertical-align: middle; margin-left: 0.5rem\">MATCH</span>\n",
       "</mark>\n",
       " , bsl dynamic bond fund , bsl balanced 95 fund which are providing good returns .</div>\n",
       "\n",
       "<div class=\"entities\" style=\"line-height: 2.5; direction: ltr\">i do recommend bsl frontline fund , bsl \n",
       "<mark class=\"entity\" style=\"background: #ddd; padding: 0.45em 0.6em; margin: 0 0.25em; line-height: 1; border-radius: 0.35em; box-decoration-break: clone; -webkit-box-decoration-break: clone\">\n",
       "    midcap fund\n",
       "    <span style=\"font-size: 0.8em; font-weight: bold; line-height: 1; border-radius: 0.35em; text-transform: uppercase; vertical-align: middle; margin-left: 0.5rem\">MATCH</span>\n",
       "</mark>\n",
       " , bsl dynamic bond fund , bsl balanced 95 fund which are providing good returns .</div>\n",
       "\n",
       "<div class=\"entities\" style=\"line-height: 2.5; direction: ltr\">i do recommend bsl frontline fund , bsl midcap \n",
       "<mark class=\"entity\" style=\"background: #ddd; padding: 0.45em 0.6em; margin: 0 0.25em; line-height: 1; border-radius: 0.35em; box-decoration-break: clone; -webkit-box-decoration-break: clone\">\n",
       "    fund\n",
       "    <span style=\"font-size: 0.8em; font-weight: bold; line-height: 1; border-radius: 0.35em; text-transform: uppercase; vertical-align: middle; margin-left: 0.5rem\">MATCH</span>\n",
       "</mark>\n",
       " , bsl dynamic bond fund , bsl balanced 95 fund which are providing good returns .</div>\n",
       "\n",
       "<div class=\"entities\" style=\"line-height: 2.5; direction: ltr\">i do recommend bsl frontline fund , bsl midcap fund , bsl \n",
       "<mark class=\"entity\" style=\"background: #ddd; padding: 0.45em 0.6em; margin: 0 0.25em; line-height: 1; border-radius: 0.35em; box-decoration-break: clone; -webkit-box-decoration-break: clone\">\n",
       "    dynamic bond\n",
       "    <span style=\"font-size: 0.8em; font-weight: bold; line-height: 1; border-radius: 0.35em; text-transform: uppercase; vertical-align: middle; margin-left: 0.5rem\">MATCH</span>\n",
       "</mark>\n",
       " fund , bsl balanced 95 fund which are providing good returns .</div>\n",
       "\n",
       "<div class=\"entities\" style=\"line-height: 2.5; direction: ltr\">i do recommend bsl frontline fund , bsl midcap fund , bsl dynamic \n",
       "<mark class=\"entity\" style=\"background: #ddd; padding: 0.45em 0.6em; margin: 0 0.25em; line-height: 1; border-radius: 0.35em; box-decoration-break: clone; -webkit-box-decoration-break: clone\">\n",
       "    bond\n",
       "    <span style=\"font-size: 0.8em; font-weight: bold; line-height: 1; border-radius: 0.35em; text-transform: uppercase; vertical-align: middle; margin-left: 0.5rem\">MATCH</span>\n",
       "</mark>\n",
       " fund , bsl balanced 95 fund which are providing good returns .</div>\n",
       "\n",
       "<div class=\"entities\" style=\"line-height: 2.5; direction: ltr\">i do recommend bsl frontline fund , bsl midcap fund , bsl \n",
       "<mark class=\"entity\" style=\"background: #ddd; padding: 0.45em 0.6em; margin: 0 0.25em; line-height: 1; border-radius: 0.35em; box-decoration-break: clone; -webkit-box-decoration-break: clone\">\n",
       "    dynamic bond fund\n",
       "    <span style=\"font-size: 0.8em; font-weight: bold; line-height: 1; border-radius: 0.35em; text-transform: uppercase; vertical-align: middle; margin-left: 0.5rem\">MATCH</span>\n",
       "</mark>\n",
       " , bsl balanced 95 fund which are providing good returns .</div>\n",
       "\n",
       "<div class=\"entities\" style=\"line-height: 2.5; direction: ltr\">i do recommend bsl frontline fund , bsl midcap fund , bsl dynamic \n",
       "<mark class=\"entity\" style=\"background: #ddd; padding: 0.45em 0.6em; margin: 0 0.25em; line-height: 1; border-radius: 0.35em; box-decoration-break: clone; -webkit-box-decoration-break: clone\">\n",
       "    bond fund\n",
       "    <span style=\"font-size: 0.8em; font-weight: bold; line-height: 1; border-radius: 0.35em; text-transform: uppercase; vertical-align: middle; margin-left: 0.5rem\">MATCH</span>\n",
       "</mark>\n",
       " , bsl balanced 95 fund which are providing good returns .</div>\n",
       "\n",
       "<div class=\"entities\" style=\"line-height: 2.5; direction: ltr\">i do recommend bsl frontline fund , bsl midcap fund , bsl dynamic bond \n",
       "<mark class=\"entity\" style=\"background: #ddd; padding: 0.45em 0.6em; margin: 0 0.25em; line-height: 1; border-radius: 0.35em; box-decoration-break: clone; -webkit-box-decoration-break: clone\">\n",
       "    fund\n",
       "    <span style=\"font-size: 0.8em; font-weight: bold; line-height: 1; border-radius: 0.35em; text-transform: uppercase; vertical-align: middle; margin-left: 0.5rem\">MATCH</span>\n",
       "</mark>\n",
       " , bsl balanced 95 fund which are providing good returns .</div>\n",
       "\n",
       "<div class=\"entities\" style=\"line-height: 2.5; direction: ltr\">i do recommend bsl frontline fund , bsl midcap fund , bsl dynamic bond fund , bsl balanced 95 \n",
       "<mark class=\"entity\" style=\"background: #ddd; padding: 0.45em 0.6em; margin: 0 0.25em; line-height: 1; border-radius: 0.35em; box-decoration-break: clone; -webkit-box-decoration-break: clone\">\n",
       "    fund\n",
       "    <span style=\"font-size: 0.8em; font-weight: bold; line-height: 1; border-radius: 0.35em; text-transform: uppercase; vertical-align: middle; margin-left: 0.5rem\">MATCH</span>\n",
       "</mark>\n",
       " which are providing good returns .</div>"
      ],
      "text/plain": [
       "<IPython.core.display.HTML object>"
      ]
     },
     "metadata": {},
     "output_type": "display_data"
    }
   ],
   "source": [
    "matched_sents = []\n",
    "#pattern = [{\"LOWER\": \"facebook\"}, {\"LEMMA\": \"be\"}, {\"POS\": \"ADV\", \"OP\": \"*\"},\n",
    "#           {\"POS\": \"ADJ\"}]\n",
    "\n",
    "#text = \"I'd say that Facebook is evil. – Facebook is pretty cool, right?\"\n",
    "pattern = [\n",
    "    {'TAG':'JJ','OP':'*'},\n",
    "    {'TAG':'NN','OP':'+'},\n",
    "]\n",
    "    \n",
    "display_matched_pharses(data.L1_Verbatim.values[0],pattern)"
   ]
  },
  {
   "cell_type": "markdown",
   "metadata": {},
   "source": [
    "## Method 3"
   ]
  },
  {
   "cell_type": "code",
   "execution_count": 90,
   "metadata": {},
   "outputs": [],
   "source": [
    "import re"
   ]
  },
  {
   "cell_type": "code",
   "execution_count": 124,
   "metadata": {},
   "outputs": [],
   "source": [
    "def filtered_chunks_tag(doc, pattern):\n",
    "  for chunk in doc.noun_chunks:\n",
    "    signature = ''.join(['<%s>' % w.tag_ for w in chunk])\n",
    "    if pattern.match(signature) is not None:\n",
    "      yield chunk\n",
    "    \n",
    "def filtered_chunks_tag_all(texts, pattern):\n",
    "    result = set()\n",
    "    \n",
    "    for text in texts:\n",
    "        doc = nlp(text)\n",
    "        t_r = list(filtered_chunks_tag(doc,pattern))\n",
    "        "
   ]
  },
  {
   "cell_type": "code",
   "execution_count": null,
   "metadata": {},
   "outputs": [],
   "source": [
    "def temp_fun(doc, pattern):\n",
    "    signature = ''.join(['<%s>' % w.tag_ for w in doc])\n",
    "    if pattern.match(signature) is not None:\n",
    "      yield chunk"
   ]
  },
  {
   "cell_type": "code",
   "execution_count": 166,
   "metadata": {},
   "outputs": [],
   "source": [
    "signature = ''.join(['<%s>' % w.tag_ for w in doc])\n",
    "pattern = re.compile(r'(<JJ>)*(<NN>|<NNS>|<NNP>)+')\n",
    "z = pattern.match(signature)"
   ]
  },
  {
   "cell_type": "code",
   "execution_count": 167,
   "metadata": {},
   "outputs": [
    {
     "data": {
      "text/plain": [
       "[('<JJ>', '<NN>'), ('', '<NN>')]"
      ]
     },
     "execution_count": 167,
     "metadata": {},
     "output_type": "execute_result"
    }
   ],
   "source": [
    "pattern.findall(signature)"
   ]
  },
  {
   "cell_type": "code",
   "execution_count": 159,
   "metadata": {},
   "outputs": [],
   "source": []
  },
  {
   "cell_type": "code",
   "execution_count": 131,
   "metadata": {},
   "outputs": [],
   "source": [
    "def filtered_chunks_by_pos(doc, pattern):\n",
    "  for chunk in doc.noun_chunks:\n",
    "    signature = ''.join(['<%s>' % w.pos_ for w in chunk])\n",
    "    if pattern.match(signature) is not None:\n",
    "      yield chunk"
   ]
  },
  {
   "cell_type": "code",
   "execution_count": null,
   "metadata": {},
   "outputs": [],
   "source": []
  },
  {
   "cell_type": "code",
   "execution_count": 142,
   "metadata": {},
   "outputs": [
    {
     "data": {
      "text/plain": [
       "'and i do recommend bsl frontline equity fund , bsl equity fund ,'"
      ]
     },
     "execution_count": 142,
     "metadata": {},
     "output_type": "execute_result"
    }
   ],
   "source": [
    "data.L1_Verbatim.values[9]"
   ]
  },
  {
   "cell_type": "code",
   "execution_count": 168,
   "metadata": {},
   "outputs": [
    {
     "name": "stdout",
     "output_type": "stream",
     "text": [
      "[bsl frontline equity fund, bsl equity fund]\n"
     ]
    }
   ],
   "source": [
    "doc = nlp(data.L1_Verbatim.values[9])\n",
    "pattern = re.compile(r'(<JJ>)*(<NN>|<NNS>|<NNP>)+')\n",
    "\n",
    "print(list(filtered_chunks_tag(doc, pattern)))"
   ]
  },
  {
   "cell_type": "code",
   "execution_count": 144,
   "metadata": {},
   "outputs": [
    {
     "name": "stdout",
     "output_type": "stream",
     "text": [
      "[bsl equity fund]\n"
     ]
    }
   ],
   "source": [
    "doc = nlp(data.L1_Verbatim.values[9])\n",
    "pattern = re.compile(r'(<DET>)*(<NOUN>)+')\n",
    "\n",
    "print(list(filtered_chunks_by_pos(doc, pattern)))"
   ]
  },
  {
   "cell_type": "code",
   "execution_count": 169,
   "metadata": {},
   "outputs": [
    {
     "data": {
      "text/plain": [
       "2"
      ]
     },
     "execution_count": 169,
     "metadata": {},
     "output_type": "execute_result"
    }
   ],
   "source": [
    "1+1"
   ]
  },
  {
   "cell_type": "code",
   "execution_count": null,
   "metadata": {},
   "outputs": [],
   "source": []
  }
 ],
 "metadata": {
  "kernelspec": {
   "display_name": "Python 3",
   "language": "python",
   "name": "python3"
  },
  "language_info": {
   "codemirror_mode": {
    "name": "ipython",
    "version": 3
   },
   "file_extension": ".py",
   "mimetype": "text/x-python",
   "name": "python",
   "nbconvert_exporter": "python",
   "pygments_lexer": "ipython3",
   "version": "3.7.4"
  }
 },
 "nbformat": 4,
 "nbformat_minor": 2
}
