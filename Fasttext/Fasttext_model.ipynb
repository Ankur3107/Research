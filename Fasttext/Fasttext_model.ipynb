{
 "cells": [
  {
   "cell_type": "markdown",
   "metadata": {},
   "source": [
    "## Full word"
   ]
  },
  {
   "cell_type": "code",
   "execution_count": 11,
   "metadata": {},
   "outputs": [],
   "source": [
    "import fasttext"
   ]
  },
  {
   "cell_type": "code",
   "execution_count": 22,
   "metadata": {},
   "outputs": [],
   "source": [
    "model_without_subword = fasttext.train_unsupervised('data/full_amc_data.txt', epoch=3, lr=0.1, thread=8, maxn=0, model='cbow', dim=128)"
   ]
  },
  {
   "cell_type": "code",
   "execution_count": 30,
   "metadata": {},
   "outputs": [],
   "source": [
    "model_without_subword2 = fasttext.train_unsupervised('data/full_amc_data.txt', epoch=3, lr=0.1, thread=8, maxn=0, model='skipgram', dim=128)\n"
   ]
  },
  {
   "cell_type": "code",
   "execution_count": 31,
   "metadata": {},
   "outputs": [
    {
     "data": {
      "text/plain": [
       "(16709, 16709)"
      ]
     },
     "execution_count": 31,
     "metadata": {},
     "output_type": "execute_result"
    }
   ],
   "source": [
    "len(model_without_subword.words), len(model_without_subword2.words)"
   ]
  },
  {
   "cell_type": "code",
   "execution_count": 32,
   "metadata": {},
   "outputs": [
    {
     "data": {
      "text/plain": [
       "[(0.5893064141273499, 'vey'),\n",
       " (0.5409567952156067, 'returns.Your'),\n",
       " (0.5131157636642456, '1)ABSL'),\n",
       " (0.5031503438949585, 'ver'),\n",
       " (0.49860596656799316, 'services.BSL'),\n",
       " (0.49840372800827026, 'services.ABSL'),\n",
       " (0.49719253182411194, 'services.Also'),\n",
       " (0.49109193682670593, 'MANGALORE'),\n",
       " (0.4900820851325989, 'good,Your'),\n",
       " (0.48501384258270264, '.The')]"
      ]
     },
     "execution_count": 32,
     "metadata": {},
     "output_type": "execute_result"
    }
   ],
   "source": [
    "model_without_subword.get_nearest_neighbors('very')"
   ]
  },
  {
   "cell_type": "code",
   "execution_count": 34,
   "metadata": {},
   "outputs": [
    {
     "data": {
      "text/plain": [
       "[(0.7141319513320923, 'expreience'),\n",
       " (0.7093530893325806, 'overall'),\n",
       " (0.6956684589385986, 'fine.'),\n",
       " (0.6695338487625122, 'exeperience'),\n",
       " (0.6457159519195557, 'good.2}'),\n",
       " (0.6431264281272888, 'sure,'),\n",
       " (0.6409567594528198, 'iwth'),\n",
       " (0.6334841847419739, 'yet.2}'),\n",
       " (0.6273036599159241, '1}My'),\n",
       " (0.6223120093345642, 'far.The')]"
      ]
     },
     "execution_count": 34,
     "metadata": {},
     "output_type": "execute_result"
    }
   ],
   "source": [
    "model_without_subword2.get_nearest_neighbors('fine')"
   ]
  },
  {
   "cell_type": "markdown",
   "metadata": {},
   "source": [
    "# Sub word model"
   ]
  },
  {
   "cell_type": "code",
   "execution_count": 2,
   "metadata": {},
   "outputs": [],
   "source": [
    "import fasttext"
   ]
  },
  {
   "cell_type": "code",
   "execution_count": 9,
   "metadata": {},
   "outputs": [],
   "source": [
    "#Good model\n",
    "#model_with_subword = fasttext.train_unsupervised('data/full_amc_data.txt', epoch=3, lr=0.05, thread=8, minn=2, maxn=5, model='skipgram', dim=128)\n"
   ]
  },
  {
   "cell_type": "code",
   "execution_count": 20,
   "metadata": {},
   "outputs": [],
   "source": [
    "model_with_subword = fasttext.train_unsupervised('data/full_amc_cleaned_data.txt', epoch=5, lr=0.05, thread=8, minn=1, maxn=2, model='skipgram', dim=128)\n"
   ]
  },
  {
   "cell_type": "code",
   "execution_count": 21,
   "metadata": {},
   "outputs": [
    {
     "data": {
      "text/plain": [
       "8321"
      ]
     },
     "execution_count": 21,
     "metadata": {},
     "output_type": "execute_result"
    }
   ],
   "source": [
    "len(model_with_subword.words)"
   ]
  },
  {
   "cell_type": "code",
   "execution_count": 22,
   "metadata": {
    "scrolled": true
   },
   "outputs": [
    {
     "data": {
      "text/plain": [
       "['.',\n",
       " 'the',\n",
       " 'i',\n",
       " 'is',\n",
       " ')',\n",
       " 'and',\n",
       " ',',\n",
       " 'good',\n",
       " '</s>',\n",
       " 'fund',\n",
       " 'in',\n",
       " 'to',\n",
       " 'of',\n",
       " 'as',\n",
       " 'my',\n",
       " 'am',\n",
       " '1',\n",
       " 'not',\n",
       " 'with',\n",
       " 'are',\n",
       " 'absl',\n",
       " 'it',\n",
       " 'have',\n",
       " 'very',\n",
       " '2',\n",
       " 'from',\n",
       " 'returns',\n",
       " '(',\n",
       " 'that',\n",
       " 'funds',\n",
       " 'services',\n",
       " 'but',\n",
       " 'for',\n",
       " 'branch',\n",
       " 'also',\n",
       " 'so',\n",
       " 'birla',\n",
       " 'website',\n",
       " 'on',\n",
       " 'bsl',\n",
       " 'a',\n",
       " 'your',\n",
       " 'equity',\n",
       " 'there',\n",
       " 'getting',\n",
       " 'performance',\n",
       " 'mf',\n",
       " 'experience',\n",
       " 'was',\n",
       " 'like',\n",
       " 'you',\n",
       " 'all',\n",
       " 'any',\n",
       " 'do',\n",
       " 'me',\n",
       " 'be',\n",
       " 'rm',\n",
       " '3',\n",
       " 'happy',\n",
       " 'they',\n",
       " 'should',\n",
       " 'well',\n",
       " 'this',\n",
       " 'other',\n",
       " 'time',\n",
       " 'has',\n",
       " 'if',\n",
       " 'we',\n",
       " 'no',\n",
       " 'get',\n",
       " 'investor',\n",
       " 'life',\n",
       " 'sun',\n",
       " '-',\n",
       " 'which',\n",
       " 'can',\n",
       " 'frontline',\n",
       " 'doing',\n",
       " 'he',\n",
       " 'through',\n",
       " 'at',\n",
       " '&',\n",
       " 'had',\n",
       " 'investment',\n",
       " 'abslmf',\n",
       " 'tax',\n",
       " 'or',\n",
       " 'terms',\n",
       " 'been',\n",
       " 'feedback',\n",
       " 'call',\n",
       " 'account',\n",
       " 'invested',\n",
       " 'performing',\n",
       " 'now',\n",
       " 'office',\n",
       " 'service',\n",
       " 'providing',\n",
       " 'will',\n",
       " 'one']"
      ]
     },
     "execution_count": 22,
     "metadata": {},
     "output_type": "execute_result"
    }
   ],
   "source": [
    "model_with_subword.words[0:100]"
   ]
  },
  {
   "cell_type": "code",
   "execution_count": 23,
   "metadata": {},
   "outputs": [
    {
     "data": {
      "text/plain": [
       "'60kms'"
      ]
     },
     "execution_count": 23,
     "metadata": {},
     "output_type": "execute_result"
    }
   ],
   "source": [
    "model_with_subword.words[-1]"
   ]
  },
  {
   "cell_type": "code",
   "execution_count": 27,
   "metadata": {},
   "outputs": [
    {
     "data": {
      "text/plain": [
       "[(0.7339162230491638, 'then'),\n",
       " (0.7245252132415771, 'would'),\n",
       " (0.7051384449005127, 'wil'),\n",
       " (0.686804473400116, 'soon'),\n",
       " (0.6857373118400574, 'if'),\n",
       " (0.6696764230728149, 'let'),\n",
       " (0.6543665528297424, 'hope'),\n",
       " (0.6464529633522034, 'future'),\n",
       " (0.6453181505203247, 'someone'),\n",
       " (0.6397968530654907, 'continue')]"
      ]
     },
     "execution_count": 27,
     "metadata": {},
     "output_type": "execute_result"
    }
   ],
   "source": [
    "model_with_subword.get_nearest_neighbors('will')"
   ]
  },
  {
   "cell_type": "code",
   "execution_count": 25,
   "metadata": {},
   "outputs": [
    {
     "data": {
      "text/plain": [
       "[(0.8147742748260498, 'cancellation'),\n",
       " (0.7960779666900635, 'cancelled'),\n",
       " (0.7750576734542847, 'canceled'),\n",
       " (0.7722066640853882, 'cancell'),\n",
       " (0.7507149577140808, 'register'),\n",
       " (0.7463169097900391, 'instance'),\n",
       " (0.7423263192176819, 'acceptance'),\n",
       " (0.7385469079017639, 'cvl'),\n",
       " (0.7263283729553223, 'cater'),\n",
       " (0.7261176705360413, 'cause')]"
      ]
     },
     "execution_count": 25,
     "metadata": {},
     "output_type": "execute_result"
    }
   ],
   "source": [
    "model_with_subword.get_nearest_neighbors('cancel')"
   ]
  },
  {
   "cell_type": "code",
   "execution_count": 19,
   "metadata": {},
   "outputs": [
    {
     "data": {
      "text/plain": [
       "[(0.8592315912246704, 'cancellation'),\n",
       " (0.8327322602272034, 'register'),\n",
       " (0.8209643959999084, 'terminate'),\n",
       " (0.8189334273338318, 'cancelled'),\n",
       " (0.8021407723426819, 'Second'),\n",
       " (0.8006399869918823, 'additional'),\n",
       " (0.8002569675445557, 'procedure'),\n",
       " (0.7994343042373657, 'confirm'),\n",
       " (0.7989397644996643, 'renew'),\n",
       " (0.7963918447494507, 'mandate')]"
      ]
     },
     "execution_count": 19,
     "metadata": {},
     "output_type": "execute_result"
    }
   ],
   "source": [
    "model_with_subword.get_nearest_neighbors('cancel')"
   ]
  },
  {
   "cell_type": "code",
   "execution_count": 43,
   "metadata": {
    "scrolled": true
   },
   "outputs": [
    {
     "data": {
      "text/plain": [
       "array([-0.40244323,  0.23644286,  0.04873888, -0.05363258,  0.18347959,\n",
       "       -0.12487114, -0.12199503, -0.0437623 ,  0.0430932 ,  0.16153285,\n",
       "       -0.00920089,  0.02514992, -0.1929009 , -0.11294784,  0.42955118,\n",
       "        0.12648869, -0.0353503 ,  0.12017868,  0.03865141, -0.05170015,\n",
       "        0.19149733, -0.28854626,  0.12884408, -0.03777873, -0.07318456,\n",
       "       -0.18155465,  0.00150979, -0.18965642,  0.02380054, -0.2441316 ,\n",
       "        0.16577116, -0.08163466,  0.04803105,  0.07390426,  0.2410133 ,\n",
       "        0.1218667 ,  0.15163249,  0.04414112,  0.10102437,  0.06830728,\n",
       "       -0.0605777 ,  0.10452471, -0.14943536,  0.23165151, -0.00285009,\n",
       "        0.03854588, -0.09160414,  0.21947625,  0.03211128, -0.10058771,\n",
       "        0.02896701, -0.20460106,  0.15992466, -0.06388922, -0.30071288,\n",
       "       -0.15886775, -0.01676324, -0.02012667, -0.07209087, -0.07340316,\n",
       "       -0.08222528,  0.08044127,  0.07081203, -0.06170177,  0.03496545,\n",
       "        0.00258193, -0.12139717, -0.10663231,  0.14713377,  0.10225891,\n",
       "       -0.01211905,  0.21856426, -0.1880943 ,  0.06842625,  0.08335263,\n",
       "       -0.10894887, -0.01703598,  0.03223713, -0.05561952,  0.01781058,\n",
       "        0.03040903,  0.01053933,  0.05589958, -0.01938785,  0.02776219,\n",
       "        0.22179708, -0.05999755, -0.01036681,  0.07688497,  0.17843929,\n",
       "       -0.02753272, -0.06080509,  0.13847378,  0.04608456,  0.25624123,\n",
       "        0.02245002,  0.1134351 ,  0.11219715, -0.13172068, -0.04741255,\n",
       "        0.21824682,  0.0241443 , -0.17414191,  0.08547169, -0.17815624,\n",
       "        0.10410126, -0.03193733,  0.03826019, -0.03673946, -0.1008752 ,\n",
       "       -0.00236805, -0.06627393,  0.14659771,  0.12517779,  0.0183657 ,\n",
       "       -0.03091764, -0.09721074,  0.0932377 ,  0.04077094,  0.18736605,\n",
       "        0.12928885, -0.03337001, -0.07921103, -0.00218163,  0.09897763,\n",
       "        0.0375985 ,  0.20127507,  0.10999465], dtype=float32)"
      ]
     },
     "execution_count": 43,
     "metadata": {},
     "output_type": "execute_result"
    }
   ],
   "source": [
    "model_with_subword.get_word_vector(\".\")"
   ]
  },
  {
   "cell_type": "code",
   "execution_count": 52,
   "metadata": {
    "scrolled": true
   },
   "outputs": [
    {
     "data": {
      "text/plain": [
       "array([[ 0.01061343, -0.12164888,  0.05221894, ...,  0.24261005,\n",
       "        -0.31781715, -0.10810866],\n",
       "       [ 0.35868806, -0.21033292,  0.05250785, ...,  0.2030781 ,\n",
       "        -0.30380148, -0.14354452],\n",
       "       [ 0.47806227, -0.20120277,  0.17486249, ...,  0.32937157,\n",
       "        -0.09933189, -0.10449684],\n",
       "       ...,\n",
       "       [ 1.0165639 , -0.19218887,  0.10172247, ...,  0.14526133,\n",
       "        -0.5283705 ,  0.02172193],\n",
       "       [ 0.28292507, -0.34421206,  0.12327496, ...,  0.3437881 ,\n",
       "        -0.8532546 ,  0.01107512],\n",
       "       [ 0.7220521 , -0.59449685, -0.2826865 , ...,  0.23784228,\n",
       "        -0.44066024, -0.01903158]], dtype=float32)"
      ]
     },
     "execution_count": 52,
     "metadata": {},
     "output_type": "execute_result"
    }
   ],
   "source": [
    "model_with_subword.get_output_matrix()"
   ]
  },
  {
   "cell_type": "code",
   "execution_count": 32,
   "metadata": {},
   "outputs": [
    {
     "data": {
      "text/plain": [
       "(8321, 128)"
      ]
     },
     "execution_count": 32,
     "metadata": {},
     "output_type": "execute_result"
    }
   ],
   "source": [
    "model_with_subword.get_output_matrix().shape"
   ]
  },
  {
   "cell_type": "code",
   "execution_count": 47,
   "metadata": {},
   "outputs": [],
   "source": [
    "model_with_subword.save_model('trained_model/amc_subword_model.bin')"
   ]
  },
  {
   "cell_type": "code",
   "execution_count": 55,
   "metadata": {},
   "outputs": [],
   "source": [
    "with open('trained_model/amc_vocab.txt','w') as file:\n",
    "    \n",
    "    for word in model_with_subword.words:\n",
    "        file.write(word+'\\n')\n",
    "        \n",
    "    for word in ['[UNK]','[SEP]','`','_']:\n",
    "        file.write(word+'\\n')\n",
    "        \n",
    "    file.close()"
   ]
  },
  {
   "cell_type": "code",
   "execution_count": 34,
   "metadata": {},
   "outputs": [],
   "source": [
    "import numpy as np"
   ]
  },
  {
   "cell_type": "code",
   "execution_count": 58,
   "metadata": {},
   "outputs": [],
   "source": [
    "final_matrix = []\n",
    "\n",
    "for word in model_with_subword.words:\n",
    "    final_matrix.append(model_with_subword.get_word_vector(word))\n",
    "    \n",
    "for t in ['[UNK]','[SEP]','`','_']:\n",
    "    final_matrix.append(list(np.random.uniform(-1,1,128)))"
   ]
  },
  {
   "cell_type": "code",
   "execution_count": 59,
   "metadata": {},
   "outputs": [
    {
     "data": {
      "text/plain": [
       "(8325, 128)"
      ]
     },
     "execution_count": 59,
     "metadata": {},
     "output_type": "execute_result"
    }
   ],
   "source": [
    "final_matrix = np.array(final_matrix)\n",
    "final_matrix.shape"
   ]
  },
  {
   "cell_type": "code",
   "execution_count": 60,
   "metadata": {},
   "outputs": [],
   "source": [
    "np.save('trained_model/amc_embedding_matrix.npy', final_matrix)"
   ]
  },
  {
   "cell_type": "code",
   "execution_count": 61,
   "metadata": {},
   "outputs": [
    {
     "data": {
      "text/plain": [
       "'/tf/Ankur_Workspace/projects/fastText'"
      ]
     },
     "execution_count": 61,
     "metadata": {},
     "output_type": "execute_result"
    }
   ],
   "source": [
    "pwd"
   ]
  },
  {
   "cell_type": "code",
   "execution_count": null,
   "metadata": {},
   "outputs": [],
   "source": []
  }
 ],
 "metadata": {
  "kernelspec": {
   "display_name": "Python 3",
   "language": "python",
   "name": "python3"
  },
  "language_info": {
   "codemirror_mode": {
    "name": "ipython",
    "version": 3
   },
   "file_extension": ".py",
   "mimetype": "text/x-python",
   "name": "python",
   "nbconvert_exporter": "python",
   "pygments_lexer": "ipython3",
   "version": "3.6.8"
  }
 },
 "nbformat": 4,
 "nbformat_minor": 2
}
