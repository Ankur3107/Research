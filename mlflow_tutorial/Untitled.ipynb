{
 "cells": [
  {
   "cell_type": "code",
   "execution_count": 4,
   "metadata": {
    "scrolled": true
   },
   "outputs": [
    {
     "name": "stdout",
     "output_type": "stream",
     "text": [
      "^C\r\n",
      "Traceback (most recent call last):\r\n",
      "  File \"/Users/ankur.kumar/tf2_env/bin/mlflow\", line 5, in <module>\r\n",
      "    from mlflow.cli import cli\r\n",
      "  File \"/Users/ankur.kumar/tf2_env/lib/python3.7/site-packages/mlflow/__init__.py\", line 31, in <module>\r\n",
      "    import mlflow.tracking._model_registry.fluent\r\n",
      "  File \"/Users/ankur.kumar/tf2_env/lib/python3.7/site-packages/mlflow/tracking/__init__.py\", line 16, in <module>\r\n",
      "    from mlflow.tracking.fluent import _EXPERIMENT_ID_ENV_VAR, _EXPERIMENT_NAME_ENV_VAR, \\\r\n",
      "  File \"/Users/ankur.kumar/tf2_env/lib/python3.7/site-packages/mlflow/tracking/fluent.py\", line 14, in <module>\r\n",
      "    import pandas as pd\r\n",
      "  File \"/Users/ankur.kumar/tf2_env/lib/python3.7/site-packages/pandas/__init__.py\", line 55, in <module>\r\n",
      "    from pandas.core.api import (\r\n",
      "  File \"/Users/ankur.kumar/tf2_env/lib/python3.7/site-packages/pandas/core/api.py\", line 24, in <module>\r\n",
      "    from pandas.core.groupby import Grouper, NamedAgg\r\n",
      "  File \"/Users/ankur.kumar/tf2_env/lib/python3.7/site-packages/pandas/core/groupby/__init__.py\", line 1, in <module>\r\n",
      "    from pandas.core.groupby.generic import (  # noqa: F401\r\n",
      "  File \"/Users/ankur.kumar/tf2_env/lib/python3.7/site-packages/pandas/core/groupby/generic.py\", line 44, in <module>\r\n",
      "    from pandas.core.frame import DataFrame\r\n",
      "  File \"/Users/ankur.kumar/tf2_env/lib/python3.7/site-packages/pandas/core/frame.py\", line 115, in <module>\r\n",
      "    from pandas.core.series import Series\r\n",
      "  File \"/Users/ankur.kumar/tf2_env/lib/python3.7/site-packages/pandas/core/series.py\", line 84, in <module>\r\n",
      "    import pandas.plotting\r\n",
      "  File \"/Users/ankur.kumar/tf2_env/lib/python3.7/site-packages/pandas/plotting/__init__.py\", line 59, in <module>\r\n",
      "    from pandas.plotting._core import (\r\n",
      "  File \"/Users/ankur.kumar/tf2_env/lib/python3.7/site-packages/pandas/plotting/_core.py\", line 17, in <module>\r\n",
      "    import pandas.plotting._matplotlib  # noqa\r\n",
      "  File \"/Users/ankur.kumar/tf2_env/lib/python3.7/site-packages/pandas/plotting/_matplotlib/__init__.py\", line 3, in <module>\r\n",
      "    from pandas.plotting._matplotlib.boxplot import (\r\n",
      "  File \"/Users/ankur.kumar/tf2_env/lib/python3.7/site-packages/pandas/plotting/_matplotlib/boxplot.py\", line 4, in <module>\r\n",
      "    from matplotlib.artist import setp\r\n",
      "  File \"/Users/ankur.kumar/tf2_env/lib/python3.7/site-packages/matplotlib/__init__.py\", line 138, in <module>\r\n",
      "    from . import cbook, rcsetup\r\n",
      "  File \"/Users/ankur.kumar/tf2_env/lib/python3.7/site-packages/matplotlib/rcsetup.py\", line 24, in <module>\r\n",
      "    from matplotlib.fontconfig_pattern import parse_fontconfig_pattern\r\n",
      "  File \"/Users/ankur.kumar/tf2_env/lib/python3.7/site-packages/matplotlib/fontconfig_pattern.py\", line 18, in <module>\r\n",
      "    from pyparsing import (Literal, ZeroOrMore, Optional, Regex, StringEnd,\r\n",
      "  File \"<frozen importlib._bootstrap>\", line 983, in _find_and_load\r\n",
      "  File \"<frozen importlib._bootstrap>\", line 967, in _find_and_load_unlocked\r\n",
      "  File \"<frozen importlib._bootstrap>\", line 677, in _load_unlocked\r\n",
      "  File \"<frozen importlib._bootstrap_external>\", line 724, in exec_module\r\n",
      "  File \"<frozen importlib._bootstrap_external>\", line 818, in get_code\r\n",
      "  File \"<frozen importlib._bootstrap_external>\", line 917, in get_data\r\n",
      "KeyboardInterrupt\r\n"
     ]
    }
   ],
   "source": [
    "!mlflow ui"
   ]
  },
  {
   "cell_type": "code",
   "execution_count": null,
   "metadata": {
    "scrolled": true
   },
   "outputs": [],
   "source": []
  },
  {
   "cell_type": "code",
   "execution_count": null,
   "metadata": {},
   "outputs": [],
   "source": []
  }
 ],
 "metadata": {
  "kernelspec": {
   "display_name": "Python 3.7.5 64-bit ('tf2_env': venv)",
   "language": "python",
   "name": "python37564bittf2envvenv9baad5f63bf544adb456767f347f0830"
  },
  "language_info": {
   "codemirror_mode": {
    "name": "ipython",
    "version": 3
   },
   "file_extension": ".py",
   "mimetype": "text/x-python",
   "name": "python",
   "nbconvert_exporter": "python",
   "pygments_lexer": "ipython3",
   "version": "3.7.5"
  }
 },
 "nbformat": 4,
 "nbformat_minor": 2
}
