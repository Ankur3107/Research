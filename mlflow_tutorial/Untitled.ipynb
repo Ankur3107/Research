{
 "cells": [
  {
   "cell_type": "code",
   "execution_count": null,
   "metadata": {
    "scrolled": true
   },
   "outputs": [
    {
     "name": "stdout",
     "output_type": "stream",
     "text": [
      "[2020-05-12 20:21:40 +0530] [45744] [INFO] Starting gunicorn 20.0.4\n",
      "[2020-05-12 20:21:40 +0530] [45744] [INFO] Listening at: http://127.0.0.1:5000 (45744)\n",
      "[2020-05-12 20:21:40 +0530] [45744] [INFO] Using worker: sync\n",
      "[2020-05-12 20:21:40 +0530] [45747] [INFO] Booting worker with pid: 45747\n",
      "[2020-05-12 21:24:03 +0530] [45744] [CRITICAL] WORKER TIMEOUT (pid:45747)\n",
      "[2020-05-12 21:24:03 +0530] [45747] [INFO] Worker exiting (pid: 45747)\n",
      "[2020-05-12 21:24:03 +0530] [48254] [INFO] Booting worker with pid: 48254\n",
      "[2020-05-12 21:39:06 +0530] [45744] [CRITICAL] WORKER TIMEOUT (pid:48254)\n",
      "[2020-05-12 21:39:06 +0530] [48254] [INFO] Worker exiting (pid: 48254)\n",
      "[2020-05-12 21:39:06 +0530] [48269] [INFO] Booting worker with pid: 48269\n",
      "[2020-05-12 22:10:21 +0530] [45744] [CRITICAL] WORKER TIMEOUT (pid:48269)\n",
      "[2020-05-12 22:10:21 +0530] [48269] [INFO] Worker exiting (pid: 48269)\n",
      "[2020-05-12 22:10:21 +0530] [48376] [INFO] Booting worker with pid: 48376\n"
     ]
    }
   ],
   "source": [
    "!mlflow ui"
   ]
  },
  {
   "cell_type": "code",
   "execution_count": null,
   "metadata": {
    "scrolled": true
   },
   "outputs": [],
   "source": []
  },
  {
   "cell_type": "code",
   "execution_count": null,
   "metadata": {},
   "outputs": [],
   "source": []
  }
 ],
 "metadata": {
  "kernelspec": {
   "display_name": "Python 3.7.5 64-bit ('tf2_env': venv)",
   "language": "python",
   "name": "python37564bittf2envvenv9baad5f63bf544adb456767f347f0830"
  },
  "language_info": {
   "codemirror_mode": {
    "name": "ipython",
    "version": 3
   },
   "file_extension": ".py",
   "mimetype": "text/x-python",
   "name": "python",
   "nbconvert_exporter": "python",
   "pygments_lexer": "ipython3",
   "version": "3.7.5"
  }
 },
 "nbformat": 4,
 "nbformat_minor": 2
}
