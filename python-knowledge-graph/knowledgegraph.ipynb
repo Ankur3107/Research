{
 "cells": [
  {
   "cell_type": "code",
   "execution_count": 3,
   "metadata": {},
   "outputs": [],
   "source": [
    "import spacy\n",
    "from spacy.lang.en import English\n",
    "import networkx as nx\n",
    "import matplotlib.pyplot as plt"
   ]
  },
  {
   "cell_type": "code",
   "execution_count": 27,
   "metadata": {},
   "outputs": [],
   "source": [
    "def getSentences(text):\n",
    "    nlp = English()\n",
    "    nlp.add_pipe(nlp.create_pipe('sentencizer'))\n",
    "    document = nlp(text)\n",
    "    return [sent.string.strip() for sent in document.sents]\n",
    "\n",
    "def printToken(token):\n",
    "    print(token.text, \"->\", token.dep_)\n",
    "\n",
    "def appendChunk(original, chunk):\n",
    "    return original + ' ' + chunk\n",
    "\n",
    "def isRelationCandidate(token):\n",
    "    deps = [\"ROOT\", \"adj\", \"attr\", \"agent\", \"amod\"]\n",
    "    return any(subs in token.dep_ for subs in deps)\n",
    "\n",
    "def isConstructionCandidate(token):\n",
    "    deps = [\"compound\", \"prep\", \"conj\", \"mod\"]\n",
    "    return any(subs in token.dep_ for subs in deps)\n",
    "\n",
    "def processSubjectObjectPairs(tokens):\n",
    "    subject = ''\n",
    "    object = ''\n",
    "    relation = ''\n",
    "    subjectConstruction = ''\n",
    "    objectConstruction = ''\n",
    "    for token in tokens:\n",
    "        printToken(token)\n",
    "        if \"punct\" in token.dep_:\n",
    "            continue\n",
    "        if isRelationCandidate(token):\n",
    "            relation = appendChunk(relation, token.lemma_)\n",
    "        if isConstructionCandidate(token):\n",
    "            if subjectConstruction:\n",
    "                subjectConstruction = appendChunk(subjectConstruction, token.text)\n",
    "            if objectConstruction:\n",
    "                objectConstruction = appendChunk(objectConstruction, token.text)\n",
    "        if \"subj\" in token.dep_:\n",
    "            subject = appendChunk(subject, token.text)\n",
    "            subject = appendChunk(subjectConstruction, subject)\n",
    "            subjectConstruction = ''\n",
    "        if \"obj\" in token.dep_:\n",
    "            object = appendChunk(object, token.text)\n",
    "            object = appendChunk(objectConstruction, object)\n",
    "            objectConstruction = ''\n",
    "\n",
    "    print (subject.strip(), \",\", relation.strip(), \",\", object.strip())\n",
    "    return (subject.strip(), relation.strip(), object.strip())\n",
    "\n",
    "def processSentence(sentence):\n",
    "    tokens = nlp_model(sentence)\n",
    "    return processSubjectObjectPairs(tokens)\n",
    "\n",
    "def printGraph(triples):\n",
    "    G = nx.Graph()\n",
    "    for triple in triples:\n",
    "        G.add_node(triple[0])\n",
    "        G.add_node(triple[1])\n",
    "        G.add_node(triple[2])\n",
    "        G.add_edge(triple[0], triple[1])\n",
    "        G.add_edge(triple[1], triple[2])\n",
    "\n",
    "    pos = nx.spring_layout(G)\n",
    "    plt.figure()\n",
    "    nx.draw(G, pos, edge_color='black', width=1, linewidths=1, font_size=8,\n",
    "            node_size=500, node_color='seagreen', alpha=0.9,\n",
    "            labels={node: node for node in G.nodes()})\n",
    "    plt.axis('off')\n",
    "    plt.show()"
   ]
  },
  {
   "cell_type": "code",
   "execution_count": 5,
   "metadata": {},
   "outputs": [],
   "source": [
    "text = \"London is the capital and largest city of England and the United Kingdom. Standing on the River \" \\\n",
    "           \"Thames in the south-east of England, at the head of its 50-mile (80 km) estuary leading to \" \\\n",
    "           \"the North Sea, London has been a major settlement for two millennia. \" \\\n",
    "           \"Londinium was founded by the Romans. The City of London, \" \\\n",
    "           \"London's ancient core − an area of just 1.12 square miles (2.9 km2) and colloquially known as \" \\\n",
    "           \"the Square Mile − retains boundaries that follow closely its medieval limits.\" \\\n",
    "           \"The City of Westminster is also an Inner London borough holding city status. \" \\\n",
    "           \"Greater London is governed by the Mayor of London and the London Assembly.\" \\\n",
    "           \"London is located in the southeast of England.\" \\\n",
    "           \"Westminster is located in London.\" \\\n",
    "           \"London is the biggest city in Britain. London has a population of 7,172,036.\""
   ]
  },
  {
   "cell_type": "code",
   "execution_count": 34,
   "metadata": {},
   "outputs": [],
   "source": [
    "text = \"My experiences is good with ABSLMF.It would be nice if we can get the intimation about the NFO.earlier IFA use to come but now he stopped come and I visit your office whenever there is any need but there also it is time taken. there should be someone how can assists us.\"\n"
   ]
  },
  {
   "cell_type": "code",
   "execution_count": 30,
   "metadata": {},
   "outputs": [],
   "source": [
    "sentences = getSentences(text)"
   ]
  },
  {
   "cell_type": "code",
   "execution_count": 31,
   "metadata": {},
   "outputs": [],
   "source": [
    "nlp_model = spacy.load('en_core_web_sm')"
   ]
  },
  {
   "cell_type": "code",
   "execution_count": 32,
   "metadata": {
    "scrolled": true
   },
   "outputs": [
    {
     "name": "stdout",
     "output_type": "stream",
     "text": [
      "My experiences is good with ABSLMF.It would be nice if we can get the intimation about the NFO.earlier IFA use to come but now he stopped come and I visit your office whenever there is any need but there also it is time taken. there should be someone how can assists us.\n",
      "My -> poss\n",
      "experiences -> nsubj\n",
      "is -> ROOT\n",
      "good -> acomp\n",
      "with -> prep\n",
      "ABSLMF.It -> pobj\n",
      "would -> aux\n",
      "be -> ROOT\n",
      "nice -> acomp\n",
      "if -> mark\n",
      "we -> nsubj\n",
      "can -> aux\n",
      "get -> advcl\n",
      "the -> det\n",
      "intimation -> nsubj\n",
      "about -> prep\n",
      "the -> det\n",
      "NFO.earlier -> compound\n",
      "IFA -> compound\n",
      "use -> pobj\n",
      "to -> aux\n",
      "come -> ccomp\n",
      "but -> cc\n",
      "now -> advmod\n",
      "he -> nsubj\n",
      "stopped -> ROOT\n",
      "come -> xcomp\n",
      "and -> cc\n",
      "I -> nsubj\n",
      "visit -> ROOT\n",
      "your -> poss\n",
      "office -> dobj\n",
      "whenever -> advmod\n",
      "there -> expl\n",
      "is -> advcl\n",
      "any -> det\n",
      "need -> attr\n",
      "but -> cc\n",
      "there -> expl\n",
      "also -> advmod\n",
      "it -> nsubj\n",
      "is -> auxpass\n",
      "time -> npadvmod\n",
      "taken -> ROOT\n",
      ". -> punct\n",
      "experiences we intimation he I it , be be stop visit need take , ABSLMF.It use office\n",
      "there -> expl\n",
      "should -> aux\n",
      "be -> ROOT\n",
      "someone -> attr\n",
      "how -> advmod\n",
      "can -> aux\n",
      "assists -> relcl\n",
      "us -> dobj\n",
      ". -> punct\n",
      " , be someone , us\n"
     ]
    }
   ],
   "source": [
    "triples = []\n",
    "print (text)\n",
    "for sentence in sentences:\n",
    "    triples.append(processSentence(sentence))"
   ]
  },
  {
   "cell_type": "code",
   "execution_count": 33,
   "metadata": {},
   "outputs": [
    {
     "data": {
      "image/png": "[encoded data removed]",
      "text/plain": [
       "<Figure size 432x288 with 1 Axes>"
      ]
     },
     "metadata": {},
     "output_type": "display_data"
    }
   ],
   "source": [
    "printGraph(triples)"
   ]
  },
  {
   "cell_type": "code",
   "execution_count": 12,
   "metadata": {},
   "outputs": [
    {
     "name": "stdout",
     "output_type": "stream",
     "text": [
      "node degree clustering\n",
      "0 5 0.5\n",
      "1 5 0.5\n",
      "2 4 0.3333333333333333\n",
      "3 3 0.6666666666666666\n",
      "4 5 0.5\n",
      "5 4 0.3333333333333333\n",
      "6 4 0.16666666666666666\n",
      "7 4 0.6666666666666666\n",
      "8 4 0.6666666666666666\n",
      "9 2 0\n",
      "\n",
      "the adjacency list\n",
      "0 1 3 4 8 6\n",
      "1 8 4 7 5\n",
      "2 7 4 6 5\n",
      "3 8 6\n",
      "4 7 8\n",
      "5 7 9\n",
      "6 9\n",
      "7\n",
      "8\n",
      "9\n"
     ]
    },
    {
     "data": {
      "image/png": "[encoded data removed]",
      "text/plain": [
       "<Figure size 432x288 with 1 Axes>"
      ]
     },
     "metadata": {},
     "output_type": "display_data"
    }
   ],
   "source": [
    "import matplotlib.pyplot as plt\n",
    "from networkx import nx\n",
    "\n",
    "n = 10  # 10 nodes\n",
    "m = 20  # 20 edges\n",
    "\n",
    "G = nx.gnm_random_graph(n, m)\n",
    "\n",
    "# some properties\n",
    "print(\"node degree clustering\")\n",
    "for v in nx.nodes(G):\n",
    "    print(f\"{v} {nx.degree(G, v)} {nx.clustering(G, v)}\")\n",
    "\n",
    "print()\n",
    "print(\"the adjacency list\")\n",
    "for line in nx.generate_adjlist(G):\n",
    "    print(line)\n",
    "\n",
    "nx.draw(G)\n",
    "plt.show()"
   ]
  },
  {
   "cell_type": "code",
   "execution_count": null,
   "metadata": {},
   "outputs": [],
   "source": []
  }
 ],
 "metadata": {
  "kernelspec": {
   "display_name": "Python 3.7.5 64-bit ('tf2_env': venv)",
   "language": "python",
   "name": "python37564bittf2envvenv9baad5f63bf544adb456767f347f0830"
  },
  "language_info": {
   "codemirror_mode": {
    "name": "ipython",
    "version": 3
   },
   "file_extension": ".py",
   "mimetype": "text/x-python",
   "name": "python",
   "nbconvert_exporter": "python",
   "pygments_lexer": "ipython3",
   "version": "3.7.5"
  }
 },
 "nbformat": 4,
 "nbformat_minor": 2
}
