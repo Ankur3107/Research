{
 "cells": [
  {
   "cell_type": "code",
   "execution_count": 16,
   "metadata": {},
   "outputs": [],
   "source": [
    "import tensorflow as tf\n",
    "from tensorflow.keras.layers import *\n",
    "from tensorflow.keras.models import *\n",
    "from multi_head import MultiHead"
   ]
  },
  {
   "cell_type": "code",
   "execution_count": null,
   "metadata": {},
   "outputs": [],
   "source": []
  },
  {
   "cell_type": "code",
   "execution_count": 8,
   "metadata": {},
   "outputs": [],
   "source": [
    "input_layer = tf.keras.layers.Input(shape=(100,))"
   ]
  },
  {
   "cell_type": "code",
   "execution_count": 9,
   "metadata": {},
   "outputs": [],
   "source": [
    "embeddings_layer = Embedding(1000, 50)(input_layer)"
   ]
  },
  {
   "cell_type": "code",
   "execution_count": 10,
   "metadata": {},
   "outputs": [
    {
     "data": {
      "text/plain": [
       "<tf.Tensor 'embedding_1/Identity:0' shape=(None, 100, 50) dtype=float32>"
      ]
     },
     "execution_count": 10,
     "metadata": {},
     "output_type": "execute_result"
    }
   ],
   "source": [
    "embeddings_layer"
   ]
  },
  {
   "cell_type": "code",
   "execution_count": 11,
   "metadata": {
    "scrolled": true
   },
   "outputs": [],
   "source": [
    "splits = tf.keras.layers.Lambda(lambda x: tf.split(x, num_or_size_splits=2, axis=2))(embeddings_layer)"
   ]
  },
  {
   "cell_type": "code",
   "execution_count": 12,
   "metadata": {},
   "outputs": [
    {
     "data": {
      "text/plain": [
       "[<tf.Tensor 'lambda_1/Identity:0' shape=(None, 100, 25) dtype=float32>,\n",
       " <tf.Tensor 'lambda_1/Identity_1:0' shape=(None, 100, 25) dtype=float32>]"
      ]
     },
     "execution_count": 12,
     "metadata": {},
     "output_type": "execute_result"
    }
   ],
   "source": [
    "splits"
   ]
  },
  {
   "cell_type": "code",
   "execution_count": 13,
   "metadata": {},
   "outputs": [],
   "source": [
    "x1 = Bidirectional(LSTM(128, return_sequences=True))(splits[0])\n",
    "x2 = Bidirectional(LSTM(128, return_sequences=True))(splits[1])"
   ]
  },
  {
   "cell_type": "code",
   "execution_count": 17,
   "metadata": {},
   "outputs": [],
   "source": [
    "multi_head_x1 = MultiHead(Bidirectional(LSTM(128, return_sequences=True)), 3)(splits[0])"
   ]
  },
  {
   "cell_type": "code",
   "execution_count": 19,
   "metadata": {},
   "outputs": [],
   "source": [
    "dense_layer = Dense(1)(multi_head_x1)"
   ]
  },
  {
   "cell_type": "code",
   "execution_count": 22,
   "metadata": {},
   "outputs": [
    {
     "data": {
      "text/plain": [
       "<tf.Tensor 'dense/Identity:0' shape=(None, 100, 256, 1) dtype=float32>"
      ]
     },
     "execution_count": 22,
     "metadata": {},
     "output_type": "execute_result"
    }
   ],
   "source": [
    "dense_layer"
   ]
  },
  {
   "cell_type": "code",
   "execution_count": 23,
   "metadata": {},
   "outputs": [
    {
     "data": {
      "text/plain": [
       "<tf.Tensor 'Squeeze_1:0' shape=(None, 100, 256) dtype=float32>"
      ]
     },
     "execution_count": 23,
     "metadata": {},
     "output_type": "execute_result"
    }
   ],
   "source": [
    "tf.squeeze(dense_layer,axis=3)"
   ]
  },
  {
   "cell_type": "code",
   "execution_count": 27,
   "metadata": {},
   "outputs": [],
   "source": [
    "conct_x = concatenate([x1,x2])"
   ]
  },
  {
   "cell_type": "code",
   "execution_count": 28,
   "metadata": {},
   "outputs": [],
   "source": [
    "conct_layer = Bidirectional(GRU(128, return_sequences=True))(conct_x)"
   ]
  },
  {
   "cell_type": "code",
   "execution_count": 30,
   "metadata": {},
   "outputs": [],
   "source": [
    "max_pool_layer = GlobalMaxPooling1D()(conct_layer)"
   ]
  },
  {
   "cell_type": "code",
   "execution_count": null,
   "metadata": {},
   "outputs": [],
   "source": []
  },
  {
   "cell_type": "code",
   "execution_count": 2,
   "metadata": {},
   "outputs": [],
   "source": [
    "def build_model(max_seq_len, n_words=1000, embed_size=50):\n",
    "    input_layer = tf.keras.layers.Input(shape=(max_seq_len,))\n",
    "    embeddings_layer = Embedding(n_words, embed_size)(input_layer)\n",
    "    splits = tf.keras.layers.Lambda(lambda x: tf.split(x, num_or_size_splits=2, axis=2))(embeddings_layer)\n",
    "    \n",
    "    x1 = Bidirectional(LSTM(128, return_sequences=True))(splits[0])\n",
    "    x2 = Bidirectional(LSTM(128, return_sequences=True))(splits[1])\n",
    "    \n",
    "    conct_x = concatenate([x1,x2])\n",
    "    conct_layer = Bidirectional(GRU(128, return_sequences=True))(conct_x)\n",
    "    max_pool_layer = GlobalMaxPooling1D()(conct_layer)\n",
    "    \n",
    "    return Model(input_layer, max_pool_layer)\n",
    "    \n",
    "    "
   ]
  },
  {
   "cell_type": "code",
   "execution_count": 26,
   "metadata": {},
   "outputs": [],
   "source": [
    "def build_model_multihead(max_seq_len, n_words=1000, embed_size=50, n_head=3):\n",
    "    input_layer = tf.keras.layers.Input(shape=(max_seq_len,))\n",
    "    embeddings_layer = Embedding(n_words, embed_size)(input_layer)\n",
    "    splits = tf.keras.layers.Lambda(lambda x: tf.split(x, num_or_size_splits=2, axis=2))(embeddings_layer)\n",
    "    \n",
    "    x1 = Bidirectional(LSTM(128, return_sequences=True))#(splits[0])\n",
    "    multi_head_x1 = MultiHead(x1, n_head)(splits[0])\n",
    "    dense_layer_x1 = Dense(1)(multi_head_x1)\n",
    "    multi_head_x1_squeeze = tf.squeeze(dense_layer_x1,axis=3)\n",
    "    \n",
    "    x2 = Bidirectional(LSTM(128, return_sequences=True))#(splits[1])\n",
    "    multi_head_x2 = MultiHead(x2, n_head)(splits[1])\n",
    "    dense_layer_x2 = Dense(1)(multi_head_x2)\n",
    "    multi_head_x2_squeeze = tf.squeeze(dense_layer_x2,axis=3)\n",
    "    \n",
    "    conct_x = concatenate([multi_head_x1_squeeze,multi_head_x2_squeeze])\n",
    "    conct_layer = Bidirectional(GRU(128, return_sequences=True))(conct_x)\n",
    "    max_pool_layer = GlobalMaxPooling1D()(conct_layer)\n",
    "    \n",
    "    return Model(input_layer, max_pool_layer)\n",
    "    \n",
    "    "
   ]
  },
  {
   "cell_type": "code",
   "execution_count": 3,
   "metadata": {},
   "outputs": [],
   "source": [
    "model = build_model(120)"
   ]
  },
  {
   "cell_type": "code",
   "execution_count": 4,
   "metadata": {
    "scrolled": true
   },
   "outputs": [
    {
     "name": "stdout",
     "output_type": "stream",
     "text": [
      "Model: \"model\"\n",
      "__________________________________________________________________________________________________\n",
      "Layer (type)                    Output Shape         Param #     Connected to                     \n",
      "==================================================================================================\n",
      "input_1 (InputLayer)            [(None, 120)]        0                                            \n",
      "__________________________________________________________________________________________________\n",
      "embedding (Embedding)           (None, 120, 50)      50000       input_1[0][0]                    \n",
      "__________________________________________________________________________________________________\n",
      "lambda (Lambda)                 [(None, 120, 25), (N 0           embedding[0][0]                  \n",
      "__________________________________________________________________________________________________\n",
      "bidirectional (Bidirectional)   (None, 120, 256)     157696      lambda[0][0]                     \n",
      "__________________________________________________________________________________________________\n",
      "bidirectional_1 (Bidirectional) (None, 120, 256)     157696      lambda[0][1]                     \n",
      "__________________________________________________________________________________________________\n",
      "concatenate (Concatenate)       (None, 120, 512)     0           bidirectional[0][0]              \n",
      "                                                                 bidirectional_1[0][0]            \n",
      "__________________________________________________________________________________________________\n",
      "bidirectional_2 (Bidirectional) (None, 120, 256)     493056      concatenate[0][0]                \n",
      "__________________________________________________________________________________________________\n",
      "global_max_pooling1d (GlobalMax (None, 256)          0           bidirectional_2[0][0]            \n",
      "==================================================================================================\n",
      "Total params: 858,448\n",
      "Trainable params: 858,448\n",
      "Non-trainable params: 0\n",
      "__________________________________________________________________________________________________\n"
     ]
    }
   ],
   "source": [
    "model.summary()"
   ]
  },
  {
   "cell_type": "code",
   "execution_count": 27,
   "metadata": {},
   "outputs": [
    {
     "name": "stdout",
     "output_type": "stream",
     "text": [
      "Model: \"model_1\"\n",
      "__________________________________________________________________________________________________\n",
      "Layer (type)                    Output Shape         Param #     Connected to                     \n",
      "==================================================================================================\n",
      "input_4 (InputLayer)            [(None, 120)]        0                                            \n",
      "__________________________________________________________________________________________________\n",
      "embedding_3 (Embedding)         (None, 120, 50)      50000       input_4[0][0]                    \n",
      "__________________________________________________________________________________________________\n",
      "lambda_3 (Lambda)               [(None, 120, 25), (N 0           embedding_3[0][0]                \n",
      "__________________________________________________________________________________________________\n",
      "multi_head_2 (MultiHead)        (None, 120, 256, 3)  473088      lambda_3[0][0]                   \n",
      "__________________________________________________________________________________________________\n",
      "multi_head_3 (MultiHead)        (None, 120, 256, 3)  473088      lambda_3[0][1]                   \n",
      "__________________________________________________________________________________________________\n",
      "dense_2 (Dense)                 (None, 120, 256, 1)  4           multi_head_2[0][0]               \n",
      "__________________________________________________________________________________________________\n",
      "dense_3 (Dense)                 (None, 120, 256, 1)  4           multi_head_3[0][0]               \n",
      "__________________________________________________________________________________________________\n",
      "tf_op_layer_Squeeze_3 (TensorFl [(None, 120, 256)]   0           dense_2[0][0]                    \n",
      "__________________________________________________________________________________________________\n",
      "tf_op_layer_Squeeze_4 (TensorFl [(None, 120, 256)]   0           dense_3[0][0]                    \n",
      "__________________________________________________________________________________________________\n",
      "concatenate_1 (Concatenate)     (None, 120, 512)     0           tf_op_layer_Squeeze_3[0][0]      \n",
      "                                                                 tf_op_layer_Squeeze_4[0][0]      \n",
      "__________________________________________________________________________________________________\n",
      "bidirectional_11 (Bidirectional (None, 120, 256)     493056      concatenate_1[0][0]              \n",
      "__________________________________________________________________________________________________\n",
      "global_max_pooling1d_1 (GlobalM (None, 256)          0           bidirectional_11[0][0]           \n",
      "==================================================================================================\n",
      "Total params: 1,489,240\n",
      "Trainable params: 1,489,240\n",
      "Non-trainable params: 0\n",
      "__________________________________________________________________________________________________\n"
     ]
    }
   ],
   "source": [
    "model = build_model_multihead(120)\n",
    "model.summary()"
   ]
  },
  {
   "cell_type": "code",
   "execution_count": 30,
   "metadata": {},
   "outputs": [
    {
     "data": {
      "text/plain": [
       "1.7348051367118333"
      ]
     },
     "execution_count": 30,
     "metadata": {},
     "output_type": "execute_result"
    }
   ],
   "source": [
    "1489240/858448"
   ]
  },
  {
   "cell_type": "code",
   "execution_count": null,
   "metadata": {},
   "outputs": [],
   "source": []
  }
 ],
 "metadata": {
  "kernelspec": {
   "display_name": "Python 3.7.5 64-bit ('tf2_env': venv)",
   "language": "python",
   "name": "python37564bittf2envvenv9baad5f63bf544adb456767f347f0830"
  },
  "language_info": {
   "codemirror_mode": {
    "name": "ipython",
    "version": 3
   },
   "file_extension": ".py",
   "mimetype": "text/x-python",
   "name": "python",
   "nbconvert_exporter": "python",
   "pygments_lexer": "ipython3",
   "version": "3.7.5"
  }
 },
 "nbformat": 4,
 "nbformat_minor": 2
}
