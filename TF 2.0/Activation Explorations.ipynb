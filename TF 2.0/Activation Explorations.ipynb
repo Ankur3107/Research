{
 "cells": [
  {
   "cell_type": "code",
   "execution_count": 39,
   "metadata": {},
   "outputs": [],
   "source": [
    "import tensorflow as tf\n",
    "import numpy as np\n",
    "import math\n",
    "import matplotlib.pyplot as plt "
   ]
  },
  {
   "cell_type": "markdown",
   "metadata": {},
   "source": [
    "## gelu"
   ]
  },
  {
   "cell_type": "code",
   "execution_count": 68,
   "metadata": {},
   "outputs": [],
   "source": [
    "#x = np.random.rand(10)\n",
    "#x = np.array(list(range(-10, 10)))\n",
    "x = np.arange(-5, 5, 0.2)"
   ]
  },
  {
   "cell_type": "code",
   "execution_count": 69,
   "metadata": {},
   "outputs": [],
   "source": [
    "def gelu_py(x, approximate=True):\n",
    "    x = tf.convert_to_tensor(x, dtype=tf.float16)\n",
    "    if approximate:\n",
    "        pi = tf.cast(math.pi, x.dtype)\n",
    "        coeff = tf.cast(0.044715, x.dtype)\n",
    "        return 0.5 * x * (1.0 + tf.tanh(tf.sqrt(2.0 / pi) * (x + coeff * tf.pow(x, 3))))\n",
    "    else:\n",
    "        return 0.5 * x * (1.0 + tf.math.erf(x / tf.cast(tf.sqrt(2.0), x.dtype)))"
   ]
  },
  {
   "cell_type": "code",
   "execution_count": 70,
   "metadata": {
    "scrolled": true
   },
   "outputs": [
    {
     "name": "stdout",
     "output_type": "stream",
     "text": [
      "input : [-5.0000000e+00 -4.8000000e+00 -4.6000000e+00 -4.4000000e+00\n",
      " -4.2000000e+00 -4.0000000e+00 -3.8000000e+00 -3.6000000e+00\n",
      " -3.4000000e+00 -3.2000000e+00 -3.0000000e+00 -2.8000000e+00\n",
      " -2.6000000e+00 -2.4000000e+00 -2.2000000e+00 -2.0000000e+00\n",
      " -1.8000000e+00 -1.6000000e+00 -1.4000000e+00 -1.2000000e+00\n",
      " -1.0000000e+00 -8.0000000e-01 -6.0000000e-01 -4.0000000e-01\n",
      " -2.0000000e-01  4.4408921e-15  2.0000000e-01  4.0000000e-01\n",
      "  6.0000000e-01  8.0000000e-01  1.0000000e+00  1.2000000e+00\n",
      "  1.4000000e+00  1.6000000e+00  1.8000000e+00  2.0000000e+00\n",
      "  2.2000000e+00  2.4000000e+00  2.6000000e+00  2.8000000e+00\n",
      "  3.0000000e+00  3.2000000e+00  3.4000000e+00  3.6000000e+00\n",
      "  3.8000000e+00  4.0000000e+00  4.2000000e+00  4.4000000e+00\n",
      "  4.6000000e+00  4.8000000e+00]\n",
      "\n",
      "output : tf.Tensor(\n",
      "[-0.0000e+00 -0.0000e+00 -0.0000e+00 -0.0000e+00 -0.0000e+00 -0.0000e+00\n",
      " -0.0000e+00 -0.0000e+00 -8.3017e-04 -1.5621e-03 -3.6621e-03 -6.8359e-03\n",
      " -1.1421e-02 -1.9333e-02 -3.0609e-02 -4.5410e-02 -6.5002e-02 -8.7891e-02\n",
      " -1.1316e-01 -1.3831e-01 -1.5894e-01 -1.6968e-01 -1.6467e-01 -1.3782e-01\n",
      " -8.4167e-02  0.0000e+00  1.1578e-01  2.6196e-01  4.3530e-01  6.3037e-01\n",
      "  8.4082e-01  1.0615e+00  1.2871e+00  1.5117e+00  1.7344e+00  1.9551e+00\n",
      "  2.1699e+00  2.3809e+00  2.5879e+00  2.7930e+00  2.9961e+00  3.1973e+00\n",
      "  3.4004e+00  3.5996e+00  3.8008e+00  4.0000e+00  4.1992e+00  4.3984e+00\n",
      "  4.6016e+00  4.8008e+00], shape=(50,), dtype=float16)\n"
     ]
    }
   ],
   "source": [
    "print('input :',x)\n",
    "print()\n",
    "print('output :',gelu_py(x))"
   ]
  },
  {
   "cell_type": "code",
   "execution_count": 71,
   "metadata": {},
   "outputs": [
    {
     "data": {
      "text/plain": [
       "[<matplotlib.lines.Line2D at 0x14f1c9fd0>]"
      ]
     },
     "execution_count": 71,
     "metadata": {},
     "output_type": "execute_result"
    },
    {
     "data": {
      "image/png": "[encoded data removed]",
      "text/plain": [
       "<Figure size 432x288 with 1 Axes>"
      ]
     },
     "metadata": {
      "needs_background": "light"
     },
     "output_type": "display_data"
    }
   ],
   "source": [
    "plt.plot(x, gelu_py(x)) "
   ]
  },
  {
   "cell_type": "markdown",
   "metadata": {},
   "source": [
    "## hardshrink"
   ]
  },
  {
   "cell_type": "code",
   "execution_count": 72,
   "metadata": {},
   "outputs": [],
   "source": [
    "#x = np.random.rand(10)\n",
    "#x = np.array(list(range(-10, 10)))\n",
    "x = np.arange(-5, 5, 0.2)"
   ]
  },
  {
   "cell_type": "code",
   "execution_count": 73,
   "metadata": {},
   "outputs": [],
   "source": [
    "def hardshrink_py(x, lower = -0.5, upper = 0.5) -> tf.Tensor:\n",
    "    if lower > upper:\n",
    "        raise ValueError(\n",
    "            \"The value of lower is {} and should\"\n",
    "            \" not be higher than the value \"\n",
    "            \"variable upper, which is {} .\".format(lower, upper)\n",
    "        )\n",
    "    mask_lower = x < lower\n",
    "    mask_upper = upper < x\n",
    "    mask = tf.logical_or(mask_lower, mask_upper)\n",
    "    mask = tf.cast(mask, x.dtype)\n",
    "    return x * mask"
   ]
  },
  {
   "cell_type": "code",
   "execution_count": 74,
   "metadata": {},
   "outputs": [
    {
     "name": "stdout",
     "output_type": "stream",
     "text": [
      "input : [-5.0000000e+00 -4.8000000e+00 -4.6000000e+00 -4.4000000e+00\n",
      " -4.2000000e+00 -4.0000000e+00 -3.8000000e+00 -3.6000000e+00\n",
      " -3.4000000e+00 -3.2000000e+00 -3.0000000e+00 -2.8000000e+00\n",
      " -2.6000000e+00 -2.4000000e+00 -2.2000000e+00 -2.0000000e+00\n",
      " -1.8000000e+00 -1.6000000e+00 -1.4000000e+00 -1.2000000e+00\n",
      " -1.0000000e+00 -8.0000000e-01 -6.0000000e-01 -4.0000000e-01\n",
      " -2.0000000e-01  4.4408921e-15  2.0000000e-01  4.0000000e-01\n",
      "  6.0000000e-01  8.0000000e-01  1.0000000e+00  1.2000000e+00\n",
      "  1.4000000e+00  1.6000000e+00  1.8000000e+00  2.0000000e+00\n",
      "  2.2000000e+00  2.4000000e+00  2.6000000e+00  2.8000000e+00\n",
      "  3.0000000e+00  3.2000000e+00  3.4000000e+00  3.6000000e+00\n",
      "  3.8000000e+00  4.0000000e+00  4.2000000e+00  4.4000000e+00\n",
      "  4.6000000e+00  4.8000000e+00]\n",
      "\n",
      "output : tf.Tensor(\n",
      "[-5.  -4.8 -4.6 -4.4 -4.2 -4.  -3.8 -3.6 -3.4 -3.2 -3.  -2.8 -2.6 -2.4\n",
      " -2.2 -2.  -1.8 -1.6 -1.4 -1.2 -1.  -0.8 -0.6 -0.  -0.   0.   0.   0.\n",
      "  0.6  0.8  1.   1.2  1.4  1.6  1.8  2.   2.2  2.4  2.6  2.8  3.   3.2\n",
      "  3.4  3.6  3.8  4.   4.2  4.4  4.6  4.8], shape=(50,), dtype=float64)\n"
     ]
    }
   ],
   "source": [
    "print('input :',x)\n",
    "print()\n",
    "print('output :',hardshrink_py(x))"
   ]
  },
  {
   "cell_type": "code",
   "execution_count": 75,
   "metadata": {},
   "outputs": [
    {
     "data": {
      "text/plain": [
       "[<matplotlib.lines.Line2D at 0x150005d50>]"
      ]
     },
     "execution_count": 75,
     "metadata": {},
     "output_type": "execute_result"
    },
    {
     "data": {
      "image/png": "[encoded data removed]",
      "text/plain": [
       "<Figure size 432x288 with 1 Axes>"
      ]
     },
     "metadata": {
      "needs_background": "light"
     },
     "output_type": "display_data"
    }
   ],
   "source": [
    "plt.plot(x, hardshrink_py(x))"
   ]
  },
  {
   "cell_type": "markdown",
   "metadata": {},
   "source": [
    "## lisht"
   ]
  },
  {
   "cell_type": "code",
   "execution_count": 76,
   "metadata": {},
   "outputs": [],
   "source": [
    "#x = np.random.rand(10)\n",
    "#x = np.array(list(range(-10, 10)))\n",
    "x = np.arange(-5, 5, 0.2)"
   ]
  },
  {
   "cell_type": "code",
   "execution_count": 77,
   "metadata": {},
   "outputs": [],
   "source": [
    "def lisht_py(x):\n",
    "    return x * tf.math.tanh(x)"
   ]
  },
  {
   "cell_type": "code",
   "execution_count": 80,
   "metadata": {
    "scrolled": true
   },
   "outputs": [
    {
     "name": "stdout",
     "output_type": "stream",
     "text": [
      "input : [-5.0000000e+00 -4.8000000e+00 -4.6000000e+00 -4.4000000e+00\n",
      " -4.2000000e+00 -4.0000000e+00 -3.8000000e+00 -3.6000000e+00\n",
      " -3.4000000e+00 -3.2000000e+00 -3.0000000e+00 -2.8000000e+00\n",
      " -2.6000000e+00 -2.4000000e+00 -2.2000000e+00 -2.0000000e+00\n",
      " -1.8000000e+00 -1.6000000e+00 -1.4000000e+00 -1.2000000e+00\n",
      " -1.0000000e+00 -8.0000000e-01 -6.0000000e-01 -4.0000000e-01\n",
      " -2.0000000e-01  4.4408921e-15  2.0000000e-01  4.0000000e-01\n",
      "  6.0000000e-01  8.0000000e-01  1.0000000e+00  1.2000000e+00\n",
      "  1.4000000e+00  1.6000000e+00  1.8000000e+00  2.0000000e+00\n",
      "  2.2000000e+00  2.4000000e+00  2.6000000e+00  2.8000000e+00\n",
      "  3.0000000e+00  3.2000000e+00  3.4000000e+00  3.6000000e+00\n",
      "  3.8000000e+00  4.0000000e+00  4.2000000e+00  4.4000000e+00\n",
      "  4.6000000e+00  4.8000000e+00]\n",
      "\n",
      "output : tf.Tensor(\n",
      "[4.99954602e+00 4.79934985e+00 4.59907053e+00 4.39867375e+00\n",
      " 4.19811154e+00 3.99731720e+00 3.79619847e+00 3.59462859e+00\n",
      " 3.39243475e+00 3.18938367e+00 2.98516426e+00 2.77936826e+00\n",
      " 2.57147125e+00 2.36081966e+00 2.14663489e+00 1.92805516e+00\n",
      " 1.70425082e+00 1.47466969e+00 1.23949231e+00 1.00038553e+00\n",
      " 7.61594156e-01 5.31229416e-01 3.22229740e-01 1.51979585e-01\n",
      " 3.94750640e-02 1.97215226e-29 3.94750640e-02 1.51979585e-01\n",
      " 3.22229740e-01 5.31229416e-01 7.61594156e-01 1.00038553e+00\n",
      " 1.23949231e+00 1.47466969e+00 1.70425082e+00 1.92805516e+00\n",
      " 2.14663489e+00 2.36081966e+00 2.57147125e+00 2.77936826e+00\n",
      " 2.98516426e+00 3.18938367e+00 3.39243475e+00 3.59462859e+00\n",
      " 3.79619847e+00 3.99731720e+00 4.19811154e+00 4.39867375e+00\n",
      " 4.59907053e+00 4.79934985e+00], shape=(50,), dtype=float64)\n"
     ]
    }
   ],
   "source": [
    "print('input :',x)\n",
    "print()\n",
    "print('output :',lisht_py(x))"
   ]
  },
  {
   "cell_type": "code",
   "execution_count": 81,
   "metadata": {},
   "outputs": [
    {
     "data": {
      "text/plain": [
       "[<matplotlib.lines.Line2D at 0x14cb02a90>]"
      ]
     },
     "execution_count": 81,
     "metadata": {},
     "output_type": "execute_result"
    },
    {
     "data": {
      "image/png": "[encoded data removed]",
      "text/plain": [
       "<Figure size 432x288 with 1 Axes>"
      ]
     },
     "metadata": {
      "needs_background": "light"
     },
     "output_type": "display_data"
    }
   ],
   "source": [
    "plt.plot(x, lisht_py(x))"
   ]
  },
  {
   "cell_type": "markdown",
   "metadata": {},
   "source": [
    "## Mish"
   ]
  },
  {
   "cell_type": "code",
   "execution_count": 82,
   "metadata": {},
   "outputs": [],
   "source": [
    "#x = np.random.rand(10)\n",
    "#x = np.array(list(range(-10, 10)))\n",
    "x = np.arange(-5, 5, 0.2)"
   ]
  },
  {
   "cell_type": "code",
   "execution_count": 83,
   "metadata": {},
   "outputs": [],
   "source": [
    "def mish_py(x):\n",
    "    return x * tf.math.tanh(tf.math.softplus(x))"
   ]
  },
  {
   "cell_type": "code",
   "execution_count": 85,
   "metadata": {
    "scrolled": true
   },
   "outputs": [
    {
     "name": "stdout",
     "output_type": "stream",
     "text": [
      "input : [-5.0000000e+00 -4.8000000e+00 -4.6000000e+00 -4.4000000e+00\n",
      " -4.2000000e+00 -4.0000000e+00 -3.8000000e+00 -3.6000000e+00\n",
      " -3.4000000e+00 -3.2000000e+00 -3.0000000e+00 -2.8000000e+00\n",
      " -2.6000000e+00 -2.4000000e+00 -2.2000000e+00 -2.0000000e+00\n",
      " -1.8000000e+00 -1.6000000e+00 -1.4000000e+00 -1.2000000e+00\n",
      " -1.0000000e+00 -8.0000000e-01 -6.0000000e-01 -4.0000000e-01\n",
      " -2.0000000e-01  4.4408921e-15  2.0000000e-01  4.0000000e-01\n",
      "  6.0000000e-01  8.0000000e-01  1.0000000e+00  1.2000000e+00\n",
      "  1.4000000e+00  1.6000000e+00  1.8000000e+00  2.0000000e+00\n",
      "  2.2000000e+00  2.4000000e+00  2.6000000e+00  2.8000000e+00\n",
      "  3.0000000e+00  3.2000000e+00  3.4000000e+00  3.6000000e+00\n",
      "  3.8000000e+00  4.0000000e+00  4.2000000e+00  4.4000000e+00\n",
      "  4.6000000e+00  4.8000000e+00]\n",
      "\n",
      "output : tf.Tensor(\n",
      "[-3.35762377e-02 -3.93402423e-02 -4.60060654e-02 -5.36887075e-02\n",
      " -6.25092536e-02 -7.25917408e-02 -8.40583080e-02 -9.70220345e-02\n",
      " -1.11576720e-01 -1.27782682e-01 -1.45647461e-01 -1.65100174e-01\n",
      " -1.85958136e-01 -2.07884509e-01 -2.30336098e-01 -2.52501483e-01\n",
      " -2.73231614e-01 -2.90968423e-01 -3.03682214e-01 -3.08835796e-01\n",
      " -3.03401461e-01 -2.83963263e-01 -2.46936028e-01 -1.88916482e-01\n",
      " -1.07144781e-01  2.66453526e-15  1.32599002e-01  2.89030534e-01\n",
      "  4.66136486e-01  6.59699757e-01  8.65098388e-01  1.07794589e+00\n",
      "  1.29455865e+00  1.51218103e+00  1.72899062e+00  1.94395896e+00\n",
      "  2.15665063e+00  2.36702318e+00  2.57526162e+00  2.78165833e+00\n",
      "  2.98653500e+00  3.19019773e+00  3.39291501e+00  3.59491032e+00\n",
      "  3.79636294e+00  3.99741281e+00  4.19816692e+00  4.39870572e+00\n",
      "  4.59908894e+00  4.79936042e+00], shape=(50,), dtype=float64)\n"
     ]
    }
   ],
   "source": [
    "print('input :',x)\n",
    "print()\n",
    "print('output :',mish_py(x))"
   ]
  },
  {
   "cell_type": "code",
   "execution_count": 86,
   "metadata": {},
   "outputs": [
    {
     "data": {
      "text/plain": [
       "[<matplotlib.lines.Line2D at 0x14dadd750>]"
      ]
     },
     "execution_count": 86,
     "metadata": {},
     "output_type": "execute_result"
    },
    {
     "data": {
      "image/png": "[encoded data removed]",
      "text/plain": [
       "<Figure size 432x288 with 1 Axes>"
      ]
     },
     "metadata": {
      "needs_background": "light"
     },
     "output_type": "display_data"
    }
   ],
   "source": [
    "plt.plot(x, mish_py(x))"
   ]
  },
  {
   "cell_type": "markdown",
   "metadata": {},
   "source": [
    "## rrelu"
   ]
  },
  {
   "cell_type": "code",
   "execution_count": 88,
   "metadata": {},
   "outputs": [],
   "source": [
    "#x = np.random.rand(10)\n",
    "#x = np.array(list(range(-10, 10)))\n",
    "x = np.arange(-5, 5, 0.2)"
   ]
  },
  {
   "cell_type": "code",
   "execution_count": 89,
   "metadata": {},
   "outputs": [],
   "source": [
    "def rrelu_py(\n",
    "    x,\n",
    "    lower = 0.125,\n",
    "    upper = 0.3333333333333333,\n",
    "    training = None,\n",
    "    seed = None,\n",
    ") -> tf.Tensor:\n",
    "    \n",
    "    x = tf.convert_to_tensor(x)\n",
    "    if training is None:\n",
    "        training = tf.keras.backend.learning_phase()\n",
    "        training = bool(tf.keras.backend.get_value(training))\n",
    "\n",
    "    if training:\n",
    "        alpha = tf.random.uniform(\n",
    "            tf.shape(x), minval=lower, maxval=upper, dtype=x.dtype, seed=seed\n",
    "        )\n",
    "    else:\n",
    "        alpha = tf.cast((lower + upper) / 2, x.dtype)\n",
    "\n",
    "    return tf.where(x >= 0, x, alpha * x)"
   ]
  },
  {
   "cell_type": "code",
   "execution_count": 90,
   "metadata": {
    "scrolled": true
   },
   "outputs": [
    {
     "name": "stdout",
     "output_type": "stream",
     "text": [
      "input : [-5.0000000e+00 -4.8000000e+00 -4.6000000e+00 -4.4000000e+00\n",
      " -4.2000000e+00 -4.0000000e+00 -3.8000000e+00 -3.6000000e+00\n",
      " -3.4000000e+00 -3.2000000e+00 -3.0000000e+00 -2.8000000e+00\n",
      " -2.6000000e+00 -2.4000000e+00 -2.2000000e+00 -2.0000000e+00\n",
      " -1.8000000e+00 -1.6000000e+00 -1.4000000e+00 -1.2000000e+00\n",
      " -1.0000000e+00 -8.0000000e-01 -6.0000000e-01 -4.0000000e-01\n",
      " -2.0000000e-01  4.4408921e-15  2.0000000e-01  4.0000000e-01\n",
      "  6.0000000e-01  8.0000000e-01  1.0000000e+00  1.2000000e+00\n",
      "  1.4000000e+00  1.6000000e+00  1.8000000e+00  2.0000000e+00\n",
      "  2.2000000e+00  2.4000000e+00  2.6000000e+00  2.8000000e+00\n",
      "  3.0000000e+00  3.2000000e+00  3.4000000e+00  3.6000000e+00\n",
      "  3.8000000e+00  4.0000000e+00  4.2000000e+00  4.4000000e+00\n",
      "  4.6000000e+00  4.8000000e+00]\n",
      "\n",
      "output : tf.Tensor(\n",
      "[-1.14583336e+00 -1.10000002e+00 -1.05416669e+00 -1.00833336e+00\n",
      " -9.62500021e-01 -9.16666687e-01 -8.70833352e-01 -8.25000018e-01\n",
      " -7.79166684e-01 -7.33333349e-01 -6.87500015e-01 -6.41666681e-01\n",
      " -5.95833346e-01 -5.50000012e-01 -5.04166678e-01 -4.58333343e-01\n",
      " -4.12500009e-01 -3.66666675e-01 -3.20833340e-01 -2.75000006e-01\n",
      " -2.29166672e-01 -1.83333337e-01 -1.37500003e-01 -9.16666687e-02\n",
      " -4.58333343e-02  4.44089210e-15  2.00000000e-01  4.00000000e-01\n",
      "  6.00000000e-01  8.00000000e-01  1.00000000e+00  1.20000000e+00\n",
      "  1.40000000e+00  1.60000000e+00  1.80000000e+00  2.00000000e+00\n",
      "  2.20000000e+00  2.40000000e+00  2.60000000e+00  2.80000000e+00\n",
      "  3.00000000e+00  3.20000000e+00  3.40000000e+00  3.60000000e+00\n",
      "  3.80000000e+00  4.00000000e+00  4.20000000e+00  4.40000000e+00\n",
      "  4.60000000e+00  4.80000000e+00], shape=(50,), dtype=float64)\n"
     ]
    }
   ],
   "source": [
    "print('input :',x)\n",
    "print()\n",
    "print('output :',rrelu_py(x))"
   ]
  },
  {
   "cell_type": "code",
   "execution_count": 91,
   "metadata": {},
   "outputs": [
    {
     "data": {
      "text/plain": [
       "[<matplotlib.lines.Line2D at 0x14d9edbd0>]"
      ]
     },
     "execution_count": 91,
     "metadata": {},
     "output_type": "execute_result"
    },
    {
     "data": {
      "image/png": "[encoded data removed]",
      "text/plain": [
       "<Figure size 432x288 with 1 Axes>"
      ]
     },
     "metadata": {
      "needs_background": "light"
     },
     "output_type": "display_data"
    }
   ],
   "source": [
    "plt.plot(x, rrelu_py(x))"
   ]
  },
  {
   "cell_type": "markdown",
   "metadata": {},
   "source": [
    "## softshrink"
   ]
  },
  {
   "cell_type": "code",
   "execution_count": 92,
   "metadata": {},
   "outputs": [],
   "source": [
    "#x = np.random.rand(10)\n",
    "#x = np.array(list(range(-10, 10)))\n",
    "x = np.arange(-5, 5, 0.2)"
   ]
  },
  {
   "cell_type": "code",
   "execution_count": 104,
   "metadata": {},
   "outputs": [],
   "source": [
    "def softshrink_py(x, lower=-0.5, upper=0.5):\n",
    "    if lower > upper:\n",
    "        raise ValueError(\n",
    "            \"The value of lower is {} and should\"\n",
    "            \" not be higher than the value \"\n",
    "            \"variable upper, which is {} .\".format(lower, upper)\n",
    "        )\n",
    "    values_below_lower = tf.where(x < lower, x - lower, 0)\n",
    "    values_above_upper = tf.where(upper < x, x - upper, 0)\n",
    "    return values_below_lower + values_above_upper"
   ]
  },
  {
   "cell_type": "code",
   "execution_count": 105,
   "metadata": {
    "scrolled": false
   },
   "outputs": [
    {
     "name": "stdout",
     "output_type": "stream",
     "text": [
      "input : [-5.0000000e+00 -4.8000000e+00 -4.6000000e+00 -4.4000000e+00\n",
      " -4.2000000e+00 -4.0000000e+00 -3.8000000e+00 -3.6000000e+00\n",
      " -3.4000000e+00 -3.2000000e+00 -3.0000000e+00 -2.8000000e+00\n",
      " -2.6000000e+00 -2.4000000e+00 -2.2000000e+00 -2.0000000e+00\n",
      " -1.8000000e+00 -1.6000000e+00 -1.4000000e+00 -1.2000000e+00\n",
      " -1.0000000e+00 -8.0000000e-01 -6.0000000e-01 -4.0000000e-01\n",
      " -2.0000000e-01  4.4408921e-15  2.0000000e-01  4.0000000e-01\n",
      "  6.0000000e-01  8.0000000e-01  1.0000000e+00  1.2000000e+00\n",
      "  1.4000000e+00  1.6000000e+00  1.8000000e+00  2.0000000e+00\n",
      "  2.2000000e+00  2.4000000e+00  2.6000000e+00  2.8000000e+00\n",
      "  3.0000000e+00  3.2000000e+00  3.4000000e+00  3.6000000e+00\n",
      "  3.8000000e+00  4.0000000e+00  4.2000000e+00  4.4000000e+00\n",
      "  4.6000000e+00  4.8000000e+00]\n",
      "\n",
      "output : tf.Tensor(\n",
      "[-4.5 -4.3 -4.1 -3.9 -3.7 -3.5 -3.3 -3.1 -2.9 -2.7 -2.5 -2.3 -2.1 -1.9\n",
      " -1.7 -1.5 -1.3 -1.1 -0.9 -0.7 -0.5 -0.3 -0.1  0.   0.   0.   0.   0.\n",
      "  0.1  0.3  0.5  0.7  0.9  1.1  1.3  1.5  1.7  1.9  2.1  2.3  2.5  2.7\n",
      "  2.9  3.1  3.3  3.5  3.7  3.9  4.1  4.3], shape=(50,), dtype=float64)\n"
     ]
    }
   ],
   "source": [
    "print('input :',x)\n",
    "print()\n",
    "print('output :',softshrink_py(x))"
   ]
  },
  {
   "cell_type": "code",
   "execution_count": 106,
   "metadata": {},
   "outputs": [
    {
     "data": {
      "text/plain": [
       "[<matplotlib.lines.Line2D at 0x14e5bdd90>]"
      ]
     },
     "execution_count": 106,
     "metadata": {},
     "output_type": "execute_result"
    },
    {
     "data": {
      "image/png": "[encoded data removed]",
      "text/plain": [
       "<Figure size 432x288 with 1 Axes>"
      ]
     },
     "metadata": {
      "needs_background": "light"
     },
     "output_type": "display_data"
    }
   ],
   "source": [
    "plt.plot(x, softshrink_py(x))"
   ]
  },
  {
   "cell_type": "markdown",
   "metadata": {},
   "source": [
    "## tanhshrink"
   ]
  },
  {
   "cell_type": "code",
   "execution_count": 107,
   "metadata": {},
   "outputs": [],
   "source": [
    "#x = np.random.rand(10)\n",
    "#x = np.array(list(range(-10, 10)))\n",
    "x = np.arange(-5, 5, 0.2)"
   ]
  },
  {
   "cell_type": "code",
   "execution_count": 108,
   "metadata": {},
   "outputs": [],
   "source": [
    "def tanhshrink_py(x):\n",
    "    return x - tf.math.tanh(x)"
   ]
  },
  {
   "cell_type": "code",
   "execution_count": 111,
   "metadata": {
    "scrolled": true
   },
   "outputs": [
    {
     "name": "stdout",
     "output_type": "stream",
     "text": [
      "input : [-5.0000000e+00 -4.8000000e+00 -4.6000000e+00 -4.4000000e+00\n",
      " -4.2000000e+00 -4.0000000e+00 -3.8000000e+00 -3.6000000e+00\n",
      " -3.4000000e+00 -3.2000000e+00 -3.0000000e+00 -2.8000000e+00\n",
      " -2.6000000e+00 -2.4000000e+00 -2.2000000e+00 -2.0000000e+00\n",
      " -1.8000000e+00 -1.6000000e+00 -1.4000000e+00 -1.2000000e+00\n",
      " -1.0000000e+00 -8.0000000e-01 -6.0000000e-01 -4.0000000e-01\n",
      " -2.0000000e-01  4.4408921e-15  2.0000000e-01  4.0000000e-01\n",
      "  6.0000000e-01  8.0000000e-01  1.0000000e+00  1.2000000e+00\n",
      "  1.4000000e+00  1.6000000e+00  1.8000000e+00  2.0000000e+00\n",
      "  2.2000000e+00  2.4000000e+00  2.6000000e+00  2.8000000e+00\n",
      "  3.0000000e+00  3.2000000e+00  3.4000000e+00  3.6000000e+00\n",
      "  3.8000000e+00  4.0000000e+00  4.2000000e+00  4.4000000e+00\n",
      "  4.6000000e+00  4.8000000e+00]\n",
      "\n",
      "output : tf.Tensor(\n",
      "[-4.00009080e+00 -3.80013545e+00 -3.60020206e+00 -3.40030142e+00\n",
      " -3.20044963e+00 -3.00067070e+00 -2.80100040e+00 -2.60149206e+00\n",
      " -2.40222507e+00 -2.20331760e+00 -2.00494525e+00 -1.80736848e+00\n",
      " -1.61097260e+00 -1.41632514e+00 -1.22425687e+00 -1.03597242e+00\n",
      " -8.53193987e-01 -6.78331446e-01 -5.14648352e-01 -3.66345393e-01\n",
      " -2.38405844e-01 -1.35963230e-01 -6.29504330e-02 -2.00510377e-02\n",
      " -2.62467978e-03  0.00000000e+00  2.62467978e-03  2.00510377e-02\n",
      "  6.29504330e-02  1.35963230e-01  2.38405844e-01  3.66345393e-01\n",
      "  5.14648352e-01  6.78331446e-01  8.53193987e-01  1.03597242e+00\n",
      "  1.22425687e+00  1.41632514e+00  1.61097260e+00  1.80736848e+00\n",
      "  2.00494525e+00  2.20331760e+00  2.40222507e+00  2.60149206e+00\n",
      "  2.80100040e+00  3.00067070e+00  3.20044963e+00  3.40030142e+00\n",
      "  3.60020206e+00  3.80013545e+00], shape=(50,), dtype=float64)\n"
     ]
    }
   ],
   "source": [
    "print('input :',x)\n",
    "print()\n",
    "print('output :',tanhshrink_py(x))"
   ]
  },
  {
   "cell_type": "code",
   "execution_count": 112,
   "metadata": {},
   "outputs": [
    {
     "data": {
      "text/plain": [
       "[<matplotlib.lines.Line2D at 0x14e887cd0>]"
      ]
     },
     "execution_count": 112,
     "metadata": {},
     "output_type": "execute_result"
    },
    {
     "data": {
      "image/png": "[encoded data removed]",
      "text/plain": [
       "<Figure size 432x288 with 1 Axes>"
      ]
     },
     "metadata": {
      "needs_background": "light"
     },
     "output_type": "display_data"
    }
   ],
   "source": [
    "plt.plot(x, tanhshrink_py(x))"
   ]
  },
  {
   "cell_type": "code",
   "execution_count": null,
   "metadata": {},
   "outputs": [],
   "source": []
  }
 ],
 "metadata": {
  "kernelspec": {
   "display_name": "Python 3.7.5 64-bit ('tf2_env': venv)",
   "language": "python",
   "name": "python37564bittf2envvenv9baad5f63bf544adb456767f347f0830"
  },
  "language_info": {
   "codemirror_mode": {
    "name": "ipython",
    "version": 3
   },
   "file_extension": ".py",
   "mimetype": "text/x-python",
   "name": "python",
   "nbconvert_exporter": "python",
   "pygments_lexer": "ipython3",
   "version": "3.7.5"
  }
 },
 "nbformat": 4,
 "nbformat_minor": 2
}
