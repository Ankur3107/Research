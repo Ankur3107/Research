{
 "cells": [
  {
   "cell_type": "code",
   "execution_count": 1,
   "metadata": {},
   "outputs": [],
   "source": [
    "import tensorflow as tf\n",
    "import sys\n",
    "sys.path.insert(0,'/Users/ankur.kumar/Desktop/Personal/Projects/git projects/SQuAD/models/new_models/')\n",
    "import squad_albert"
   ]
  },
  {
   "cell_type": "code",
   "execution_count": 2,
   "metadata": {},
   "outputs": [],
   "source": [
    "class DummyObject:\n",
    "    def __init__(self,**kwargs):\n",
    "        self.__dict__.update(kwargs)\n",
    "\n",
    "FLAGS=DummyObject(init_checkpoint=None,\n",
    "                 num_train_steps=None,\n",
    "                 max_seq_length=512,\n",
    "                 is_training=True,\n",
    "                 train_batch_size=8,\n",
    "                 n_answer_type = 5,\n",
    "                 weight_decay = 0.01,\n",
    "                 learning_rate = 1e-5,\n",
    "                 adam_epsilon = 1e-07,\n",
    "                 num_warmup_steps= None,\n",
    "                 optimizer = \"AdamWeightDecay\")\n",
    "\n",
    "albert_config = {\n",
    "    \"attention_probs_dropout_prob\": 0.1,\n",
    "    \"hidden_act\": \"gelu\",\n",
    "    \"hidden_dropout_prob\": 0.1,\n",
    "    \"embedding_size\": 128,\n",
    "    \"hidden_size\": 768,\n",
    "    \"initializer_range\": 0.02,\n",
    "    \"intermediate_size\": 3072,\n",
    "    \"max_position_embeddings\": 512,\n",
    "    \"num_attention_heads\": 12,\n",
    "    \"num_hidden_layers\": 12,\n",
    "    \"num_hidden_groups\": 1,\n",
    "    \"net_structure_type\": 0,\n",
    "    \"gap_size\": 0,\n",
    "    \"num_memory_blocks\": 0,\n",
    "    \"inner_group_num\": 1,\n",
    "    \"down_scale_factor\": 1,\n",
    "    \"type_vocab_size\": 2,\n",
    "    \"vocab_size\": 30000\n",
    "}"
   ]
  },
  {
   "cell_type": "code",
   "execution_count": 3,
   "metadata": {},
   "outputs": [
    {
     "name": "stdout",
     "output_type": "stream",
     "text": [
      "input_shape : [<tf.Tensor 'albert_model/word_embeddings/strided_slice:0' shape=() dtype=int32>, 512]\n",
      "flat_input : (None,)\n",
      "output gather : (None, 128)\n",
      "output : (None, 512, 128)\n",
      "input_shapes : (TensorShape([None, 512, 128]), TensorShape([None, 512]))\n",
      "word_embeddings_shape : (None, 512, 128)\n",
      "width : 128\n",
      "inputs : (<tf.Tensor 'albert_model/word_embeddings/Identity_1:0' shape=(None, 512, 128) dtype=float32>, <tf.Tensor 'input_type_ids:0' shape=(None, 512) dtype=int32>)\n",
      "unpacked_inputs : (<tf.Tensor 'albert_model/word_embeddings/Identity_1:0' shape=(None, 512, 128) dtype=float32>, <tf.Tensor 'input_type_ids:0' shape=(None, 512) dtype=int32>)\n",
      "word_embeddings : Tensor(\"albert_model/word_embeddings/Identity_1:0\", shape=(None, 512, 128), dtype=float32)\n",
      "input_shape : [<tf.Tensor 'albert_model/embedding_postprocessor/strided_slice:0' shape=() dtype=int32>, 512, 128]\n",
      "batch_size : Tensor(\"albert_model/embedding_postprocessor/strided_slice:0\", shape=(), dtype=int32)\n",
      "seq_length : 512\n",
      "width : 128\n",
      "output : Tensor(\"albert_model/embedding_postprocessor/add_1:0\", shape=(None, 512, 128), dtype=float32)\n",
      "projected_output : Tensor(\"albert_model/embedding_postprocessor/embedding_hidden_mapping_in/Identity:0\", shape=(None, 512, 768), dtype=float32)\n"
     ]
    }
   ],
   "source": [
    "model = squad_albert.get_model_v1(albert_config, FLAGS)"
   ]
  },
  {
   "cell_type": "code",
   "execution_count": 3,
   "metadata": {},
   "outputs": [
    {
     "name": "stdout",
     "output_type": "stream",
     "text": [
      "input_shapes : (TensorShape([None, 512, 128]), TensorShape([None, 512]))\n",
      "word_embeddings_shape : (None, 512, 128)\n",
      "width : 128\n",
      "inputs : (<tf.Tensor 'albert_model/word_embeddings/Identity_1:0' shape=(None, 512, 128) dtype=float32>, <tf.Tensor 'input_type_ids:0' shape=(None, 512) dtype=int32>)\n",
      "unpacked_inputs : (<tf.Tensor 'albert_model/word_embeddings/Identity_1:0' shape=(None, 512, 128) dtype=float32>, <tf.Tensor 'input_type_ids:0' shape=(None, 512) dtype=int32>)\n",
      "word_embeddings : Tensor(\"albert_model/word_embeddings/Identity_1:0\", shape=(None, 512, 128), dtype=float32)\n",
      "input_shape : [<tf.Tensor 'albert_model/embedding_postprocessor/strided_slice:0' shape=() dtype=int32>, 512, 128]\n",
      "batch_size : Tensor(\"albert_model/embedding_postprocessor/strided_slice:0\", shape=(), dtype=int32)\n",
      "seq_length : 512\n",
      "width : 128\n",
      "output : Tensor(\"albert_model/embedding_postprocessor/add_1:0\", shape=(None, 512, 128), dtype=float32)\n",
      "projected_output : Tensor(\"albert_model/embedding_postprocessor/embedding_hidden_mapping_in/Identity:0\", shape=(None, 512, 768), dtype=float32)\n"
     ]
    }
   ],
   "source": [
    "model = squad_albert.get_model_v1(albert_config, FLAGS)"
   ]
  },
  {
   "cell_type": "code",
   "execution_count": 3,
   "metadata": {},
   "outputs": [
    {
     "name": "stdout",
     "output_type": "stream",
     "text": [
      "input_shape : (None, 512, 128)\n",
      "last_dim : 128\n",
      "self.input_spec : InputSpec(min_ndim=3, axes={-1: 128})\n",
      "inputs : Tensor(\"albert_model/embedding_postprocessor/dropout/Identity:0\", shape=(None, 512, 128), dtype=float32)\n",
      "self.kernel : <tf.Variable 'albert_model/embedding_postprocessor/embedding_hidden_mapping_in/kernel:0' shape=(128, 768) dtype=float32>\n",
      "ret : Tensor(\"albert_model/embedding_postprocessor/embedding_hidden_mapping_in/einsum/Reshape_1:0\", shape=(None, 512, 768), dtype=float32)\n",
      "input_shape : (None, 512, 768)\n",
      "last_dim : 768\n",
      "self.input_spec : InputSpec(min_ndim=3, axes={-1: 768})\n",
      "inputs : Tensor(\"albert_model/encoder/shared_layer/self_attention_layer_norm/Identity:0\", shape=(None, 512, 768), dtype=float32)\n",
      "self.kernel : <tf.Variable 'albert_model/encoder/shared_layer/intermediate/kernel:0' shape=(768, 3072) dtype=float32>\n",
      "ret : Tensor(\"albert_model/encoder/shared_layer/intermediate/einsum/Reshape_1:0\", shape=(None, 512, 3072), dtype=float32)\n",
      "input_shape : (None, 512, 3072)\n",
      "last_dim : 3072\n",
      "self.input_spec : InputSpec(min_ndim=3, axes={-1: 3072})\n",
      "inputs : Tensor(\"albert_model/encoder/shared_layer/intermediate/Identity:0\", shape=(None, 512, 3072), dtype=float32)\n",
      "self.kernel : <tf.Variable 'albert_model/encoder/shared_layer/output/kernel:0' shape=(3072, 768) dtype=float32>\n",
      "ret : Tensor(\"albert_model/encoder/shared_layer/output/einsum/Reshape_1:0\", shape=(None, 512, 768), dtype=float32)\n",
      "inputs : Tensor(\"albert_model/encoder/shared_layer_1/self_attention_layer_norm/Identity:0\", shape=(None, 512, 768), dtype=float32)\n",
      "self.kernel : <tf.Variable 'albert_model/encoder/shared_layer/intermediate/kernel:0' shape=(768, 3072) dtype=float32>\n",
      "ret : Tensor(\"albert_model/encoder/shared_layer_1/intermediate/einsum/Reshape_1:0\", shape=(None, 512, 3072), dtype=float32)\n",
      "inputs : Tensor(\"albert_model/encoder/shared_layer_1/intermediate/Identity:0\", shape=(None, 512, 3072), dtype=float32)\n",
      "self.kernel : <tf.Variable 'albert_model/encoder/shared_layer/output/kernel:0' shape=(3072, 768) dtype=float32>\n",
      "ret : Tensor(\"albert_model/encoder/shared_layer_1/output/einsum/Reshape_1:0\", shape=(None, 512, 768), dtype=float32)\n",
      "inputs : Tensor(\"albert_model/encoder/shared_layer_2/self_attention_layer_norm/Identity:0\", shape=(None, 512, 768), dtype=float32)\n",
      "self.kernel : <tf.Variable 'albert_model/encoder/shared_layer/intermediate/kernel:0' shape=(768, 3072) dtype=float32>\n",
      "ret : Tensor(\"albert_model/encoder/shared_layer_2/intermediate/einsum/Reshape_1:0\", shape=(None, 512, 3072), dtype=float32)\n",
      "inputs : Tensor(\"albert_model/encoder/shared_layer_2/intermediate/Identity:0\", shape=(None, 512, 3072), dtype=float32)\n",
      "self.kernel : <tf.Variable 'albert_model/encoder/shared_layer/output/kernel:0' shape=(3072, 768) dtype=float32>\n",
      "ret : Tensor(\"albert_model/encoder/shared_layer_2/output/einsum/Reshape_1:0\", shape=(None, 512, 768), dtype=float32)\n",
      "inputs : Tensor(\"albert_model/encoder/shared_layer_3/self_attention_layer_norm/Identity:0\", shape=(None, 512, 768), dtype=float32)\n",
      "self.kernel : <tf.Variable 'albert_model/encoder/shared_layer/intermediate/kernel:0' shape=(768, 3072) dtype=float32>\n",
      "ret : Tensor(\"albert_model/encoder/shared_layer_3/intermediate/einsum/Reshape_1:0\", shape=(None, 512, 3072), dtype=float32)\n",
      "inputs : Tensor(\"albert_model/encoder/shared_layer_3/intermediate/Identity:0\", shape=(None, 512, 3072), dtype=float32)\n",
      "self.kernel : <tf.Variable 'albert_model/encoder/shared_layer/output/kernel:0' shape=(3072, 768) dtype=float32>\n",
      "ret : Tensor(\"albert_model/encoder/shared_layer_3/output/einsum/Reshape_1:0\", shape=(None, 512, 768), dtype=float32)\n",
      "inputs : Tensor(\"albert_model/encoder/shared_layer_4/self_attention_layer_norm/Identity:0\", shape=(None, 512, 768), dtype=float32)\n",
      "self.kernel : <tf.Variable 'albert_model/encoder/shared_layer/intermediate/kernel:0' shape=(768, 3072) dtype=float32>\n",
      "ret : Tensor(\"albert_model/encoder/shared_layer_4/intermediate/einsum/Reshape_1:0\", shape=(None, 512, 3072), dtype=float32)\n",
      "inputs : Tensor(\"albert_model/encoder/shared_layer_4/intermediate/Identity:0\", shape=(None, 512, 3072), dtype=float32)\n",
      "self.kernel : <tf.Variable 'albert_model/encoder/shared_layer/output/kernel:0' shape=(3072, 768) dtype=float32>\n",
      "ret : Tensor(\"albert_model/encoder/shared_layer_4/output/einsum/Reshape_1:0\", shape=(None, 512, 768), dtype=float32)\n",
      "inputs : Tensor(\"albert_model/encoder/shared_layer_5/self_attention_layer_norm/Identity:0\", shape=(None, 512, 768), dtype=float32)\n",
      "self.kernel : <tf.Variable 'albert_model/encoder/shared_layer/intermediate/kernel:0' shape=(768, 3072) dtype=float32>\n",
      "ret : Tensor(\"albert_model/encoder/shared_layer_5/intermediate/einsum/Reshape_1:0\", shape=(None, 512, 3072), dtype=float32)\n",
      "inputs : Tensor(\"albert_model/encoder/shared_layer_5/intermediate/Identity:0\", shape=(None, 512, 3072), dtype=float32)\n",
      "self.kernel : <tf.Variable 'albert_model/encoder/shared_layer/output/kernel:0' shape=(3072, 768) dtype=float32>\n",
      "ret : Tensor(\"albert_model/encoder/shared_layer_5/output/einsum/Reshape_1:0\", shape=(None, 512, 768), dtype=float32)\n",
      "inputs : Tensor(\"albert_model/encoder/shared_layer_6/self_attention_layer_norm/Identity:0\", shape=(None, 512, 768), dtype=float32)\n",
      "self.kernel : <tf.Variable 'albert_model/encoder/shared_layer/intermediate/kernel:0' shape=(768, 3072) dtype=float32>\n",
      "ret : Tensor(\"albert_model/encoder/shared_layer_6/intermediate/einsum/Reshape_1:0\", shape=(None, 512, 3072), dtype=float32)\n",
      "inputs : Tensor(\"albert_model/encoder/shared_layer_6/intermediate/Identity:0\", shape=(None, 512, 3072), dtype=float32)\n",
      "self.kernel : <tf.Variable 'albert_model/encoder/shared_layer/output/kernel:0' shape=(3072, 768) dtype=float32>\n",
      "ret : Tensor(\"albert_model/encoder/shared_layer_6/output/einsum/Reshape_1:0\", shape=(None, 512, 768), dtype=float32)\n",
      "inputs : Tensor(\"albert_model/encoder/shared_layer_7/self_attention_layer_norm/Identity:0\", shape=(None, 512, 768), dtype=float32)\n",
      "self.kernel : <tf.Variable 'albert_model/encoder/shared_layer/intermediate/kernel:0' shape=(768, 3072) dtype=float32>\n",
      "ret : Tensor(\"albert_model/encoder/shared_layer_7/intermediate/einsum/Reshape_1:0\", shape=(None, 512, 3072), dtype=float32)\n",
      "inputs : Tensor(\"albert_model/encoder/shared_layer_7/intermediate/Identity:0\", shape=(None, 512, 3072), dtype=float32)\n",
      "self.kernel : <tf.Variable 'albert_model/encoder/shared_layer/output/kernel:0' shape=(3072, 768) dtype=float32>\n",
      "ret : Tensor(\"albert_model/encoder/shared_layer_7/output/einsum/Reshape_1:0\", shape=(None, 512, 768), dtype=float32)\n",
      "inputs : Tensor(\"albert_model/encoder/shared_layer_8/self_attention_layer_norm/Identity:0\", shape=(None, 512, 768), dtype=float32)\n",
      "self.kernel : <tf.Variable 'albert_model/encoder/shared_layer/intermediate/kernel:0' shape=(768, 3072) dtype=float32>\n",
      "ret : Tensor(\"albert_model/encoder/shared_layer_8/intermediate/einsum/Reshape_1:0\", shape=(None, 512, 3072), dtype=float32)\n",
      "inputs : Tensor(\"albert_model/encoder/shared_layer_8/intermediate/Identity:0\", shape=(None, 512, 3072), dtype=float32)\n",
      "self.kernel : <tf.Variable 'albert_model/encoder/shared_layer/output/kernel:0' shape=(3072, 768) dtype=float32>\n",
      "ret : Tensor(\"albert_model/encoder/shared_layer_8/output/einsum/Reshape_1:0\", shape=(None, 512, 768), dtype=float32)\n",
      "inputs : Tensor(\"albert_model/encoder/shared_layer_9/self_attention_layer_norm/Identity:0\", shape=(None, 512, 768), dtype=float32)\n",
      "self.kernel : <tf.Variable 'albert_model/encoder/shared_layer/intermediate/kernel:0' shape=(768, 3072) dtype=float32>\n",
      "ret : Tensor(\"albert_model/encoder/shared_layer_9/intermediate/einsum/Reshape_1:0\", shape=(None, 512, 3072), dtype=float32)\n",
      "inputs : Tensor(\"albert_model/encoder/shared_layer_9/intermediate/Identity:0\", shape=(None, 512, 3072), dtype=float32)\n",
      "self.kernel : <tf.Variable 'albert_model/encoder/shared_layer/output/kernel:0' shape=(3072, 768) dtype=float32>\n",
      "ret : Tensor(\"albert_model/encoder/shared_layer_9/output/einsum/Reshape_1:0\", shape=(None, 512, 768), dtype=float32)\n",
      "inputs : Tensor(\"albert_model/encoder/shared_layer_10/self_attention_layer_norm/Identity:0\", shape=(None, 512, 768), dtype=float32)\n",
      "self.kernel : <tf.Variable 'albert_model/encoder/shared_layer/intermediate/kernel:0' shape=(768, 3072) dtype=float32>\n",
      "ret : Tensor(\"albert_model/encoder/shared_layer_10/intermediate/einsum/Reshape_1:0\", shape=(None, 512, 3072), dtype=float32)\n",
      "inputs : Tensor(\"albert_model/encoder/shared_layer_10/intermediate/Identity:0\", shape=(None, 512, 3072), dtype=float32)\n",
      "self.kernel : <tf.Variable 'albert_model/encoder/shared_layer/output/kernel:0' shape=(3072, 768) dtype=float32>\n",
      "ret : Tensor(\"albert_model/encoder/shared_layer_10/output/einsum/Reshape_1:0\", shape=(None, 512, 768), dtype=float32)\n"
     ]
    },
    {
     "name": "stdout",
     "output_type": "stream",
     "text": [
      "inputs : Tensor(\"albert_model/encoder/shared_layer_11/self_attention_layer_norm/Identity:0\", shape=(None, 512, 768), dtype=float32)\n",
      "self.kernel : <tf.Variable 'albert_model/encoder/shared_layer/intermediate/kernel:0' shape=(768, 3072) dtype=float32>\n",
      "ret : Tensor(\"albert_model/encoder/shared_layer_11/intermediate/einsum/Reshape_1:0\", shape=(None, 512, 3072), dtype=float32)\n",
      "inputs : Tensor(\"albert_model/encoder/shared_layer_11/intermediate/Identity:0\", shape=(None, 512, 3072), dtype=float32)\n",
      "self.kernel : <tf.Variable 'albert_model/encoder/shared_layer/output/kernel:0' shape=(3072, 768) dtype=float32>\n",
      "ret : Tensor(\"albert_model/encoder/shared_layer_11/output/einsum/Reshape_1:0\", shape=(None, 512, 768), dtype=float32)\n"
     ]
    }
   ],
   "source": [
    "model = squad_albert.get_model_v1(albert_config, FLAGS)"
   ]
  },
  {
   "cell_type": "code",
   "execution_count": 4,
   "metadata": {},
   "outputs": [
    {
     "name": "stdout",
     "output_type": "stream",
     "text": [
      "Model: \"squad_model\"\n",
      "__________________________________________________________________________________________________\n",
      "Layer (type)                    Output Shape         Param #     Connected to                     \n",
      "==================================================================================================\n",
      "input_word_ids (InputLayer)     [(None, 512)]        0                                            \n",
      "__________________________________________________________________________________________________\n",
      "input_mask (InputLayer)         [(None, 512)]        0                                            \n",
      "__________________________________________________________________________________________________\n",
      "input_type_ids (InputLayer)     [(None, 512)]        0                                            \n",
      "__________________________________________________________________________________________________\n",
      "albert_model (AlbertModel)      ((None, 768), (None, 11683584    input_word_ids[0][0]             \n",
      "                                                                 input_mask[0][0]                 \n",
      "                                                                 input_type_ids[0][0]             \n",
      "__________________________________________________________________________________________________\n",
      "unique_ids (InputLayer)         [(None, 1)]          0                                            \n",
      "__________________________________________________________________________________________________\n",
      "squad_logits (ALBertSquadLogits ((None, 512), (None, 1538        albert_model[0][1]               \n",
      "==================================================================================================\n",
      "Total params: 11,685,122\n",
      "Trainable params: 11,685,122\n",
      "Non-trainable params: 0\n",
      "__________________________________________________________________________________________________\n"
     ]
    }
   ],
   "source": [
    "model.summary()"
   ]
  },
  {
   "cell_type": "code",
   "execution_count": 5,
   "metadata": {},
   "outputs": [],
   "source": [
    "import numpy as np"
   ]
  },
  {
   "cell_type": "code",
   "execution_count": 12,
   "metadata": {},
   "outputs": [],
   "source": [
    "inputs = np.random.rand(2,5,8)\n",
    "kernel = np.random.rand(8,12)"
   ]
  },
  {
   "cell_type": "code",
   "execution_count": 16,
   "metadata": {},
   "outputs": [],
   "source": [
    "ret = np.einsum(\"abc,cd->abd\", inputs, kernel)"
   ]
  },
  {
   "cell_type": "code",
   "execution_count": 18,
   "metadata": {},
   "outputs": [
    {
     "data": {
      "text/plain": [
       "(2, 5, 12)"
      ]
     },
     "execution_count": 18,
     "metadata": {},
     "output_type": "execute_result"
    }
   ],
   "source": [
    "ret.shape"
   ]
  },
  {
   "cell_type": "code",
   "execution_count": 11,
   "metadata": {},
   "outputs": [
    {
     "data": {
      "text/plain": [
       "array([0.48051715, 0.41687544])"
      ]
     },
     "execution_count": 11,
     "metadata": {},
     "output_type": "execute_result"
    }
   ],
   "source": [
    "np.random.rand()"
   ]
  },
  {
   "cell_type": "code",
   "execution_count": 19,
   "metadata": {},
   "outputs": [],
   "source": [
    "A = np.array([0, 1, 2])\n",
    "\n",
    "B = np.array([[ 0,  1,  2,  3],\n",
    "              [ 4,  5,  6,  7],\n",
    "              [ 8,  9, 10, 11]])"
   ]
  },
  {
   "cell_type": "code",
   "execution_count": 20,
   "metadata": {},
   "outputs": [
    {
     "data": {
      "text/plain": [
       "array([0, 1, 2])"
      ]
     },
     "execution_count": 20,
     "metadata": {},
     "output_type": "execute_result"
    }
   ],
   "source": [
    "A"
   ]
  },
  {
   "cell_type": "code",
   "execution_count": 21,
   "metadata": {},
   "outputs": [
    {
     "data": {
      "text/plain": [
       "array([[ 0,  1,  2,  3],\n",
       "       [ 4,  5,  6,  7],\n",
       "       [ 8,  9, 10, 11]])"
      ]
     },
     "execution_count": 21,
     "metadata": {},
     "output_type": "execute_result"
    }
   ],
   "source": [
    "B"
   ]
  },
  {
   "cell_type": "code",
   "execution_count": 22,
   "metadata": {},
   "outputs": [
    {
     "data": {
      "text/plain": [
       "array([ 0, 22, 76])"
      ]
     },
     "execution_count": 22,
     "metadata": {},
     "output_type": "execute_result"
    }
   ],
   "source": [
    "(A[:, np.newaxis] * B).sum(axis=1)"
   ]
  },
  {
   "cell_type": "code",
   "execution_count": null,
   "metadata": {},
   "outputs": [],
   "source": []
  },
  {
   "cell_type": "code",
   "execution_count": 30,
   "metadata": {},
   "outputs": [
    {
     "data": {
      "text/plain": [
       "(3, 1)"
      ]
     },
     "execution_count": 30,
     "metadata": {},
     "output_type": "execute_result"
    }
   ],
   "source": [
    "np.array(A[:,np.newaxis]).shape"
   ]
  },
  {
   "cell_type": "code",
   "execution_count": 45,
   "metadata": {},
   "outputs": [
    {
     "data": {
      "text/plain": [
       "array([[ 0,  0,  0,  0],\n",
       "       [ 4,  5,  6,  7],\n",
       "       [16, 18, 20, 22]])"
      ]
     },
     "execution_count": 45,
     "metadata": {},
     "output_type": "execute_result"
    }
   ],
   "source": [
    "(A[:,np.newaxis]*B)"
   ]
  },
  {
   "cell_type": "code",
   "execution_count": 47,
   "metadata": {},
   "outputs": [
    {
     "data": {
      "text/plain": [
       "array([ 0, 22, 76])"
      ]
     },
     "execution_count": 47,
     "metadata": {},
     "output_type": "execute_result"
    }
   ],
   "source": [
    "(A[:,np.newaxis]*B).sum(axis=1)"
   ]
  },
  {
   "cell_type": "code",
   "execution_count": 37,
   "metadata": {},
   "outputs": [
    {
     "data": {
      "text/plain": [
       "(3, 4)"
      ]
     },
     "execution_count": 37,
     "metadata": {},
     "output_type": "execute_result"
    }
   ],
   "source": [
    "B.shape"
   ]
  },
  {
   "cell_type": "code",
   "execution_count": 48,
   "metadata": {},
   "outputs": [
    {
     "data": {
      "text/plain": [
       "array([ 0, 22, 76])"
      ]
     },
     "execution_count": 48,
     "metadata": {},
     "output_type": "execute_result"
    }
   ],
   "source": [
    "np.einsum('i,ij->i', A, B)"
   ]
  },
  {
   "cell_type": "code",
   "execution_count": 50,
   "metadata": {},
   "outputs": [
    {
     "data": {
      "text/plain": [
       "array([0, 1, 2])"
      ]
     },
     "execution_count": 50,
     "metadata": {},
     "output_type": "execute_result"
    }
   ],
   "source": [
    "A"
   ]
  },
  {
   "cell_type": "code",
   "execution_count": 51,
   "metadata": {},
   "outputs": [
    {
     "data": {
      "text/plain": [
       "array([[ 0,  1,  2,  3],\n",
       "       [ 4,  5,  6,  7],\n",
       "       [ 8,  9, 10, 11]])"
      ]
     },
     "execution_count": 51,
     "metadata": {},
     "output_type": "execute_result"
    }
   ],
   "source": [
    "B"
   ]
  },
  {
   "cell_type": "code",
   "execution_count": 64,
   "metadata": {},
   "outputs": [
    {
     "data": {
      "text/plain": [
       "3"
      ]
     },
     "execution_count": 64,
     "metadata": {},
     "output_type": "execute_result"
    }
   ],
   "source": [
    "np.einsum('i->', A)"
   ]
  },
  {
   "cell_type": "code",
   "execution_count": 72,
   "metadata": {},
   "outputs": [
    {
     "data": {
      "text/plain": [
       "array([[ 0,  4,  8],\n",
       "       [ 1,  5,  9],\n",
       "       [ 2,  6, 10],\n",
       "       [ 3,  7, 11]])"
      ]
     },
     "execution_count": 72,
     "metadata": {},
     "output_type": "execute_result"
    }
   ],
   "source": [
    "np.einsum('ij->ji', B)"
   ]
  },
  {
   "cell_type": "code",
   "execution_count": 73,
   "metadata": {},
   "outputs": [
    {
     "data": {
      "text/plain": [
       "array([[0, 1, 2],\n",
       "       [3, 4, 5],\n",
       "       [6, 7, 8]])"
      ]
     },
     "execution_count": 73,
     "metadata": {},
     "output_type": "execute_result"
    }
   ],
   "source": [
    "C = np.array([[ 0,  1,  2],\n",
    "              [ 3,  4,  5],\n",
    "              [ 6,  7, 8]])\n",
    "C"
   ]
  },
  {
   "cell_type": "code",
   "execution_count": 69,
   "metadata": {},
   "outputs": [
    {
     "data": {
      "text/plain": [
       "12"
      ]
     },
     "execution_count": 69,
     "metadata": {},
     "output_type": "execute_result"
    }
   ],
   "source": [
    "np.einsum('ii', C)"
   ]
  },
  {
   "cell_type": "code",
   "execution_count": 83,
   "metadata": {},
   "outputs": [
    {
     "data": {
      "text/plain": [
       "array([ 54, 162, 270])"
      ]
     },
     "execution_count": 83,
     "metadata": {},
     "output_type": "execute_result"
    }
   ],
   "source": [
    "np.einsum('ij,jk->i', C, C)"
   ]
  },
  {
   "cell_type": "code",
   "execution_count": 87,
   "metadata": {},
   "outputs": [
    {
     "name": "stdout",
     "output_type": "stream",
     "text": [
      "[0 1 2]\n",
      "[[0 1 2]\n",
      " [3 4 5]\n",
      " [6 7 8]]\n"
     ]
    },
    {
     "data": {
      "text/plain": [
       "array([15, 18, 21])"
      ]
     },
     "execution_count": 87,
     "metadata": {},
     "output_type": "execute_result"
    }
   ],
   "source": [
    "print(A)\n",
    "print(C)\n",
    "np.einsum('i,ij->j', A, C)"
   ]
  },
  {
   "cell_type": "code",
   "execution_count": 88,
   "metadata": {},
   "outputs": [
    {
     "name": "stdout",
     "output_type": "stream",
     "text": [
      "[0 1 2]\n",
      "[[0 1 2]\n",
      " [3 4 5]\n",
      " [6 7 8]]\n"
     ]
    },
    {
     "data": {
      "text/plain": [
       "array([ 0, 12, 42])"
      ]
     },
     "execution_count": 88,
     "metadata": {},
     "output_type": "execute_result"
    }
   ],
   "source": [
    "print(A)\n",
    "print(C)\n",
    "np.einsum('i,ij->i', A, C)"
   ]
  },
  {
   "cell_type": "code",
   "execution_count": null,
   "metadata": {},
   "outputs": [],
   "source": []
  },
  {
   "cell_type": "code",
   "execution_count": 89,
   "metadata": {},
   "outputs": [],
   "source": [
    "A = np.array([0, 1, 2])\n",
    "\n",
    "B = np.array([[ 0,  1,  2,  3],\n",
    "              [ 4,  5,  6,  7],\n",
    "              [ 8,  9, 10, 11]])"
   ]
  },
  {
   "cell_type": "code",
   "execution_count": 91,
   "metadata": {},
   "outputs": [
    {
     "data": {
      "text/plain": [
       "array([ 0, 22, 76])"
      ]
     },
     "execution_count": 91,
     "metadata": {},
     "output_type": "execute_result"
    }
   ],
   "source": [
    "np.einsum('i,ij->i',A,B)"
   ]
  },
  {
   "cell_type": "code",
   "execution_count": 101,
   "metadata": {},
   "outputs": [],
   "source": [
    "C = np.array([[0, 1, 2],\n",
    "               [1, 2, 0],\n",
    "               [1, 0, 2]])"
   ]
  },
  {
   "cell_type": "code",
   "execution_count": 105,
   "metadata": {},
   "outputs": [
    {
     "data": {
      "text/plain": [
       "array([2, 5, 8])"
      ]
     },
     "execution_count": 105,
     "metadata": {},
     "output_type": "execute_result"
    }
   ],
   "source": [
    "np.einsum('ij,ij->j',C,C)"
   ]
  },
  {
   "cell_type": "code",
   "execution_count": 103,
   "metadata": {},
   "outputs": [
    {
     "data": {
      "text/plain": [
       "array([5, 5, 5])"
      ]
     },
     "execution_count": 103,
     "metadata": {},
     "output_type": "execute_result"
    }
   ],
   "source": [
    "np.einsum('ij,ij->i',C,C)"
   ]
  },
  {
   "cell_type": "code",
   "execution_count": null,
   "metadata": {},
   "outputs": [],
   "source": [
    "Matrix-Vector Multiplication: tf.einsum('ij,j->i', mat, vec)\n",
    "Matrix-Transposed-times-Vector: tf.einsum('ji,j->i', mat, vec)\n",
    "Scalar Product: tf.einsum('i,i->', vec1, vec2)\n",
    "Matrix Multiplication: tf.einsum('ij,jk->ik', mat1, mat2)\n",
    "Batched-matrix times matrix: tf.einsum('bij,jk->bik', batched_mat, mat)\n",
    "Batched-matrix times batched-matrix: tf.einsum('bij,bjk->bik', batched_mat1, batched_mat2)\n",
    "Matrix trace: tf.einsum('ii,->', mat)\n",
    "Batched-matrix trace: tf.einsum('bii,->b', mat)\n",
    "Matrix-times-matrix-transposed: tf.einsum('ij,kj->ik', mat1, mat2)\n",
    "Batched matrix L2 norm-squared: tf.einsum('bij,bij->b', mat1, mat1)\n",
    "3-dimensional determinant: tf.einsum('ijk,i"
   ]
  },
  {
   "cell_type": "code",
   "execution_count": null,
   "metadata": {},
   "outputs": [],
   "source": [
    "# https://tensorchiefs.github.io/dlday2018/tutorial/einsum.html\n",
    "# https://stackoverflow.com/questions/26089893/understanding-numpys-einsum"
   ]
  }
 ],
 "metadata": {
  "kernelspec": {
   "display_name": "Python 3",
   "language": "python",
   "name": "python3"
  },
  "language_info": {
   "codemirror_mode": {
    "name": "ipython",
    "version": 3
   },
   "file_extension": ".py",
   "mimetype": "text/x-python",
   "name": "python",
   "nbconvert_exporter": "python",
   "pygments_lexer": "ipython3",
   "version": "3.7.5"
  }
 },
 "nbformat": 4,
 "nbformat_minor": 2
}
