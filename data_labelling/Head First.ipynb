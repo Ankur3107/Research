{
 "cells": [
  {
   "cell_type": "code",
   "execution_count": 1,
   "metadata": {},
   "outputs": [
    {
     "data": {
      "application/vnd.jupyter.widget-view+json": {
       "model_id": "9b822c3f5fcc496d948a3e669a0bedee",
       "version_major": 2,
       "version_minor": 0
      },
      "text/plain": [
       "HTML(value='0 examples annotated, 3 examples left')"
      ]
     },
     "metadata": {},
     "output_type": "display_data"
    },
    {
     "data": {
      "application/vnd.jupyter.widget-view+json": {
       "model_id": "71ec4db385534ef2b60e10a3c1736864",
       "version_major": 2,
       "version_minor": 0
      },
      "text/plain": [
       "HBox(children=(Button(description='positive', style=ButtonStyle()), Button(description='negative', style=Butto…"
      ]
     },
     "metadata": {},
     "output_type": "display_data"
    },
    {
     "data": {
      "application/vnd.jupyter.widget-view+json": {
       "model_id": "c057ac2e0b4b4d3ab55108c7c07ade09",
       "version_major": 2,
       "version_minor": 0
      },
      "text/plain": [
       "Output()"
      ]
     },
     "metadata": {},
     "output_type": "display_data"
    },
    {
     "name": "stdout",
     "output_type": "stream",
     "text": [
      "Annotation done.\n"
     ]
    }
   ],
   "source": [
    "from pigeonXT import annotate\n",
    "annotations = annotate(\n",
    "  ['I love this movie', 'I was really disappointed by the book'],\n",
    "  options=['positive', 'negative', 'inbetween']\n",
    ")"
   ]
  },
  {
   "cell_type": "code",
   "execution_count": 2,
   "metadata": {},
   "outputs": [
    {
     "data": {
      "text/plain": [
       "[('I love this movie', 'negative'),\n",
       " ('I was really disappointed by the book', 'positive')]"
      ]
     },
     "execution_count": 2,
     "metadata": {},
     "output_type": "execute_result"
    }
   ],
   "source": [
    "annotations"
   ]
  },
  {
   "cell_type": "code",
   "execution_count": 3,
   "metadata": {},
   "outputs": [],
   "source": [
    "from pigeonXT import annotate\n",
    "import pandas as pd\n",
    "\n",
    "df = pd.DataFrame([\n",
    "    {'title': 'Star wars'},\n",
    "    {'title': 'The Positively True Adventures of the Alleged Texas Cheerleader-Murdering Mom'},\n",
    "    {'title': 'Eternal Sunshine of the Spotless Mind'},\n",
    "    {'title': 'Dr. Strangelove or: How I Learned to Stop Worrying and Love the Bomb'},\n",
    "    {'title': 'Killer klowns from outer space'},\n",
    "])\n",
    "\n",
    "labels = ['Adventure', 'Romance', 'Fantasy', 'Science fiction', 'Horror', 'Thriller']"
   ]
  },
  {
   "cell_type": "code",
   "execution_count": 4,
   "metadata": {},
   "outputs": [
    {
     "data": {
      "application/vnd.jupyter.widget-view+json": {
       "model_id": "427472cd922f41edbafcee5b6237e0d4",
       "version_major": 2,
       "version_minor": 0
      },
      "text/plain": [
       "HTML(value='0 examples annotated, 6 examples left')"
      ]
     },
     "metadata": {},
     "output_type": "display_data"
    },
    {
     "data": {
      "application/vnd.jupyter.widget-view+json": {
       "model_id": "f8e81faf78f8482d96e32db358831007",
       "version_major": 2,
       "version_minor": 0
      },
      "text/plain": [
       "VBox(children=(HBox(children=(ToggleButton(value=False, description='Adventure'), ToggleButton(value=False, de…"
      ]
     },
     "metadata": {},
     "output_type": "display_data"
    },
    {
     "data": {
      "application/vnd.jupyter.widget-view+json": {
       "model_id": "3811efcbdfa243dcb71531c6179eddd2",
       "version_major": 2,
       "version_minor": 0
      },
      "text/plain": [
       "Output()"
      ]
     },
     "metadata": {},
     "output_type": "display_data"
    },
    {
     "name": "stdout",
     "output_type": "stream",
     "text": [
      "Annotation done.\n"
     ]
    }
   ],
   "source": [
    "annotations = annotate( df.title,\n",
    "                          options=labels,\n",
    "                          task_type='multilabel-classification',\n",
    "                          buttons_in_a_row=3,\n",
    "                          reset_buttons_after_click=True,\n",
    "                          include_skip=True)"
   ]
  },
  {
   "cell_type": "code",
   "execution_count": 5,
   "metadata": {},
   "outputs": [
    {
     "data": {
      "text/plain": [
       "[('Star wars', ['Romance', 'Fantasy']),\n",
       " ('The Positively True Adventures of the Alleged Texas Cheerleader-Murdering Mom',\n",
       "  ['Horror']),\n",
       " ('Eternal Sunshine of the Spotless Mind', ['Romance', 'Horror']),\n",
       " ('Dr. Strangelove or: How I Learned to Stop Worrying and Love the Bomb',\n",
       "  ['Romance', 'Fantasy']),\n",
       " ('Killer klowns from outer space', ['Romance', 'Thriller'])]"
      ]
     },
     "execution_count": 5,
     "metadata": {},
     "output_type": "execute_result"
    }
   ],
   "source": [
    "annotations"
   ]
  },
  {
   "cell_type": "code",
   "execution_count": null,
   "metadata": {},
   "outputs": [],
   "source": []
  }
 ],
 "metadata": {
  "kernelspec": {
   "display_name": "Python 3.7.5 64-bit ('tf2_env': venv)",
   "language": "python",
   "name": "python37564bittf2envvenv9baad5f63bf544adb456767f347f0830"
  },
  "language_info": {
   "codemirror_mode": {
    "name": "ipython",
    "version": 3
   },
   "file_extension": ".py",
   "mimetype": "text/x-python",
   "name": "python",
   "nbconvert_exporter": "python",
   "pygments_lexer": "ipython3",
   "version": "3.7.5"
  }
 },
 "nbformat": 4,
 "nbformat_minor": 2
}
