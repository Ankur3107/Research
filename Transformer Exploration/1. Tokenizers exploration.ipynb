{
 "cells": [
  {
   "cell_type": "code",
   "execution_count": 1,
   "metadata": {},
   "outputs": [],
   "source": [
    "from tokenizers import SentencePieceBPETokenizer\n",
    "import os"
   ]
  },
  {
   "cell_type": "code",
   "execution_count": 2,
   "metadata": {},
   "outputs": [],
   "source": [
    "def to_lower_case(directory):\n",
    "    for filename in os.listdir(directory):\n",
    "        if filename.endswith(\".txt\"):\n",
    "            f = open(filename, 'r')\n",
    "            text = f.read()\n",
    "\n",
    "            lines = [text.lower() for line in filename]\n",
    "            with open(filename, 'w') as out:\n",
    "                out.writelines(lines)"
   ]
  },
  {
   "cell_type": "code",
   "execution_count": 4,
   "metadata": {},
   "outputs": [],
   "source": [
    "#to_lower_case('.')"
   ]
  },
  {
   "cell_type": "markdown",
   "metadata": {},
   "source": [
    "## Train sentence piece model"
   ]
  },
  {
   "cell_type": "code",
   "execution_count": 5,
   "metadata": {},
   "outputs": [],
   "source": [
    "tokenizer = SentencePieceBPETokenizer()"
   ]
  },
  {
   "cell_type": "code",
   "execution_count": 17,
   "metadata": {},
   "outputs": [],
   "source": [
    "special_tokens = ['<unk>','[CLS]','[SEP]','[MASK]','[UNK]']\n",
    "tokenizer.train(['raw.data.txt'], vocab_size=10000, show_progress=True, min_frequency=10,special_tokens=special_tokens)\n",
    "\n"
   ]
  },
  {
   "cell_type": "code",
   "execution_count": 13,
   "metadata": {},
   "outputs": [],
   "source": [
    "tokenizer.train?"
   ]
  },
  {
   "cell_type": "code",
   "execution_count": 16,
   "metadata": {},
   "outputs": [
    {
     "data": {
      "text/plain": [
       "['tokenizer_models/vocab.json', 'tokenizer_models/merges.txt']"
      ]
     },
     "execution_count": 16,
     "metadata": {},
     "output_type": "execute_result"
    }
   ],
   "source": [
    "tokenizer.save(\"tokenizer_models\")"
   ]
  },
  {
   "cell_type": "markdown",
   "metadata": {},
   "source": [
    "## Load model"
   ]
  },
  {
   "cell_type": "code",
   "execution_count": 2,
   "metadata": {},
   "outputs": [],
   "source": [
    "from tokenizers.implementations import SentencePieceBPETokenizer\n",
    "from tokenizers.processors import BertProcessing"
   ]
  },
  {
   "cell_type": "code",
   "execution_count": 3,
   "metadata": {},
   "outputs": [],
   "source": [
    "tokenizer = SentencePieceBPETokenizer(\n",
    "    \"./tokenizer_models/vocab.json\",\n",
    "    \"./tokenizer_models/merges.txt\",\n",
    ")"
   ]
  },
  {
   "cell_type": "code",
   "execution_count": 4,
   "metadata": {},
   "outputs": [
    {
     "data": {
      "text/plain": [
       "4"
      ]
     },
     "execution_count": 4,
     "metadata": {},
     "output_type": "execute_result"
    }
   ],
   "source": []
  },
  {
   "cell_type": "code",
   "execution_count": 9,
   "metadata": {
    "scrolled": true
   },
   "outputs": [],
   "source": [
    "tokens = tokenizer.encode(\"i have a ifa who deals, he seems to do a good job, they are doing good, what ever they promise are working on it\").tokens"
   ]
  },
  {
   "cell_type": "code",
   "execution_count": 10,
   "metadata": {
    "scrolled": true
   },
   "outputs": [
    {
     "data": {
      "text/plain": [
       "['▁i',\n",
       " '▁have',\n",
       " '▁a',\n",
       " '▁ifa',\n",
       " '▁who',\n",
       " '▁deal',\n",
       " 's,',\n",
       " '▁he',\n",
       " '▁seems',\n",
       " '▁to',\n",
       " '▁do',\n",
       " '▁a',\n",
       " '▁good',\n",
       " '▁job',\n",
       " ',',\n",
       " '▁they',\n",
       " '▁are',\n",
       " '▁doing',\n",
       " '▁good,',\n",
       " '▁what',\n",
       " '▁ever',\n",
       " '▁they',\n",
       " '▁promise',\n",
       " '▁are',\n",
       " '▁working',\n",
       " '▁on',\n",
       " '▁it']"
      ]
     },
     "execution_count": 10,
     "metadata": {},
     "output_type": "execute_result"
    }
   ],
   "source": [
    "tokens"
   ]
  },
  {
   "cell_type": "code",
   "execution_count": 14,
   "metadata": {
    "scrolled": true
   },
   "outputs": [
    {
     "data": {
      "text/plain": [
       "[79,\n",
       " 161,\n",
       " 78,\n",
       " 370,\n",
       " 571,\n",
       " 880,\n",
       " 1250,\n",
       " 169,\n",
       " 3125,\n",
       " 125,\n",
       " 215,\n",
       " 78,\n",
       " 123,\n",
       " 1939,\n",
       " 10,\n",
       " 256,\n",
       " 165,\n",
       " 412,\n",
       " 474,\n",
       " 379,\n",
       " 733,\n",
       " 256,\n",
       " 6265,\n",
       " 165,\n",
       " 1045,\n",
       " 164,\n",
       " 170]"
      ]
     },
     "execution_count": 14,
     "metadata": {},
     "output_type": "execute_result"
    }
   ],
   "source": [
    "[tokenizer.token_to_id(token) for token in tokens ]"
   ]
  },
  {
   "cell_type": "code",
   "execution_count": null,
   "metadata": {},
   "outputs": [],
   "source": []
  }
 ],
 "metadata": {
  "kernelspec": {
   "display_name": "Python 3.7.5 64-bit ('tf2_env': venv)",
   "language": "python",
   "name": "python37564bittf2envvenv9baad5f63bf544adb456767f347f0830"
  },
  "language_info": {
   "codemirror_mode": {
    "name": "ipython",
    "version": 3
   },
   "file_extension": ".py",
   "mimetype": "text/x-python",
   "name": "python",
   "nbconvert_exporter": "python",
   "pygments_lexer": "ipython3",
   "version": "3.7.5"
  }
 },
 "nbformat": 4,
 "nbformat_minor": 2
}
