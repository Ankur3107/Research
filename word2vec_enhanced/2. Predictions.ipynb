{
 "cells": [
  {
   "cell_type": "code",
   "execution_count": 2,
   "metadata": {},
   "outputs": [],
   "source": [
    "import word2vec"
   ]
  },
  {
   "cell_type": "code",
   "execution_count": 3,
   "metadata": {},
   "outputs": [],
   "source": [
    "model = word2vec.load('text8.bin')"
   ]
  },
  {
   "cell_type": "code",
   "execution_count": 16,
   "metadata": {},
   "outputs": [
    {
     "data": {
      "text/plain": [
       "array(['</s>', 'the', 'of', ..., 'dakotas', 'nias', 'burlesques'],\n",
       "      dtype='<U78')"
      ]
     },
     "execution_count": 16,
     "metadata": {},
     "output_type": "execute_result"
    }
   ],
   "source": [
    "model.vocab"
   ]
  },
  {
   "cell_type": "code",
   "execution_count": 18,
   "metadata": {},
   "outputs": [
    {
     "data": {
      "text/plain": [
       "array([ 0.02748923,  0.23919708,  0.02195591,  0.09157785,  0.0261496 ,\n",
       "       -0.10176239, -0.01621256,  0.09639552,  0.09420951,  0.12968385])"
      ]
     },
     "execution_count": 18,
     "metadata": {},
     "output_type": "execute_result"
    }
   ],
   "source": [
    "model['cat'][:10]"
   ]
  },
  {
   "cell_type": "code",
   "execution_count": 24,
   "metadata": {},
   "outputs": [
    {
     "data": {
      "text/plain": [
       "[('aa', 'akad', 0.2837815617238358)]"
      ]
     },
     "execution_count": 24,
     "metadata": {},
     "output_type": "execute_result"
    }
   ],
   "source": [
    "model.distance(\"aa\", \"akad\")"
   ]
  },
  {
   "cell_type": "code",
   "execution_count": 33,
   "metadata": {},
   "outputs": [
    {
     "data": {
      "text/plain": [
       "(array([ 2437,  5478, 10309,  7593,  3964,  2391, 10230,  2670,  4812,\n",
       "         9963]),\n",
       " array([0.87441337, 0.83459107, 0.7684943 , 0.76694369, 0.76191212,\n",
       "        0.76134085, 0.76051648, 0.75033266, 0.74804558, 0.74576054]))"
      ]
     },
     "execution_count": 33,
     "metadata": {},
     "output_type": "execute_result"
    }
   ],
   "source": [
    "indexes, metrics = model.similar(\"dog\")\n",
    "indexes, metrics"
   ]
  },
  {
   "cell_type": "code",
   "execution_count": 35,
   "metadata": {},
   "outputs": [
    {
     "data": {
      "text/plain": [
       "array(['cat', 'cow', 'rat', 'goat', 'dogs', 'girl', 'pig', 'bird', 'wolf',\n",
       "       'rabbit'], dtype='<U78')"
      ]
     },
     "execution_count": 35,
     "metadata": {},
     "output_type": "execute_result"
    }
   ],
   "source": [
    "model.vocab[indexes]"
   ]
  },
  {
   "cell_type": "code",
   "execution_count": 36,
   "metadata": {},
   "outputs": [
    {
     "data": {
      "text/plain": [
       "rec.array([('cat', 0.87441337), ('cow', 0.83459107), ('rat', 0.7684943 ),\n",
       "           ('goat', 0.76694369), ('dogs', 0.76191212),\n",
       "           ('girl', 0.76134085), ('pig', 0.76051648),\n",
       "           ('bird', 0.75033266), ('wolf', 0.74804558),\n",
       "           ('rabbit', 0.74576054)],\n",
       "          dtype=[('word', '<U78'), ('metric', '<f8')])"
      ]
     },
     "execution_count": 36,
     "metadata": {},
     "output_type": "execute_result"
    }
   ],
   "source": [
    "model.generate_response(indexes, metrics)"
   ]
  },
  {
   "cell_type": "code",
   "execution_count": 37,
   "metadata": {},
   "outputs": [
    {
     "data": {
      "text/plain": [
       "[('san_francisco', 0.8869802184016746),\n",
       " ('san_diego', 0.8738507622215468),\n",
       " ('las_vegas', 0.8500368812859909),\n",
       " ('seattle', 0.8347074906637988),\n",
       " ('miami', 0.8296917342640956),\n",
       " ('cincinnati', 0.8279102083301084),\n",
       " ('detroit', 0.822962202721755),\n",
       " ('atlanta', 0.8213674713908142),\n",
       " ('chicago', 0.8197389004161545),\n",
       " ('kansas_city', 0.81416289808664)]"
      ]
     },
     "execution_count": 37,
     "metadata": {},
     "output_type": "execute_result"
    }
   ],
   "source": [
    "indexes, metrics = model.similar('los_angeles')\n",
    "model.generate_response(indexes, metrics).tolist()"
   ]
  },
  {
   "cell_type": "code",
   "execution_count": 38,
   "metadata": {},
   "outputs": [
    {
     "data": {
      "text/plain": [
       "(array([1087, 1145, 7523, 1335,  344, 8419, 3141, 6768, 1827, 6329]),\n",
       " array([0.29586283, 0.27214848, 0.27110902, 0.26585524, 0.26363545,\n",
       "        0.26297275, 0.25985049, 0.2596373 , 0.25858349, 0.25772752]))"
      ]
     },
     "execution_count": 38,
     "metadata": {},
     "output_type": "execute_result"
    }
   ],
   "source": [
    "indexes, metrics = model.analogy(pos=['king', 'woman'], neg=['man'])\n",
    "indexes, metrics"
   ]
  },
  {
   "cell_type": "code",
   "execution_count": 39,
   "metadata": {},
   "outputs": [
    {
     "data": {
      "text/plain": [
       "[('queen', 0.2958628265687723),\n",
       " ('prince', 0.27214847789551533),\n",
       " ('empress', 0.2711090224500948),\n",
       " ('wife', 0.2658552439342535),\n",
       " ('son', 0.2636354457279799),\n",
       " ('aragon', 0.2629727495913499),\n",
       " ('monarch', 0.25985048769674796),\n",
       " ('regent', 0.2596373008484851),\n",
       " ('throne', 0.25858349325199576),\n",
       " ('castile', 0.25772752265493104)]"
      ]
     },
     "execution_count": 39,
     "metadata": {},
     "output_type": "execute_result"
    }
   ],
   "source": [
    "model.generate_response(indexes, metrics).tolist()"
   ]
  },
  {
   "cell_type": "code",
   "execution_count": 40,
   "metadata": {},
   "outputs": [],
   "source": [
    "clusters = word2vec.load_clusters('text8-clusters.txt')"
   ]
  },
  {
   "cell_type": "code",
   "execution_count": 49,
   "metadata": {},
   "outputs": [
    {
     "data": {
      "text/plain": [
       "(203,)"
      ]
     },
     "execution_count": 49,
     "metadata": {},
     "output_type": "execute_result"
    }
   ],
   "source": [
    "clusters.get_words_on_cluster(90).shape"
   ]
  },
  {
   "cell_type": "code",
   "execution_count": 50,
   "metadata": {},
   "outputs": [
    {
     "data": {
      "text/plain": [
       "array(['along', 'together', 'associated', 'relations', 'relationship',\n",
       "       'combined', 'connected', 'contrast', 'contact', 'connection'],\n",
       "      dtype='<U29')"
      ]
     },
     "execution_count": 50,
     "metadata": {},
     "output_type": "execute_result"
    }
   ],
   "source": [
    "clusters.get_words_on_cluster(90)[:10]"
   ]
  },
  {
   "cell_type": "code",
   "execution_count": null,
   "metadata": {},
   "outputs": [],
   "source": []
  }
 ],
 "metadata": {
  "kernelspec": {
   "display_name": "Python 3",
   "language": "python",
   "name": "python3"
  },
  "language_info": {
   "codemirror_mode": {
    "name": "ipython",
    "version": 3
   },
   "file_extension": ".py",
   "mimetype": "text/x-python",
   "name": "python",
   "nbconvert_exporter": "python",
   "pygments_lexer": "ipython3",
   "version": "3.7.4"
  }
 },
 "nbformat": 4,
 "nbformat_minor": 2
}
