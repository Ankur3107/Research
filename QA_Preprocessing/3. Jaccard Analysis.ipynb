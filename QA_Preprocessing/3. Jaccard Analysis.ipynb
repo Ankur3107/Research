{
 "cells": [
  {
   "cell_type": "code",
   "execution_count": 1,
   "metadata": {},
   "outputs": [],
   "source": [
    "def jaccard(str1, str2): \n",
    "    \"\"\" Compute Jaccard Score \n",
    "    \"\"\"\n",
    "    a = set(str1.lower().split()) \n",
    "    b = set(str2.lower().split())\n",
    "    c = a.intersection(b)\n",
    "    return float(len(c)) / (len(a) + len(b) - len(c))"
   ]
  },
  {
   "cell_type": "code",
   "execution_count": 9,
   "metadata": {},
   "outputs": [
    {
     "data": {
      "text/plain": [
       "0.0"
      ]
     },
     "execution_count": 9,
     "metadata": {},
     "output_type": "execute_result"
    }
   ],
   "source": [
    "str1='hurts!!'\n",
    "str2='hurts!!!'\n",
    "jaccard(str1, str2)"
   ]
  },
  {
   "cell_type": "code",
   "execution_count": 2,
   "metadata": {},
   "outputs": [],
   "source": [
    "import tensorflow as tf"
   ]
  },
  {
   "cell_type": "code",
   "execution_count": 5,
   "metadata": {},
   "outputs": [],
   "source": [
    "def KSLoss(preds, target):\n",
    "    pred_cdf = tf.math.cumsum(tf.nn.softmax(preds))\n",
    "    target_cdf = tf.math.cumsum(target)\n",
    "    error = (target_cdf - pred_cdf)**2\n",
    "    return tf.reduce_mean(error)"
   ]
  },
  {
   "cell_type": "code",
   "execution_count": 6,
   "metadata": {},
   "outputs": [
    {
     "data": {
      "text/plain": [
       "<tf.Tensor: id=11, shape=(), dtype=float32, numpy=0.11830702>"
      ]
     },
     "execution_count": 6,
     "metadata": {},
     "output_type": "execute_result"
    }
   ],
   "source": [
    "preds = tf.constant([[0.8, 0.2, 0.1, 0.3, 0.2]])\n",
    "target = tf.constant([[1, 0, 0, 0, 0]], dtype=tf.float32)\n",
    "KSLoss(preds,target)"
   ]
  },
  {
   "cell_type": "code",
   "execution_count": 7,
   "metadata": {},
   "outputs": [
    {
     "data": {
      "text/plain": [
       "<tf.Tensor: id=23, shape=(), dtype=float32, numpy=0.17469254>"
      ]
     },
     "execution_count": 7,
     "metadata": {},
     "output_type": "execute_result"
    }
   ],
   "source": [
    "preds = tf.constant([[0.8, 0.2, 0.1, 0.3, 0.2]])\n",
    "target = tf.constant([[0, 1, 0, 0, 0]], dtype=tf.float32)\n",
    "KSLoss(preds,target)"
   ]
  },
  {
   "cell_type": "code",
   "execution_count": 8,
   "metadata": {},
   "outputs": [
    {
     "data": {
      "text/plain": [
       "<tf.Tensor: id=35, shape=(), dtype=float32, numpy=0.18121931>"
      ]
     },
     "execution_count": 8,
     "metadata": {},
     "output_type": "execute_result"
    }
   ],
   "source": [
    "preds = tf.constant([[0.8, 0.2, 0.1, 0.3, 0.2]])\n",
    "target = tf.constant([[0, 0, 1, 0, 0]], dtype=tf.float32)\n",
    "KSLoss(preds,target)"
   ]
  },
  {
   "cell_type": "code",
   "execution_count": 9,
   "metadata": {},
   "outputs": [
    {
     "data": {
      "text/plain": [
       "<tf.Tensor: id=47, shape=(), dtype=float32, numpy=0.1674793>"
      ]
     },
     "execution_count": 9,
     "metadata": {},
     "output_type": "execute_result"
    }
   ],
   "source": [
    "preds = tf.constant([[0.8, 0.2, 0.1, 0.3, 0.2]])\n",
    "target = tf.constant([[0, 0, 0, 1, 0]], dtype=tf.float32)\n",
    "KSLoss(preds,target)"
   ]
  },
  {
   "cell_type": "code",
   "execution_count": 10,
   "metadata": {},
   "outputs": [
    {
     "data": {
      "text/plain": [
       "<tf.Tensor: id=59, shape=(), dtype=float32, numpy=0.17469254>"
      ]
     },
     "execution_count": 10,
     "metadata": {},
     "output_type": "execute_result"
    }
   ],
   "source": [
    "preds = tf.constant([[0.8, 0.2, 0.1, 0.3, 0.2]])\n",
    "target = tf.constant([[0, 0, 0, 0, 1]], dtype=tf.float32)\n",
    "KSLoss(preds,target)"
   ]
  },
  {
   "cell_type": "code",
   "execution_count": 45,
   "metadata": {},
   "outputs": [
    {
     "name": "stdout",
     "output_type": "stream",
     "text": [
      "softmax : tf.Tensor(0.16984604, shape=(), dtype=float32)\n",
      "ksloss : tf.Tensor(0.013068493, shape=(), dtype=float32)\n"
     ]
    }
   ],
   "source": [
    "#logits = [[4.0, 0.0, 0.0], [0.0, 5.0, 1.0]] \n",
    "#labels = [[1.0, 0.0, 0.0], [0.0, 0.8, 0.2]] \n",
    "logits = [[4.0, 2.0, 1.0]] \n",
    "labels = [[1.0, 0.0, 0.0]] \n",
    "print('softmax :',tf.reduce_mean(tf.nn.softmax_cross_entropy_with_logits(labels=labels, logits=logits)))\n",
    "print('ksloss :',KSLoss(logits,labels))"
   ]
  },
  {
   "cell_type": "code",
   "execution_count": 46,
   "metadata": {},
   "outputs": [
    {
     "name": "stdout",
     "output_type": "stream",
     "text": [
      "softmax : tf.Tensor(2.169846, shape=(), dtype=float32)\n",
      "ksloss : tf.Tensor(0.4994682, shape=(), dtype=float32)\n"
     ]
    }
   ],
   "source": [
    "logits = [[4.0, 2.0, 1.0]] \n",
    "labels = [[0.0, 1.0, 0.0]] \n",
    "print('softmax :',tf.reduce_mean(tf.nn.softmax_cross_entropy_with_logits(labels=labels, logits=logits)))\n",
    "print('ksloss :',KSLoss(logits,labels))"
   ]
  },
  {
   "cell_type": "code",
   "execution_count": 47,
   "metadata": {},
   "outputs": [
    {
     "name": "stdout",
     "output_type": "stream",
     "text": [
      "softmax : tf.Tensor(3.169846, shape=(), dtype=float32)\n",
      "ksloss : tf.Tensor(0.5475916, shape=(), dtype=float32)\n"
     ]
    }
   ],
   "source": [
    "logits = [[4.0, 2.0, 1.0]] \n",
    "labels = [[0.0, 0.0, 1.0]] \n",
    "print('softmax :',tf.reduce_mean(tf.nn.softmax_cross_entropy_with_logits(labels=labels, logits=logits)))\n",
    "print('ksloss :',KSLoss(logits,labels))"
   ]
  },
  {
   "cell_type": "code",
   "execution_count": null,
   "metadata": {},
   "outputs": [],
   "source": []
  }
 ],
 "metadata": {
  "kernelspec": {
   "display_name": "Python 3.7.5 64-bit ('tf2_env': venv)",
   "language": "python",
   "name": "python37564bittf2envvenv9baad5f63bf544adb456767f347f0830"
  },
  "language_info": {
   "codemirror_mode": {
    "name": "ipython",
    "version": 3
   },
   "file_extension": ".py",
   "mimetype": "text/x-python",
   "name": "python",
   "nbconvert_exporter": "python",
   "pygments_lexer": "ipython3",
   "version": "3.7.5"
  }
 },
 "nbformat": 4,
 "nbformat_minor": 2
}
