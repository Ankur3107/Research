{
 "cells": [
  {
   "cell_type": "code",
   "execution_count": 1,
   "metadata": {},
   "outputs": [],
   "source": [
    "import os\n",
    "import tensorflow as tf\n",
    "import tensorflow_hub as hub\n",
    "from transformers import BertTokenizer"
   ]
  },
  {
   "cell_type": "code",
   "execution_count": 2,
   "metadata": {},
   "outputs": [],
   "source": [
    "tokenizer = BertTokenizer.from_pretrained('/Users/ankur.kumar/Downloads/tokenizer_tf2_qa')"
   ]
  },
  {
   "cell_type": "code",
   "execution_count": 3,
   "metadata": {},
   "outputs": [],
   "source": [
    "model = hub.load('/Users/ankur.kumar/Downloads/1')"
   ]
  },
  {
   "cell_type": "code",
   "execution_count": 5,
   "metadata": {},
   "outputs": [],
   "source": [
    "questions = [\n",
    "      'How long did it take to find the answer?',\n",
    "      'What\\'s the answer to the great question?',\n",
    "      'What\\'s the name of the computer?']\n",
    "paragraph = '''<p>The computer is named Deep Thought.</p>.\n",
    "                 <p>After 46 million years of training it found the answer.</p>\n",
    "                 <p>However, nobody was amazed. The answer was 42.</p>'''"
   ]
  },
  {
   "cell_type": "code",
   "execution_count": 6,
   "metadata": {},
   "outputs": [],
   "source": [
    "question = questions[0]"
   ]
  },
  {
   "cell_type": "code",
   "execution_count": 7,
   "metadata": {},
   "outputs": [],
   "source": [
    "question_tokens = tokenizer.tokenize(question)\n",
    "paragraph_tokens = tokenizer.tokenize(paragraph)"
   ]
  },
  {
   "cell_type": "code",
   "execution_count": 8,
   "metadata": {},
   "outputs": [
    {
     "data": {
      "text/plain": [
       "['how', 'long', 'did', 'it', 'take', 'to', 'find', 'the', 'answer', '?']"
      ]
     },
     "execution_count": 8,
     "metadata": {},
     "output_type": "execute_result"
    }
   ],
   "source": [
    "question_tokens"
   ]
  },
  {
   "cell_type": "code",
   "execution_count": 9,
   "metadata": {
    "scrolled": true
   },
   "outputs": [
    {
     "data": {
      "text/plain": [
       "['<p>',\n",
       " 'the',\n",
       " 'computer',\n",
       " 'is',\n",
       " 'named',\n",
       " 'deep',\n",
       " 'thought',\n",
       " '.',\n",
       " '</p>',\n",
       " '.',\n",
       " '<p>',\n",
       " 'after',\n",
       " '46',\n",
       " 'million',\n",
       " 'years',\n",
       " 'of',\n",
       " 'training',\n",
       " 'it',\n",
       " 'found',\n",
       " 'the',\n",
       " 'answer',\n",
       " '.',\n",
       " '</p>',\n",
       " '<p>',\n",
       " 'however',\n",
       " ',',\n",
       " 'nobody',\n",
       " 'was',\n",
       " 'amazed',\n",
       " '.',\n",
       " 'the',\n",
       " 'answer',\n",
       " 'was',\n",
       " '42',\n",
       " '.',\n",
       " '</p>']"
      ]
     },
     "execution_count": 9,
     "metadata": {},
     "output_type": "execute_result"
    }
   ],
   "source": [
    "paragraph_tokens"
   ]
  },
  {
   "cell_type": "code",
   "execution_count": 10,
   "metadata": {},
   "outputs": [],
   "source": [
    "tokens = ['[CLS]'] + question_tokens + ['[SEP]'] + paragraph_tokens + ['[SEP]']\n",
    "input_word_ids = tokenizer.convert_tokens_to_ids(tokens)\n",
    "input_mask = [1] * len(input_word_ids)\n",
    "input_type_ids = [0] * (1 + len(question_tokens) + 1) + [1] * (len(paragraph_tokens) + 1)\n",
    "\n",
    "input_word_ids, input_mask, input_type_ids = map(lambda t: tf.expand_dims(\n",
    "    tf.convert_to_tensor(t, dtype=tf.int32), 0), (input_word_ids, input_mask, input_type_ids))"
   ]
  },
  {
   "cell_type": "code",
   "execution_count": 12,
   "metadata": {},
   "outputs": [],
   "source": [
    "outputs = model([input_word_ids, input_mask, input_type_ids])"
   ]
  },
  {
   "cell_type": "code",
   "execution_count": 13,
   "metadata": {},
   "outputs": [],
   "source": [
    "short_start = tf.argmax(outputs[0][0][1:]) + 1\n",
    "short_end = tf.argmax(outputs[1][0][1:]) + 1\n",
    "answer_tokens = tokens[short_start: short_end + 1]"
   ]
  },
  {
   "cell_type": "code",
   "execution_count": 14,
   "metadata": {},
   "outputs": [],
   "source": [
    "answer = tokenizer.convert_tokens_to_string(answer_tokens)"
   ]
  },
  {
   "cell_type": "code",
   "execution_count": 16,
   "metadata": {},
   "outputs": [
    {
     "name": "stdout",
     "output_type": "stream",
     "text": [
      "Question: How long did it take to find the answer?\n",
      "Answer: 46 million years\n"
     ]
    }
   ],
   "source": [
    "print(f'Question: {question}')\n",
    "print(f'Answer: {answer}')"
   ]
  },
  {
   "cell_type": "code",
   "execution_count": null,
   "metadata": {},
   "outputs": [],
   "source": []
  }
 ],
 "metadata": {
  "kernelspec": {
   "display_name": "Python 3.7.5 64-bit ('tf2_env': venv)",
   "language": "python",
   "name": "python37564bittf2envvenv9baad5f63bf544adb456767f347f0830"
  },
  "language_info": {
   "codemirror_mode": {
    "name": "ipython",
    "version": 3
   },
   "file_extension": ".py",
   "mimetype": "text/x-python",
   "name": "python",
   "nbconvert_exporter": "python",
   "pygments_lexer": "ipython3",
   "version": "3.7.5"
  }
 },
 "nbformat": 4,
 "nbformat_minor": 2
}
