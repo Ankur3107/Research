{
 "cells": [
  {
   "cell_type": "code",
   "execution_count": 1,
   "metadata": {},
   "outputs": [],
   "source": [
    "from tensorflow import keras"
   ]
  },
  {
   "cell_type": "code",
   "execution_count": 2,
   "metadata": {},
   "outputs": [],
   "source": [
    "from tensorflow.keras.layers import *"
   ]
  },
  {
   "cell_type": "code",
   "execution_count": 3,
   "metadata": {},
   "outputs": [],
   "source": [
    "from tensorflow.keras.models import *"
   ]
  },
  {
   "cell_type": "code",
   "execution_count": 4,
   "metadata": {},
   "outputs": [],
   "source": [
    "from tensordash.tensordash import Tensordash"
   ]
  },
  {
   "cell_type": "code",
   "execution_count": 5,
   "metadata": {},
   "outputs": [],
   "source": [
    "histories = Tensordash(\n",
    "    ModelName = 'new_sample_model',\n",
    "    email = 'ankur310794@gmail.com', \n",
    "    password = '123456789')"
   ]
  },
  {
   "cell_type": "code",
   "execution_count": 6,
   "metadata": {},
   "outputs": [],
   "source": [
    "model = Sequential()\n",
    "model.add(Dense(32, activation='relu', input_dim=100))\n",
    "model.add(Dense(1, activation='sigmoid'))\n",
    "model.compile(optimizer='rmsprop',\n",
    "              loss='binary_crossentropy',\n",
    "              metrics=['accuracy'])\n",
    "\n",
    "# Generate dummy data\n",
    "import numpy as np\n",
    "data = np.random.random((100000, 100))\n",
    "labels = np.random.randint(2, size=(100000, 1))"
   ]
  },
  {
   "cell_type": "code",
   "execution_count": null,
   "metadata": {},
   "outputs": [],
   "source": []
  },
  {
   "cell_type": "code",
   "execution_count": 7,
   "metadata": {},
   "outputs": [
    {
     "name": "stdout",
     "output_type": "stream",
     "text": [
      "Train on 100000 samples\n",
      "Epoch 1/10\n",
      "100000/100000 [==============================] - 8s 85us/sample - loss: 0.6952 - accuracy: 0.4993\n",
      "Epoch 2/10\n",
      "100000/100000 [==============================] - 7s 71us/sample - loss: 0.6932 - accuracy: 0.4992\n",
      "Epoch 3/10\n",
      "100000/100000 [==============================] - 7s 72us/sample - loss: 0.6932 - accuracy: 0.5005\n",
      "Epoch 4/10\n",
      "100000/100000 [==============================] - 7s 74us/sample - loss: 0.6932 - accuracy: 0.5020\n",
      "Epoch 5/10\n",
      "100000/100000 [==============================] - 7s 72us/sample - loss: 0.6932 - accuracy: 0.5021\n",
      "Epoch 6/10\n",
      "100000/100000 [==============================] - 7s 74us/sample - loss: 0.6932 - accuracy: 0.5021\n",
      "Epoch 7/10\n",
      "100000/100000 [==============================] - 7s 75us/sample - loss: 0.6932 - accuracy: 0.5022\n",
      "Epoch 8/10\n",
      "100000/100000 [==============================] - 7s 74us/sample - loss: 0.6932 - accuracy: 0.5026\n",
      "Epoch 9/10\n",
      "100000/100000 [==============================] - 7s 72us/sample - loss: 0.6932 - accuracy: 0.5007\n",
      "Epoch 10/10\n",
      "100000/100000 [==============================] - 8s 82us/sample - loss: 0.6932 - accuracy: 0.5027\n"
     ]
    },
    {
     "data": {
      "text/plain": [
       "<tensorflow.python.keras.callbacks.History at 0x1474cb5d0>"
      ]
     },
     "execution_count": 7,
     "metadata": {},
     "output_type": "execute_result"
    }
   ],
   "source": [
    "# Train the model, iterating on the data in batches of 32 samples\n",
    "model.fit(data, labels, epochs=10, batch_size=16, callbacks = [histories])"
   ]
  },
  {
   "cell_type": "code",
   "execution_count": null,
   "metadata": {},
   "outputs": [],
   "source": []
  }
 ],
 "metadata": {
  "kernelspec": {
   "display_name": "Python 3.7.5 64-bit ('tf2_env': venv)",
   "language": "python",
   "name": "python37564bittf2envvenv9baad5f63bf544adb456767f347f0830"
  },
  "language_info": {
   "codemirror_mode": {
    "name": "ipython",
    "version": 3
   },
   "file_extension": ".py",
   "mimetype": "text/x-python",
   "name": "python",
   "nbconvert_exporter": "python",
   "pygments_lexer": "ipython3",
   "version": "3.7.5"
  }
 },
 "nbformat": 4,
 "nbformat_minor": 2
}
